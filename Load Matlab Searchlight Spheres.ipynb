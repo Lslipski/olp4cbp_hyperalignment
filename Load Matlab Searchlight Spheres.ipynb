{
 "cells": [
  {
   "cell_type": "code",
   "execution_count": 1,
   "metadata": {},
   "outputs": [
    {
     "name": "stderr",
     "output_type": "stream",
     "text": [
      "/dartfs-hpc/rc/home/1/f0040y1/.local/lib/python2.7/site-packages/mvpa2/testing/tools.py:81: DeprecationWarning: Importing from numpy.testing.decorators is deprecated since numpy 1.15.0, import from numpy.testing instead.\n",
      "  from numpy.testing.decorators import skipif\n",
      "/optnfs/common/miniconda3/envs/anaconda2/lib/python2.7/site-packages/_pytest/mark/structures.py:383: DeprecationWarning: The usage of `cmp` is deprecated and will be removed on or after 2021-06-01.  Please use `eq` and `order` instead.\n",
      "  @attr.s(cmp=False, hash=False)\n"
     ]
    }
   ],
   "source": [
    "import mvpa2.suite as mv\n",
    "from scipy.stats import zscore as sciz, pearsonr\n",
    "import os.path, time\n",
    "import glob\n",
    "from scipy.io import loadmat \n",
    "import numpy as np\n",
    "import pandas as pd\n",
    "import nibabel as nb\n",
    "import h5py\n",
    "from mvpa2.datasets.base import Dataset\n",
    "from mvpa2.misc.surfing.queryengine import SurfaceQueryEngine\n",
    "from mvpa2.support.nibabel.surf import read as read_surface\n",
    "from mvpa2.datasets.mri import fmri_dataset\n",
    "from mvpa2.misc.neighborhood import IndexQueryEngine, Sphere\n",
    "from mvpa2.datasets.base import mask_mapper\n",
    "import mvpa2.misc.surfing.volume_mask_dict as volmask\n",
    "from mvpa2.algorithms.searchlight_hyperalignment import SearchlightHyperalignment\n",
    "from mvpa2.mappers.zscore import zscore\n",
    "from mvpa2.base.hdf5 import h5save, h5load\n",
    "from scipy.spatial.distance import pdist, cdist\n",
    "import matplotlib.pyplot as plt\n"
   ]
  },
  {
   "cell_type": "markdown",
   "metadata": {},
   "source": [
    "## Set Paths"
   ]
  },
  {
   "cell_type": "code",
   "execution_count": 2,
   "metadata": {},
   "outputs": [],
   "source": [
    "helperfiles = '/dartfs-hpc/rc/home/1/f0040y1/CANlab/labdata/data/OLP4CBP_old_2019_lukesIsUpdating/hyperalignment/helperfiles/'\n",
    "chamats = '/dartfs-hpc/rc/home/1/f0040y1/CANlab/labdata/data/OLP4CBP_old_2019_lukesIsUpdating/hyperalignment/CHA_matrices/'\n",
    "logdir = '/dartfs-hpc/rc/home/1/f0040y1/CANlab/labdata/data/OLP4CBP_old_2019_lukesIsUpdating/hyperalignment/log/'\n",
    "scriptsdir = '/dartfs-hpc/rc/home/1/f0040y1/CANlab/labdata/data/OLP4CBP_old_2019_lukesIsUpdating/hyperalignment/scripts/'\n",
    "basedir = '/dartfs-hpc/rc/home/1/f0040y1/CANlab/labdata/data/OLP4CBP_old_2019_lukesIsUpdating/hyperalignment/'\n",
    "mapdir = '/dartfs-hpc/rc/home/1/f0040y1/CANlab/labdata/data/OLP4CBP_old_2019_lukesIsUpdating/hyperalignment/transformation_matrices/'\n",
    "resultsdir = '/dartfs-hpc/rc/home/1/f0040y1/CANlab/labdata/data/OLP4CBP_old_2019_lukesIsUpdating/hyperalignment/isc_results'"
   ]
  },
  {
   "cell_type": "markdown",
   "metadata": {},
   "source": [
    "## Load Template to create Query Engine"
   ]
  },
  {
   "cell_type": "code",
   "execution_count": 3,
   "metadata": {},
   "outputs": [
    {
     "name": "stdout",
     "output_type": "stream",
     "text": [
      "WARNING: Detected incorrect (nan) scl_ fields. Resetting to scl_slope=1.0 and scl_inter=0.0\n",
      " * Please note: warnings are printed only once, but underlying problem might occur many times *\n"
     ]
    },
    {
     "data": {
      "text/plain": [
       "170804"
      ]
     },
     "execution_count": 3,
     "metadata": {},
     "output_type": "execute_result"
    }
   ],
   "source": [
    "# load nifti as a pymvpa dataset and then use that as ref_ds in the queryengine definition\n",
    "# mask with mymask\n",
    "#ref_ds = fmri_dataset(os.path.join(helperfiles,'olp4cbp_qe_template.nii'), mask=os.path.join(helperfiles,'brainmask.nii'))\n",
    "ref_ds = fmri_dataset(os.path.join(helperfiles,'brainmask.nii'), mask=os.path.join(helperfiles,'brainmask.nii'))\n",
    "\n",
    "len(ref_ds.fa.voxel_indices)\n"
   ]
  },
  {
   "cell_type": "code",
   "execution_count": 4,
   "metadata": {},
   "outputs": [],
   "source": [
    "# set searchlight sphere radius\n",
    "sl_radius = 3.0\n",
    "\n",
    "#create query engine\n",
    "qe = IndexQueryEngine(voxel_indices=Sphere(sl_radius))\n",
    "qe.train(ref_ds)"
   ]
  },
  {
   "cell_type": "markdown",
   "metadata": {},
   "source": [
    "## Load Subjects for Hyperalignning"
   ]
  },
  {
   "cell_type": "code",
   "execution_count": 3,
   "metadata": {},
   "outputs": [],
   "source": [
    "# number of subjects connectomes to pull in\n",
    "# specify number of targets in connectome\n",
    "nsubs = 202\n",
    "cnx_tx = 489"
   ]
  },
  {
   "cell_type": "code",
   "execution_count": 6,
   "metadata": {},
   "outputs": [],
   "source": [
    "nfiles = glob.glob(os.path.join(chamats, 'ses1_only', '*'))\n",
    "mysubs = nfiles[0:nsubs]"
   ]
  },
  {
   "cell_type": "code",
   "execution_count": 138,
   "metadata": {},
   "outputs": [
    {
     "data": {
      "text/plain": [
       "'/dartfs-hpc/rc/home/1/f0040y1/CANlab/labdata/data/OLP4CBP_old_2019_lukesIsUpdating/hyperalignment/CHA_matrices/ses1_only/sub-M80399870_ses-1_task-sponpain_space-MNI152NLin2009cAsym_desc-preproc-cleaned_bold_CHA_matrix.npy'"
      ]
     },
     "execution_count": 138,
     "metadata": {},
     "output_type": "execute_result"
    }
   ],
   "source": [
    "mysubs[201]"
   ]
  },
  {
   "cell_type": "code",
   "execution_count": 139,
   "metadata": {},
   "outputs": [
    {
     "data": {
      "text/plain": [
       "201"
      ]
     },
     "execution_count": 139,
     "metadata": {},
     "output_type": "execute_result"
    }
   ],
   "source": [
    "max(range(202))"
   ]
  },
  {
   "cell_type": "code",
   "execution_count": 7,
   "metadata": {},
   "outputs": [],
   "source": [
    "# import connectomes into pymvpa dataset, zscore, then add chunks and voxel indices\n",
    "\n",
    "# ds = None\n",
    "# for sub in range(len(mysubs)):\n",
    "#     d = mv.Dataset(np.load(mysubs[sub]))\n",
    "#     mv.zscore(d, chunks_attr=None)\n",
    "#     mv.remove_invariant_features(d)\n",
    "#     print(d.shape)\n",
    "#     if ds is None:\n",
    "#         ds = d\n",
    "#     else:      \n",
    "#         ds = mv.vstack((ds,d))\n",
    "# ds.shape"
   ]
  },
  {
   "cell_type": "code",
   "execution_count": 7,
   "metadata": {},
   "outputs": [],
   "source": [
    "# import connectomes into pymvpa dataset, zscore, then add chunks and voxel indices, append to list of datsets\n",
    "\n",
    "dss = []\n",
    "for sub in range(len(mysubs)):\n",
    "    ds = mv.Dataset(np.load(mysubs[sub]))\n",
    "    ds.fa['voxel_indices'] = range(ds.shape[1])\n",
    "    #ds.sa['chunks'] = np.repeat(i,cnx_tx)\n",
    "    mv.zscore(ds, chunks_attr=None)\n",
    "    dss.append(ds)\n"
   ]
  },
  {
   "cell_type": "code",
   "execution_count": 8,
   "metadata": {},
   "outputs": [
    {
     "name": "stdout",
     "output_type": "stream",
     "text": [
      "dss sizes\n",
      "202\n",
      "(489, 170804)\n"
     ]
    }
   ],
   "source": [
    "print('dss sizes')\n",
    "print(len(dss))\n",
    "print(dss[0].shape)"
   ]
  },
  {
   "cell_type": "code",
   "execution_count": 14,
   "metadata": {},
   "outputs": [],
   "source": [
    "# cs = None\n",
    "# for i in range(len(mysubs)):\n",
    "#     thischunk = np.repeat(i,cnx_tx)\n",
    "#     if cs is None:\n",
    "#         cs = thischunk\n",
    "#     else:\n",
    "#         cs= np.hstack((cs, thischunk))\n",
    "    \n",
    "\n",
    "# ds.sa['chunks'] = cs\n",
    "# ds.fa['voxel_indices'] = range(ds.shape[1])\n",
    "# ds.shape"
   ]
  },
  {
   "cell_type": "code",
   "execution_count": 15,
   "metadata": {},
   "outputs": [],
   "source": [
    "# print('ds Shape: ', ds.shape)\n",
    "# print('Size of voxel_indices: ', len(ds.fa.voxel_indices))\n",
    "# print('Size of chunks: ', len(ds.sa.chunks))"
   ]
  },
  {
   "cell_type": "markdown",
   "metadata": {},
   "source": [
    "## Run Hyperalignment"
   ]
  },
  {
   "cell_type": "code",
   "execution_count": 16,
   "metadata": {},
   "outputs": [],
   "source": [
    "# create SL hyperalignment instance\n",
    "hyper = SearchlightHyperalignment(\n",
    "    queryengine=qe,\n",
    "    compute_recon=False, # We don't need to project back from common space to subject space\n",
    "    nproc=1, \n",
    ")"
   ]
  },
  {
   "cell_type": "code",
   "execution_count": 17,
   "metadata": {},
   "outputs": [
    {
     "ename": "RuntimeError",
     "evalue": "The 'pprocess' module is required for multiprocess searchlights. Please either install python-pprocess, or reduce `nproc` to 1 (got nproc=16) or set to default None",
     "output_type": "error",
     "traceback": [
      "\u001b[0;31m---------------------------------------------------------------------------\u001b[0m",
      "\u001b[0;31mRuntimeError\u001b[0m                              Traceback (most recent call last)",
      "\u001b[0;32m<ipython-input-17-4a73c21b93c5>\u001b[0m in \u001b[0;36m<module>\u001b[0;34m()\u001b[0m\n\u001b[1;32m     13\u001b[0m     \u001b[0mnproc\u001b[0m\u001b[0;34m=\u001b[0m\u001b[0mN_JOBS\u001b[0m\u001b[0;34m,\u001b[0m\u001b[0;34m\u001b[0m\u001b[0m\n\u001b[1;32m     14\u001b[0m     \u001b[0mnblocks\u001b[0m\u001b[0;34m=\u001b[0m\u001b[0mN_BLOCKS\u001b[0m\u001b[0;34m,\u001b[0m\u001b[0;34m\u001b[0m\u001b[0m\n\u001b[0;32m---> 15\u001b[0;31m     \u001b[0mdtype\u001b[0m \u001b[0;34m=\u001b[0m\u001b[0;34m'float64'\u001b[0m\u001b[0;34m\u001b[0m\u001b[0m\n\u001b[0m\u001b[1;32m     16\u001b[0m )\n\u001b[1;32m     17\u001b[0m \u001b[0;34m\u001b[0m\u001b[0m\n",
      "\u001b[0;32m/dartfs-hpc/rc/home/1/f0040y1/.local/lib/python2.7/site-packages/mvpa2/algorithms/searchlight_hyperalignment.pyc\u001b[0m in \u001b[0;36m__init__\u001b[0;34m(self, **kwargs)\u001b[0m\n\u001b[1;32m    348\u001b[0m                                \u001b[0;34m\"install python-pprocess, or reduce `nproc` \"\u001b[0m\u001b[0;34m\u001b[0m\u001b[0m\n\u001b[1;32m    349\u001b[0m                                \u001b[0;34m\"to 1 (got nproc=%i) or set to default None\"\u001b[0m\u001b[0;34m\u001b[0m\u001b[0m\n\u001b[0;32m--> 350\u001b[0;31m                                % self.params.nproc)\n\u001b[0m\u001b[1;32m    351\u001b[0m         \u001b[0;32mif\u001b[0m \u001b[0;32mnot\u001b[0m \u001b[0mexternals\u001b[0m\u001b[0;34m.\u001b[0m\u001b[0mexists\u001b[0m\u001b[0;34m(\u001b[0m\u001b[0;34m'scipy'\u001b[0m\u001b[0;34m)\u001b[0m\u001b[0;34m:\u001b[0m\u001b[0;34m\u001b[0m\u001b[0m\n\u001b[1;32m    352\u001b[0m             raise RuntimeError(\"The 'scipy' module is required for \"\n",
      "\u001b[0;31mRuntimeError\u001b[0m: The 'pprocess' module is required for multiprocess searchlights. Please either install python-pprocess, or reduce `nproc` to 1 (got nproc=16) or set to default None"
     ]
    }
   ],
   "source": [
    "# constants \n",
    "N_JOBS=16\n",
    "N_BLOCKS=128\n",
    "HYPERALIGNMENT_RADIUS=5\n",
    "\n",
    "sl_radius = HYPERALIGNMENT_RADIUS\n",
    "qe = IndexQueryEngine(voxel_indices=Sphere(sl_radius))\n",
    "qe.train(ref_ds)\n",
    "\n",
    "hyper = SearchlightHyperalignment(\n",
    "    queryengine=qe,\n",
    "    compute_recon=False, # We don't need to project back from common space to subject space\n",
    "    nproc=N_JOBS, \n",
    "    nblocks=N_BLOCKS,\n",
    "    dtype ='float64'\n",
    ")\n",
    "\n",
    "maps = hyper(dss)"
   ]
  },
  {
   "cell_type": "code",
   "execution_count": 18,
   "metadata": {},
   "outputs": [
    {
     "name": "stdout",
     "output_type": "stream",
     "text": [
      "WARNING: Using 0th dataset as the reference dataset (0th after excluding datasets)\n",
      "could not save hdf5 mappers\n",
      "-------- time elapsed: 01:15:33 --------\n",
      "saving at location: /dartfs-hpc/rc/home/1/f0040y1/CANlab/labdata/data/OLP4CBP_old_2019_lukesIsUpdating/hyperalignment/transformation_matrices\n"
     ]
    },
    {
     "name": "stderr",
     "output_type": "stream",
     "text": [
      "/optnfs/common/miniconda3/envs/anaconda2/lib/python2.7/site-packages/numpy/lib/type_check.py:546: DeprecationWarning: np.asscalar(a) is deprecated since NumPy v1.16, use a.item() instead\n",
      "  'a.item() instead', DeprecationWarning, stacklevel=1)\n"
     ]
    }
   ],
   "source": [
    "toutdir = os.path.join(basedir, 'transformation_matrices', 'olp4cbp_mappers' +'_' + str(len(mysubs)) + '_'+'subs_'+ '.hdf5.gz')\n",
    "t0 = time.time()\n",
    "mappers = hyper(dss)\n",
    "\n",
    "try:\n",
    "    h5save(toutdir, mappers)\n",
    "    print('saved hdf5 mappers')\n",
    "except: \n",
    "    print('could not save hdf5 mappers')\n",
    "\n",
    "elapsed = time.time()-t0\n",
    "print('-------- time elapsed: {elapsed} --------'.format(elapsed=(time.strftime(\"%H:%M:%S\",time.gmtime(elapsed)))))\n",
    "print('saving at location: {0}'.format(toutdir))"
   ]
  },
  {
   "cell_type": "code",
   "execution_count": 37,
   "metadata": {},
   "outputs": [],
   "source": [
    "toutdir = os.path.join(basedir, 'transformation_matrices', 'olp4cbp_mappers' +'_' + str(len(mysubs)) + '_'+'subs'+ '.hdf5.gz')\n",
    "h5save(toutdir, mappers)"
   ]
  },
  {
   "cell_type": "markdown",
   "metadata": {},
   "source": [
    "## Benchmark ISCs"
   ]
  },
  {
   "cell_type": "code",
   "execution_count": 167,
   "metadata": {},
   "outputs": [
    {
     "data": {
      "text/plain": [
       "(489, 170804)"
      ]
     },
     "execution_count": 167,
     "metadata": {},
     "output_type": "execute_result"
    }
   ],
   "source": [
    "ds.shape"
   ]
  },
  {
   "cell_type": "code",
   "execution_count": null,
   "metadata": {},
   "outputs": [
    {
     "name": "stdout",
     "output_type": "stream",
     "text": [
      "202\n",
      "(489, 170804)\n"
     ]
    },
    {
     "name": "stderr",
     "output_type": "stream",
     "text": [
      "/optnfs/common/miniconda3/envs/anaconda2/lib/python2.7/site-packages/numpy/lib/type_check.py:546: DeprecationWarning: np.asscalar(a) is deprecated since NumPy v1.16, use a.item() instead\n",
      "  'a.item() instead', DeprecationWarning, stacklevel=1)\n"
     ]
    }
   ],
   "source": [
    "print(len(dss))\n",
    "print(dss[0].shape)\n",
    "mappers = h5load(os.path.join(mapdir,'olp4cbp_mappers_202_subs.hdf5.gz'))\n",
    "dss_aligned = [mapper.forward(ds) for ds, mapper in zip(dss, mappers)]\n",
    "print(len(mappers))\n",
    "print(dss_aligned[0].shape)\n"
   ]
  },
  {
   "cell_type": "code",
   "execution_count": null,
   "metadata": {},
   "outputs": [],
   "source": []
  },
  {
   "cell_type": "code",
   "execution_count": 140,
   "metadata": {},
   "outputs": [],
   "source": [
    "def compute_average_similarity(dss, metric='correlation'):\n",
    "    \"\"\"\n",
    "    Returns\n",
    "    =======\n",
    "    sim : ndarray\n",
    "        A 1-D array with n_features elements, each element is the average\n",
    "        pairwise correlation similarity on the corresponding feature.\n",
    "    \"\"\"\n",
    "    n_features = dss[0].shape[1]\n",
    "    sim = np.zeros((n_features, ))\n",
    "    for i in range(n_features):\n",
    "        data = np.array([ds.samples[:, i] for ds in dss])\n",
    "        dist = pdist(data, metric)\n",
    "        sim[i] = 1 - dist.mean()\n",
    "    return sim"
   ]
  },
  {
   "cell_type": "code",
   "execution_count": 151,
   "metadata": {},
   "outputs": [
    {
     "name": "stdout",
     "output_type": "stream",
     "text": [
      "-------- time elapsed: 00:00:51 --------\n"
     ]
    }
   ],
   "source": [
    "t0 = time.time()\n",
    "\n",
    "a = mv.Dataset(np.random.rand(490, 170804))\n",
    "b = mv.Dataset(np.random.rand(490,170804))\n",
    "c = mv.Dataset(np.random.rand(490, 170804))\n",
    "d = mv.Dataset(np.random.rand(490,170804))\n",
    "e = mv.Dataset(np.random.rand(490, 170804))\n",
    "f = mv.Dataset(np.random.rand(490,170804))\n",
    "g = mv.Dataset(np.random.rand(490, 170804))\n",
    "h = mv.Dataset(np.random.rand(490,170804))\n",
    "i = mv.Dataset(np.random.rand(490, 170804))\n",
    "j = mv.Dataset(np.random.rand(490,170804))\n",
    "\n",
    "tds = [a,b,c,d,e,f,g,h,i,j]\n",
    "s = compute_average_similarity(tds)\n",
    "\n",
    "elapsed = time.time()-t0\n",
    "print('-------- time elapsed: {elapsed} --------'.format(elapsed=(time.strftime(\"%H:%M:%S\",time.gmtime(elapsed)))))"
   ]
  },
  {
   "cell_type": "code",
   "execution_count": 168,
   "metadata": {},
   "outputs": [
    {
     "ename": "KeyboardInterrupt",
     "evalue": "",
     "output_type": "error",
     "traceback": [
      "\u001b[0;31m---------------------------------------------------------------------------\u001b[0m",
      "\u001b[0;31mKeyboardInterrupt\u001b[0m                         Traceback (most recent call last)",
      "\u001b[0;32m<ipython-input-168-d75b5401abf6>\u001b[0m in \u001b[0;36m<module>\u001b[0;34m()\u001b[0m\n\u001b[0;32m----> 1\u001b[0;31m \u001b[0mz\u001b[0m \u001b[0;34m=\u001b[0m \u001b[0mcompute_average_similarity\u001b[0m\u001b[0;34m(\u001b[0m\u001b[0mds\u001b[0m\u001b[0;34m)\u001b[0m\u001b[0;34m\u001b[0m\u001b[0m\n\u001b[0m",
      "\u001b[0;32m<ipython-input-140-7ff67882d318>\u001b[0m in \u001b[0;36mcompute_average_similarity\u001b[0;34m(dss, metric)\u001b[0m\n\u001b[1;32m     10\u001b[0m     \u001b[0msim\u001b[0m \u001b[0;34m=\u001b[0m \u001b[0mnp\u001b[0m\u001b[0;34m.\u001b[0m\u001b[0mzeros\u001b[0m\u001b[0;34m(\u001b[0m\u001b[0;34m(\u001b[0m\u001b[0mn_features\u001b[0m\u001b[0;34m,\u001b[0m \u001b[0;34m)\u001b[0m\u001b[0;34m)\u001b[0m\u001b[0;34m\u001b[0m\u001b[0m\n\u001b[1;32m     11\u001b[0m     \u001b[0;32mfor\u001b[0m \u001b[0mi\u001b[0m \u001b[0;32min\u001b[0m \u001b[0mrange\u001b[0m\u001b[0;34m(\u001b[0m\u001b[0mn_features\u001b[0m\u001b[0;34m)\u001b[0m\u001b[0;34m:\u001b[0m\u001b[0;34m\u001b[0m\u001b[0m\n\u001b[0;32m---> 12\u001b[0;31m         \u001b[0mdata\u001b[0m \u001b[0;34m=\u001b[0m \u001b[0mnp\u001b[0m\u001b[0;34m.\u001b[0m\u001b[0marray\u001b[0m\u001b[0;34m(\u001b[0m\u001b[0;34m[\u001b[0m\u001b[0mds\u001b[0m\u001b[0;34m.\u001b[0m\u001b[0msamples\u001b[0m\u001b[0;34m[\u001b[0m\u001b[0;34m:\u001b[0m\u001b[0;34m,\u001b[0m \u001b[0mi\u001b[0m\u001b[0;34m]\u001b[0m \u001b[0;32mfor\u001b[0m \u001b[0mds\u001b[0m \u001b[0;32min\u001b[0m \u001b[0mdss\u001b[0m\u001b[0;34m]\u001b[0m\u001b[0;34m)\u001b[0m\u001b[0;34m\u001b[0m\u001b[0m\n\u001b[0m\u001b[1;32m     13\u001b[0m         \u001b[0mdist\u001b[0m \u001b[0;34m=\u001b[0m \u001b[0mpdist\u001b[0m\u001b[0;34m(\u001b[0m\u001b[0mdata\u001b[0m\u001b[0;34m,\u001b[0m \u001b[0mmetric\u001b[0m\u001b[0;34m)\u001b[0m\u001b[0;34m\u001b[0m\u001b[0m\n\u001b[1;32m     14\u001b[0m         \u001b[0msim\u001b[0m\u001b[0;34m[\u001b[0m\u001b[0mi\u001b[0m\u001b[0;34m]\u001b[0m \u001b[0;34m=\u001b[0m \u001b[0;36m1\u001b[0m \u001b[0;34m-\u001b[0m \u001b[0mdist\u001b[0m\u001b[0;34m.\u001b[0m\u001b[0mmean\u001b[0m\u001b[0;34m(\u001b[0m\u001b[0;34m)\u001b[0m\u001b[0;34m\u001b[0m\u001b[0m\n",
      "\u001b[0;32m/dartfs-hpc/rc/home/1/f0040y1/.local/lib/python2.7/site-packages/mvpa2/datasets/base.pyc\u001b[0m in \u001b[0;36m__getitem__\u001b[0;34m(self, args)\u001b[0m\n\u001b[1;32m    134\u001b[0m \u001b[0;34m\u001b[0m\u001b[0m\n\u001b[1;32m    135\u001b[0m         \u001b[0;31m# let the base do the work\u001b[0m\u001b[0;34m\u001b[0m\u001b[0;34m\u001b[0m\u001b[0m\n\u001b[0;32m--> 136\u001b[0;31m         \u001b[0mds\u001b[0m \u001b[0;34m=\u001b[0m \u001b[0msuper\u001b[0m\u001b[0;34m(\u001b[0m\u001b[0mDataset\u001b[0m\u001b[0;34m,\u001b[0m \u001b[0mself\u001b[0m\u001b[0;34m)\u001b[0m\u001b[0;34m.\u001b[0m\u001b[0m__getitem__\u001b[0m\u001b[0;34m(\u001b[0m\u001b[0margs\u001b[0m\u001b[0;34m)\u001b[0m\u001b[0;34m\u001b[0m\u001b[0m\n\u001b[0m\u001b[1;32m    137\u001b[0m \u001b[0;34m\u001b[0m\u001b[0m\n\u001b[1;32m    138\u001b[0m         \u001b[0;31m# and adjusting the mapper (if any)\u001b[0m\u001b[0;34m\u001b[0m\u001b[0;34m\u001b[0m\u001b[0m\n",
      "\u001b[0;32m/dartfs-hpc/rc/home/1/f0040y1/.local/lib/python2.7/site-packages/mvpa2/base/dataset.pyc\u001b[0m in \u001b[0;36m__getitem__\u001b[0;34m(self, args)\u001b[0m\n\u001b[1;32m    440\u001b[0m         \u001b[0;32mif\u001b[0m \u001b[0misinstance\u001b[0m\u001b[0;34m(\u001b[0m\u001b[0mself\u001b[0m\u001b[0;34m.\u001b[0m\u001b[0msamples\u001b[0m\u001b[0;34m,\u001b[0m \u001b[0mnp\u001b[0m\u001b[0;34m.\u001b[0m\u001b[0mndarray\u001b[0m\u001b[0;34m)\u001b[0m\u001b[0;34m:\u001b[0m\u001b[0;34m\u001b[0m\u001b[0m\n\u001b[1;32m    441\u001b[0m             \u001b[0;32mif\u001b[0m \u001b[0mnp\u001b[0m\u001b[0;34m.\u001b[0m\u001b[0many\u001b[0m\u001b[0;34m(\u001b[0m\u001b[0;34m[\u001b[0m\u001b[0misinstance\u001b[0m\u001b[0;34m(\u001b[0m\u001b[0ma\u001b[0m\u001b[0;34m,\u001b[0m \u001b[0mslice\u001b[0m\u001b[0;34m)\u001b[0m \u001b[0;32mfor\u001b[0m \u001b[0ma\u001b[0m \u001b[0;32min\u001b[0m \u001b[0margs\u001b[0m\u001b[0;34m]\u001b[0m\u001b[0;34m)\u001b[0m\u001b[0;34m:\u001b[0m\u001b[0;34m\u001b[0m\u001b[0m\n\u001b[0;32m--> 442\u001b[0;31m                 \u001b[0msamples\u001b[0m \u001b[0;34m=\u001b[0m \u001b[0mself\u001b[0m\u001b[0;34m.\u001b[0m\u001b[0msamples\u001b[0m\u001b[0;34m[\u001b[0m\u001b[0margs\u001b[0m\u001b[0;34m[\u001b[0m\u001b[0;36m0\u001b[0m\u001b[0;34m]\u001b[0m\u001b[0;34m,\u001b[0m \u001b[0margs\u001b[0m\u001b[0;34m[\u001b[0m\u001b[0;36m1\u001b[0m\u001b[0;34m]\u001b[0m\u001b[0;34m]\u001b[0m\u001b[0;34m\u001b[0m\u001b[0m\n\u001b[0m\u001b[1;32m    443\u001b[0m             \u001b[0;32melse\u001b[0m\u001b[0;34m:\u001b[0m\u001b[0;34m\u001b[0m\u001b[0m\n\u001b[1;32m    444\u001b[0m                 \u001b[0;31m# works even with bool masks (although without\u001b[0m\u001b[0;34m\u001b[0m\u001b[0;34m\u001b[0m\u001b[0m\n",
      "\u001b[0;31mKeyboardInterrupt\u001b[0m: "
     ]
    }
   ],
   "source": [
    "z = compute_average_similarity(ds)"
   ]
  },
  {
   "cell_type": "code",
   "execution_count": 157,
   "metadata": {},
   "outputs": [],
   "source": [
    "# 5000 features = 00:00:01\n",
    "# 50,000 features = 00:00:14\n",
    "# 170804 features = 00:00:51"
   ]
  },
  {
   "cell_type": "code",
   "execution_count": 165,
   "metadata": {},
   "outputs": [
    {
     "data": {
      "text/plain": [
       "array([-0.01095351,  0.00165756, -0.01094668, ...,  0.07932772,\n",
       "        0.12502357,  0.19568148])"
      ]
     },
     "execution_count": 165,
     "metadata": {},
     "output_type": "execute_result"
    }
   ],
   "source": [
    "z"
   ]
  },
  {
   "cell_type": "code",
   "execution_count": 87,
   "metadata": {},
   "outputs": [],
   "source": [
    "n_features = dss[0].shape[1]\n",
    "sim = np.zeros((n_features, ))"
   ]
  },
  {
   "cell_type": "code",
   "execution_count": 124,
   "metadata": {},
   "outputs": [
    {
     "ename": "ValueError",
     "evalue": "A 2-dimensional array must be passed.",
     "output_type": "error",
     "traceback": [
      "\u001b[0;31m---------------------------------------------------------------------------\u001b[0m",
      "\u001b[0;31mValueError\u001b[0m                                Traceback (most recent call last)",
      "\u001b[0;32m<ipython-input-124-c68014c8d9ab>\u001b[0m in \u001b[0;36m<module>\u001b[0;34m()\u001b[0m\n\u001b[1;32m     17\u001b[0m \u001b[0mtds\u001b[0m \u001b[0;34m=\u001b[0m \u001b[0;34m[\u001b[0m\u001b[0ma\u001b[0m\u001b[0;34m,\u001b[0m\u001b[0mb\u001b[0m\u001b[0;34m,\u001b[0m\u001b[0mc\u001b[0m\u001b[0;34m]\u001b[0m\u001b[0;34m\u001b[0m\u001b[0m\n\u001b[1;32m     18\u001b[0m \u001b[0mlen\u001b[0m\u001b[0;34m(\u001b[0m\u001b[0mtds\u001b[0m\u001b[0;34m)\u001b[0m\u001b[0;34m\u001b[0m\u001b[0m\n\u001b[0;32m---> 19\u001b[0;31m \u001b[0mz\u001b[0m \u001b[0;34m=\u001b[0m \u001b[0mcompute_average_similarity\u001b[0m\u001b[0;34m(\u001b[0m\u001b[0mtds\u001b[0m\u001b[0;34m)\u001b[0m\u001b[0;34m\u001b[0m\u001b[0m\n\u001b[0m",
      "\u001b[0;32m<ipython-input-86-ca0dbdbb968d>\u001b[0m in \u001b[0;36mcompute_average_similarity\u001b[0;34m(dss, metric)\u001b[0m\n\u001b[1;32m     16\u001b[0m \u001b[0;34m\u001b[0m\u001b[0m\n\u001b[1;32m     17\u001b[0m \u001b[0;34m\u001b[0m\u001b[0m\n\u001b[0;32m---> 18\u001b[0;31m         \u001b[0mdist\u001b[0m \u001b[0;34m=\u001b[0m \u001b[0mpdist\u001b[0m\u001b[0;34m(\u001b[0m\u001b[0mdata\u001b[0m\u001b[0;34m,\u001b[0m \u001b[0mmetric\u001b[0m\u001b[0;34m)\u001b[0m\u001b[0;34m\u001b[0m\u001b[0m\n\u001b[0m\u001b[1;32m     19\u001b[0m         \u001b[0msim\u001b[0m\u001b[0;34m[\u001b[0m\u001b[0mi\u001b[0m\u001b[0;34m]\u001b[0m \u001b[0;34m=\u001b[0m \u001b[0;36m1\u001b[0m \u001b[0;34m-\u001b[0m \u001b[0mdist\u001b[0m\u001b[0;34m.\u001b[0m\u001b[0mmean\u001b[0m\u001b[0;34m(\u001b[0m\u001b[0;34m)\u001b[0m\u001b[0;34m\u001b[0m\u001b[0m\n\u001b[1;32m     20\u001b[0m     \u001b[0;32mreturn\u001b[0m \u001b[0msim\u001b[0m\u001b[0;34m\u001b[0m\u001b[0m\n",
      "\u001b[0;32m/optnfs/common/miniconda3/envs/anaconda2/lib/python2.7/site-packages/scipy/spatial/distance.pyc\u001b[0m in \u001b[0;36mpdist\u001b[0;34m(X, metric, *args, **kwargs)\u001b[0m\n\u001b[1;32m   1978\u001b[0m     \u001b[0ms\u001b[0m \u001b[0;34m=\u001b[0m \u001b[0mX\u001b[0m\u001b[0;34m.\u001b[0m\u001b[0mshape\u001b[0m\u001b[0;34m\u001b[0m\u001b[0m\n\u001b[1;32m   1979\u001b[0m     \u001b[0;32mif\u001b[0m \u001b[0mlen\u001b[0m\u001b[0;34m(\u001b[0m\u001b[0ms\u001b[0m\u001b[0;34m)\u001b[0m \u001b[0;34m!=\u001b[0m \u001b[0;36m2\u001b[0m\u001b[0;34m:\u001b[0m\u001b[0;34m\u001b[0m\u001b[0m\n\u001b[0;32m-> 1980\u001b[0;31m         \u001b[0;32mraise\u001b[0m \u001b[0mValueError\u001b[0m\u001b[0;34m(\u001b[0m\u001b[0;34m'A 2-dimensional array must be passed.'\u001b[0m\u001b[0;34m)\u001b[0m\u001b[0;34m\u001b[0m\u001b[0m\n\u001b[0m\u001b[1;32m   1981\u001b[0m \u001b[0;34m\u001b[0m\u001b[0m\n\u001b[1;32m   1982\u001b[0m     \u001b[0mm\u001b[0m\u001b[0;34m,\u001b[0m \u001b[0mn\u001b[0m \u001b[0;34m=\u001b[0m \u001b[0ms\u001b[0m\u001b[0;34m\u001b[0m\u001b[0m\n",
      "\u001b[0;31mValueError\u001b[0m: A 2-dimensional array must be passed."
     ]
    }
   ],
   "source": [
    "x = np.array([[1, 2, 3, 4],\n",
    "              [1.5, 2, 3, 4]\n",
    "              ])\n",
    "y = np.array([[2, 4, 3, 2],\n",
    "              [1, 2, 3, 4]\n",
    "              ])\n",
    "\n",
    "a  = np.array([[[1.0]],\n",
    "              [[2.0]]\n",
    "              ])\n",
    "b = np.array([[[5.0]],\n",
    "              [[3.0]]\n",
    "              ])\n",
    "c = np.array([[[5.0]],\n",
    "              [[4.0]]\n",
    "              ])\n",
    "tds = [a,b,c]\n",
    "len(tds)\n",
    "z = compute_average_similarity(tds)"
   ]
  },
  {
   "cell_type": "code",
   "execution_count": 126,
   "metadata": {},
   "outputs": [],
   "source": [
    "# data is the list of datasets\n",
    "# align is a string indicating the type of data being used\n",
    "# save is a boolean\n",
    "\n",
    "def vertex_isc(data, align, save=True):\n",
    "    all_results = []\n",
    "    all_subjs = np.arange(data.shape[0])\n",
    "    # loop through all vertices\n",
    "    for v in np.arange(len(dss)):\n",
    "        results = []\n",
    "        data_v = data[:,:,v]\n",
    "        for subj, ds in enumerate(data_v):\n",
    "            group = np.setdiff1d(all_subjs, subj) # make groups\n",
    "            group_avg = np.mean(data_v[group,:], axis=0).ravel()\n",
    "            r = np.corrcoef(group_avg, ds.ravel())[0,1]\n",
    "            results.append(r)\n",
    "        all_results.append(np.array(results))\n",
    "\t#all_results.append(np.mean(np.array(results)))\n",
    "    res = np.array(all_results)\n",
    "    print(align)\n",
    "    print(res.shape)\n",
    "    if save:\n",
    "        np.save(resultsdir+'{a}_vertex_isc_2d.npy'.format(a=align), res)\n",
    "        print(resultsdir+'{a}_vertex_isc_2d.npy'.format(a=align))\n",
    "    return res"
   ]
  },
  {
   "cell_type": "markdown",
   "metadata": {},
   "source": [
    "#### 10 subs"
   ]
  },
  {
   "cell_type": "code",
   "execution_count": 3,
   "metadata": {},
   "outputs": [],
   "source": [
    "isc_ha = h5load(os.path.join(resultsdir,'cha_isc_10_subs.hdf5.gz'))\n",
    "isc_aa = h5load(os.path.join(resultsdir,'anatomical_isc_10_subs.hdf5.gz'))"
   ]
  },
  {
   "cell_type": "code",
   "execution_count": 4,
   "metadata": {},
   "outputs": [
    {
     "name": "stdout",
     "output_type": "stream",
     "text": [
      "0.11139680057244351\n",
      "-0.05179146085390762\n",
      "0.46513842296461116\n"
     ]
    }
   ],
   "source": [
    "print(np.mean(isc_aa))\n",
    "print(np.min(isc_aa))\n",
    "print(np.max(isc_aa))"
   ]
  },
  {
   "cell_type": "markdown",
   "metadata": {},
   "source": [
    "#### 202 subs"
   ]
  },
  {
   "cell_type": "code",
   "execution_count": 3,
   "metadata": {},
   "outputs": [],
   "source": [
    "isc_ha = h5load(os.path.join(resultsdir,'cha_isc_202_subs.hdf5.gz'))\n",
    "isc_aa = h5load(os.path.join(resultsdir,'anatomical_isc_202_subs.hdf5.gz'))"
   ]
  },
  {
   "cell_type": "code",
   "execution_count": 4,
   "metadata": {},
   "outputs": [
    {
     "name": "stdout",
     "output_type": "stream",
     "text": [
      "0.3905997439569428\n",
      "0.07009545403147843\n",
      "0.5839058662708132\n"
     ]
    }
   ],
   "source": [
    "print(np.mean(isc_ha))\n",
    "print(np.min(isc_ha))\n",
    "print(np.max(isc_ha))"
   ]
  },
  {
   "cell_type": "code",
   "execution_count": 4,
   "metadata": {},
   "outputs": [
    {
     "name": "stdout",
     "output_type": "stream",
     "text": [
      "0.29028131947624364\n",
      "0.04161631202581728\n",
      "0.6542301999038901\n"
     ]
    }
   ],
   "source": [
    "print(np.mean(isc_ha))\n",
    "print(np.min(isc_ha))\n",
    "print(np.max(isc_ha))"
   ]
  },
  {
   "cell_type": "code",
   "execution_count": 6,
   "metadata": {},
   "outputs": [
    {
     "name": "stdout",
     "output_type": "stream",
     "text": [
      "0.12241049743630945\n",
      "-0.001553231449507475\n",
      "0.48876207862839816\n"
     ]
    }
   ],
   "source": [
    "print(np.mean(isc_aa))\n",
    "print(np.min(isc_aa))\n",
    "print(np.max(isc_aa))"
   ]
  },
  {
   "cell_type": "code",
   "execution_count": 5,
   "metadata": {},
   "outputs": [
    {
     "data": {
      "image/png": "[encoded data removed]",
      "text/plain": [
       "<Figure size 432x432 with 1 Axes>"
      ]
     },
     "metadata": {
      "needs_background": "light"
     },
     "output_type": "display_data"
    }
   ],
   "source": [
    "plt.figure(figsize=(6, 6))\n",
    "plt.scatter(isc_aa, isc_ha)\n",
    "plt.xlim([-.2, .7])\n",
    "plt.ylim([-.2, .7])\n",
    "plt.xlabel('Surface alignment', size='xx-large')\n",
    "plt.ylabel('SL Hyperalignment', size='xx-large')\n",
    "plt.title('Average pairwise correlation', size='xx-large')\n",
    "plt.plot([-1, 1], [-1, 1], 'k--')\n",
    "plt.show()"
   ]
  },
  {
   "cell_type": "markdown",
   "metadata": {},
   "source": [
    "#### 337 subjects"
   ]
  },
  {
   "cell_type": "code",
   "execution_count": null,
   "metadata": {},
   "outputs": [],
   "source": [
    "isc_ha = h5load(os.path.join(resultsdir,'cha_isc_202_subs.hdf5.gz'))\n",
    "isc_aa = h5load(os.path.join(resultsdir,'anatomical_isc_202_subs.hdf5.gz'))"
   ]
  },
  {
   "cell_type": "code",
   "execution_count": null,
   "metadata": {},
   "outputs": [],
   "source": []
  },
  {
   "cell_type": "code",
   "execution_count": null,
   "metadata": {},
   "outputs": [],
   "source": []
  },
  {
   "cell_type": "code",
   "execution_count": null,
   "metadata": {},
   "outputs": [],
   "source": []
  },
  {
   "cell_type": "code",
   "execution_count": null,
   "metadata": {},
   "outputs": [],
   "source": []
  },
  {
   "cell_type": "code",
   "execution_count": null,
   "metadata": {},
   "outputs": [],
   "source": []
  },
  {
   "cell_type": "code",
   "execution_count": null,
   "metadata": {},
   "outputs": [],
   "source": []
  },
  {
   "cell_type": "markdown",
   "metadata": {},
   "source": [
    "## Convert all CSV files to pickled numpy arrays"
   ]
  },
  {
   "cell_type": "code",
   "execution_count": null,
   "metadata": {},
   "outputs": [],
   "source": [
    "import glob\n",
    "import os.path\n",
    "import pandas as pd\n",
    "import numpy as np\n",
    "\n",
    "openpath = '/dartfs-hpc/rc/home/1/f0040y1/CANlab/labdata/data/OLP4CBP_old_2019_lukesIsUpdating/hyperalignment/CHA_matrices'\n",
    "savepath = '/dartfs-hpc/rc/home/1/f0040y1/CANlab/labdata/data/OLP4CBP_old_2019_lukesIsUpdating/hyperalignment/CHA_matrices/ndarrays'\n",
    "myfiles = glob.glob(os.path.join(openpath,'*ses-1*'))\n",
    "\n",
    "for f in myfiles:\n",
    "    mysub = pd.read_csv(f, sep=',',header=None)\n",
    "    npsub = mysub.to_numpy()\n",
    "    fname1 = os.path.split(f)[1]\n",
    "    fname = fname1[0:-4] + '.npy'\n",
    "    ffull = os.path.join(savepath, fname)\n",
    "    np.save(ffull, npsub, allow_pickle=True)"
   ]
  },
  {
   "cell_type": "code",
   "execution_count": null,
   "metadata": {},
   "outputs": [],
   "source": [
    "for subj in test_subs:\n",
    "    ds = Dataset(subj)\n",
    "    idx = np.where(np.logical_not(np.all(ds.samples == 0, axis=0)))[0]\n",
    "        ds = ds[:, idx]\n",
    "        dss.append(ds)"
   ]
  }
 ],
 "metadata": {
  "kernelspec": {
   "display_name": "Python 2",
   "language": "python",
   "name": "python2"
  },
  "language_info": {
   "codemirror_mode": {
    "name": "ipython",
    "version": 2
   },
   "file_extension": ".py",
   "mimetype": "text/x-python",
   "name": "python",
   "nbconvert_exporter": "python",
   "pygments_lexer": "ipython2",
   "version": "2.7.15"
  }
 },
 "nbformat": 4,
 "nbformat_minor": 2
}
