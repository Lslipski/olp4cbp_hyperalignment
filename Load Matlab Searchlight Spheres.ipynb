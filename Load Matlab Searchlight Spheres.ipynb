{
 "cells": [
  {
   "cell_type": "code",
   "execution_count": 1,
   "metadata": {},
   "outputs": [
    {
     "name": "stderr",
     "output_type": "stream",
     "text": [
      "/dartfs-hpc/rc/home/1/f0040y1/.local/lib/python2.7/site-packages/mvpa2/testing/tools.py:81: DeprecationWarning: Importing from numpy.testing.decorators is deprecated since numpy 1.15.0, import from numpy.testing instead.\n",
      "  from numpy.testing.decorators import skipif\n",
      "/optnfs/common/miniconda3/envs/anaconda2/lib/python2.7/site-packages/_pytest/mark/structures.py:383: DeprecationWarning: The usage of `cmp` is deprecated and will be removed on or after 2021-06-01.  Please use `eq` and `order` instead.\n",
      "  @attr.s(cmp=False, hash=False)\n"
     ]
    }
   ],
   "source": [
    "import mvpa2.suite as mv\n",
    "from scipy.stats import zscore as sciz, pearsonr\n",
    "import os.path, time\n",
    "import glob\n",
    "from scipy.io import loadmat \n",
    "import numpy as np\n",
    "import pandas as pd\n",
    "import nibabel as nb\n",
    "import h5py\n",
    "from mvpa2.datasets.base import Dataset\n",
    "from mvpa2.misc.surfing.queryengine import SurfaceQueryEngine\n",
    "from mvpa2.support.nibabel.surf import read as read_surface\n",
    "from mvpa2.datasets.mri import fmri_dataset\n",
    "from mvpa2.misc.neighborhood import IndexQueryEngine, Sphere\n",
    "from mvpa2.datasets.base import mask_mapper\n",
    "import mvpa2.misc.surfing.volume_mask_dict as volmask\n",
    "from mvpa2.algorithms.searchlight_hyperalignment import SearchlightHyperalignment\n",
    "from mvpa2.mappers.zscore import zscore\n",
    "from mvpa2.base.hdf5 import h5save, h5load\n",
    "from scipy.spatial.distance import pdist, cdist\n",
    "import matplotlib.pyplot as plt\n"
   ]
  },
  {
   "cell_type": "markdown",
   "metadata": {},
   "source": [
    "## Set Paths"
   ]
  },
  {
   "cell_type": "code",
   "execution_count": 2,
   "metadata": {},
   "outputs": [],
   "source": [
    "helperfiles = '/dartfs-hpc/rc/home/1/f0040y1/CANlab/labdata/projects/OLP4CBP/hyperalignment/helperfiles/'\n",
    "chamats = '/dartfs-hpc/rc/home/1/f0040y1/CANlab/labdata/projects/OLP4CBP/hyperalignment/CHA_matrices/'\n",
    "logdir = '/dartfs-hpc/rc/home/1/f0040y1/CANlab/labdata/projects/OLP4CBP/hyperalignment/log/'\n",
    "scriptsdir = '/dartfs-hpc/rc/home/1/f0040y1/CANlab/labdata/projects/OLP4CBP/hyperalignment/scripts/'\n",
    "basedir = '/dartfs-hpc/rc/home/1/f0040y1/CANlab/labdata/projects/OLP4CBP/hyperalignment/'\n",
    "mapdir = '/dartfs-hpc/rc/home/1/f0040y1/CANlab/labdata/projects/OLP4CBP/hyperalignment/transformation_matrices/'\n",
    "resultsdir = '/dartfs-hpc/rc/home/1/f0040y1/CANlab/labdata/projects/OLP4CBP/hyperalignment/isc_results'"
   ]
  },
  {
   "cell_type": "markdown",
   "metadata": {},
   "source": [
    "## Load Template to create Query Engine"
   ]
  },
  {
   "cell_type": "code",
   "execution_count": 3,
   "metadata": {},
   "outputs": [
    {
     "name": "stdout",
     "output_type": "stream",
     "text": [
      "WARNING: Detected incorrect (nan) scl_ fields. Resetting to scl_slope=1.0 and scl_inter=0.0\n",
      " * Please note: warnings are printed only once, but underlying problem might occur many times *\n"
     ]
    }
   ],
   "source": [
    "# check if cleaned bladder files load to correct dimensions \n",
    "bladderdir = '/dartfs-hpc/rc/home/1/f0040y1/CANlab/labdata/projects/OLP4CBP/hyperalignment/data/cleaned_bladder/'\n",
    "ref_ds = fmri_dataset(os.path.join(bladderdir,'sub-M80302134_ses-1_task-bladderpain_space-canlab2018-2mm_desc-preproc-cleaned.nii'), mask=os.path.join(helperfiles,'newbrainmask.nii'))\n"
   ]
  },
  {
   "cell_type": "code",
   "execution_count": 4,
   "metadata": {},
   "outputs": [
    {
     "data": {
      "text/plain": [
       "170804"
      ]
     },
     "execution_count": 4,
     "metadata": {},
     "output_type": "execute_result"
    }
   ],
   "source": [
    "len(ref_ds.fa.voxel_indices)"
   ]
  },
  {
   "cell_type": "code",
   "execution_count": 19,
   "metadata": {},
   "outputs": [],
   "source": [
    "mydir = '/dartfs-hpc/rc/home/1/f0040y1/sub-M80399971_ses-1_task-bladder_space-MNI152NLin2009cAsym_desc-preproc_bold.nii'\n",
    "#sample = fmri_dataset(mydir, mask=os.path.join(helperfiles,'newbrainmask.nii'))\n",
    "sample = fmri_dataset(mydir)"
   ]
  },
  {
   "cell_type": "code",
   "execution_count": 20,
   "metadata": {},
   "outputs": [
    {
     "data": {
      "text/plain": [
       "(1628, 458294)"
      ]
     },
     "execution_count": 20,
     "metadata": {},
     "output_type": "execute_result"
    }
   ],
   "source": [
    "sample.shape"
   ]
  },
  {
   "cell_type": "code",
   "execution_count": 17,
   "metadata": {},
   "outputs": [
    {
     "data": {
      "text/plain": [
       "170804"
      ]
     },
     "execution_count": 17,
     "metadata": {},
     "output_type": "execute_result"
    }
   ],
   "source": [
    "# load nifti as a pymvpa dataset and then use that as ref_ds in the queryengine definition\n",
    "# mask with mymask\n",
    "#ref_ds = fmri_dataset(os.path.join(helperfiles,'olp4cbp_qe_template.nii'), mask=os.path.join(helperfiles,'brainmask.nii'))\n",
    "ref_ds = fmri_dataset(os.path.join(helperfiles,'canlab_atlas_for_CHA.nii'), mask=os.path.join(helperfiles,'newbrainmask.nii'))\n",
    "\n",
    "len(ref_ds.fa.voxel_indices)\n"
   ]
  },
  {
   "cell_type": "code",
   "execution_count": 19,
   "metadata": {},
   "outputs": [
    {
     "data": {
      "text/plain": [
       "170804"
      ]
     },
     "execution_count": 19,
     "metadata": {},
     "output_type": "execute_result"
    }
   ],
   "source": [
    "sum(ref_ds.samples[0] != 0)"
   ]
  },
  {
   "cell_type": "code",
   "execution_count": 13,
   "metadata": {},
   "outputs": [],
   "source": [
    "ref_ds = fmri_dataset(os.path.join(helperfiles,'newbrainmask.nii'))"
   ]
  },
  {
   "cell_type": "code",
   "execution_count": 14,
   "metadata": {},
   "outputs": [
    {
     "data": {
      "text/plain": [
       "902629"
      ]
     },
     "execution_count": 14,
     "metadata": {},
     "output_type": "execute_result"
    }
   ],
   "source": [
    "len(ref_ds.fa.voxel_indices)"
   ]
  },
  {
   "cell_type": "code",
   "execution_count": 7,
   "metadata": {},
   "outputs": [],
   "source": [
    "# set searchlight sphere radius\n",
    "sl_radius = 3.0\n",
    "\n",
    "#create query engine\n",
    "qe = IndexQueryEngine(voxel_indices=Sphere(sl_radius))\n",
    "qe.train(ref_ds)"
   ]
  },
  {
   "cell_type": "markdown",
   "metadata": {},
   "source": [
    "## Load Subjects for Hyperalignning"
   ]
  },
  {
   "cell_type": "code",
   "execution_count": 3,
   "metadata": {},
   "outputs": [],
   "source": [
    "# number of subjects connectomes to pull in\n",
    "# specify number of targets in connectome\n",
    "nsubs = 202\n",
    "cnx_tx = 489"
   ]
  },
  {
   "cell_type": "code",
   "execution_count": 4,
   "metadata": {},
   "outputs": [],
   "source": [
    "nfiles = glob.glob(os.path.join(chamats, 'ses1_only', '*'))\n",
    "mysubs = nfiles[0:nsubs]"
   ]
  },
  {
   "cell_type": "code",
   "execution_count": 5,
   "metadata": {},
   "outputs": [
    {
     "data": {
      "text/plain": [
       "'/dartfs-hpc/rc/home/1/f0040y1/CANlab/labdata/projects/OLP4CBP/hyperalignment/CHA_matrices/ses1_only/sub-M80399870_ses-1_task-sponpain_space-MNI152NLin2009cAsym_desc-preproc-cleaned_bold_CHA_matrix.npy'"
      ]
     },
     "execution_count": 5,
     "metadata": {},
     "output_type": "execute_result"
    }
   ],
   "source": [
    "mysubs[201]"
   ]
  },
  {
   "cell_type": "code",
   "execution_count": 6,
   "metadata": {},
   "outputs": [
    {
     "data": {
      "text/plain": [
       "201"
      ]
     },
     "execution_count": 6,
     "metadata": {},
     "output_type": "execute_result"
    }
   ],
   "source": [
    "max(range(202))"
   ]
  },
  {
   "cell_type": "code",
   "execution_count": 8,
   "metadata": {},
   "outputs": [
    {
     "name": "stdout",
     "output_type": "stream",
     "text": [
      "(489, 170804)\n",
      "(489, 170804)\n",
      "(489, 170804)\n"
     ]
    },
    {
     "ename": "KeyboardInterrupt",
     "evalue": "",
     "output_type": "error",
     "traceback": [
      "\u001b[0;31m---------------------------------------------------------------------------\u001b[0m",
      "\u001b[0;31mKeyboardInterrupt\u001b[0m                         Traceback (most recent call last)",
      "\u001b[0;32m<ipython-input-8-4f11c857b07f>\u001b[0m in \u001b[0;36m<module>\u001b[0;34m()\u001b[0m\n\u001b[1;32m     10\u001b[0m         \u001b[0mds\u001b[0m \u001b[0;34m=\u001b[0m \u001b[0md\u001b[0m\u001b[0;34m\u001b[0m\u001b[0m\n\u001b[1;32m     11\u001b[0m     \u001b[0;32melse\u001b[0m\u001b[0;34m:\u001b[0m\u001b[0;34m\u001b[0m\u001b[0m\n\u001b[0;32m---> 12\u001b[0;31m         \u001b[0mds\u001b[0m \u001b[0;34m=\u001b[0m \u001b[0mmv\u001b[0m\u001b[0;34m.\u001b[0m\u001b[0mvstack\u001b[0m\u001b[0;34m(\u001b[0m\u001b[0;34m(\u001b[0m\u001b[0mds\u001b[0m\u001b[0;34m,\u001b[0m\u001b[0md\u001b[0m\u001b[0;34m)\u001b[0m\u001b[0;34m)\u001b[0m\u001b[0;34m\u001b[0m\u001b[0m\n\u001b[0m\u001b[1;32m     13\u001b[0m \u001b[0mds\u001b[0m\u001b[0;34m.\u001b[0m\u001b[0mshape\u001b[0m\u001b[0;34m\u001b[0m\u001b[0m\n",
      "\u001b[0;32m/dartfs-hpc/rc/home/1/f0040y1/.local/lib/python2.7/site-packages/mvpa2/base/dataset.pyc\u001b[0m in \u001b[0;36mvstack\u001b[0;34m(datasets, a, fa)\u001b[0m\n\u001b[1;32m    744\u001b[0m                              \"datasets have varying attributes.\")\n\u001b[1;32m    745\u001b[0m     \u001b[0;31m# will puke if not equal number of features\u001b[0m\u001b[0;34m\u001b[0m\u001b[0;34m\u001b[0m\u001b[0m\n\u001b[0;32m--> 746\u001b[0;31m     \u001b[0mstacked_samp\u001b[0m \u001b[0;34m=\u001b[0m \u001b[0mnp\u001b[0m\u001b[0;34m.\u001b[0m\u001b[0mconcatenate\u001b[0m\u001b[0;34m(\u001b[0m\u001b[0;34m[\u001b[0m\u001b[0mds\u001b[0m\u001b[0;34m.\u001b[0m\u001b[0msamples\u001b[0m \u001b[0;32mfor\u001b[0m \u001b[0mds\u001b[0m \u001b[0;32min\u001b[0m \u001b[0mdatasets\u001b[0m\u001b[0;34m]\u001b[0m\u001b[0;34m,\u001b[0m \u001b[0maxis\u001b[0m\u001b[0;34m=\u001b[0m\u001b[0;36m0\u001b[0m\u001b[0;34m)\u001b[0m\u001b[0;34m\u001b[0m\u001b[0m\n\u001b[0m\u001b[1;32m    747\u001b[0m \u001b[0;34m\u001b[0m\u001b[0m\n\u001b[1;32m    748\u001b[0m     \u001b[0mstacked_sa\u001b[0m \u001b[0;34m=\u001b[0m \u001b[0;34m{\u001b[0m\u001b[0;34m}\u001b[0m\u001b[0;34m\u001b[0m\u001b[0m\n",
      "\u001b[0;31mKeyboardInterrupt\u001b[0m: "
     ]
    }
   ],
   "source": [
    "# import connectomes into pymvpa dataset, zscore, then add chunks and voxel indices\n",
    "\n",
    "ds = None\n",
    "for sub in range(len(mysubs)):\n",
    "    d = mv.Dataset(np.load(mysubs[sub]))\n",
    "    mv.zscore(d, chunks_attr=None)\n",
    "    mv.remove_invariant_features(d)\n",
    "    print(d.shape)\n",
    "    if ds is None:\n",
    "        ds = d\n",
    "    else:      \n",
    "        ds = mv.vstack((ds,d))\n",
    "ds.shape"
   ]
  },
  {
   "cell_type": "code",
   "execution_count": 7,
   "metadata": {},
   "outputs": [],
   "source": [
    "# import connectomes into pymvpa dataset, zscore, then add chunks and voxel indices, append to list of datsets\n",
    "\n",
    "dss = []\n",
    "for sub in range(len(mysubs)):\n",
    "    ds = mv.Dataset(np.load(mysubs[sub]))\n",
    "    ds.fa['voxel_indices'] = range(ds.shape[1])\n",
    "    #ds.sa['chunks'] = np.repeat(i,cnx_tx)\n",
    "    mv.zscore(ds, chunks_attr=None)\n",
    "    dss.append(ds)\n"
   ]
  },
  {
   "cell_type": "code",
   "execution_count": 8,
   "metadata": {},
   "outputs": [
    {
     "name": "stdout",
     "output_type": "stream",
     "text": [
      "dss sizes\n",
      "202\n",
      "(489, 170804)\n"
     ]
    }
   ],
   "source": [
    "print('dss sizes')\n",
    "print(len(dss))\n",
    "print(dss[0].shape)"
   ]
  },
  {
   "cell_type": "code",
   "execution_count": 14,
   "metadata": {},
   "outputs": [],
   "source": [
    "# cs = None\n",
    "# for i in range(len(mysubs)):\n",
    "#     thischunk = np.repeat(i,cnx_tx)\n",
    "#     if cs is None:\n",
    "#         cs = thischunk\n",
    "#     else:\n",
    "#         cs= np.hstack((cs, thischunk))\n",
    "    \n",
    "\n",
    "# ds.sa['chunks'] = cs\n",
    "# ds.fa['voxel_indices'] = range(ds.shape[1])\n",
    "# ds.shape"
   ]
  },
  {
   "cell_type": "code",
   "execution_count": 15,
   "metadata": {},
   "outputs": [],
   "source": [
    "# print('ds Shape: ', ds.shape)\n",
    "# print('Size of voxel_indices: ', len(ds.fa.voxel_indices))\n",
    "# print('Size of chunks: ', len(ds.sa.chunks))"
   ]
  },
  {
   "cell_type": "markdown",
   "metadata": {},
   "source": [
    "## Run Hyperalignment"
   ]
  },
  {
   "cell_type": "code",
   "execution_count": 16,
   "metadata": {},
   "outputs": [],
   "source": [
    "# create SL hyperalignment instance\n",
    "hyper = SearchlightHyperalignment(\n",
    "    queryengine=qe,\n",
    "    compute_recon=False, # We don't need to project back from common space to subject space\n",
    "    nproc=1, \n",
    ")"
   ]
  },
  {
   "cell_type": "code",
   "execution_count": 17,
   "metadata": {},
   "outputs": [
    {
     "ename": "RuntimeError",
     "evalue": "The 'pprocess' module is required for multiprocess searchlights. Please either install python-pprocess, or reduce `nproc` to 1 (got nproc=16) or set to default None",
     "output_type": "error",
     "traceback": [
      "\u001b[0;31m---------------------------------------------------------------------------\u001b[0m",
      "\u001b[0;31mRuntimeError\u001b[0m                              Traceback (most recent call last)",
      "\u001b[0;32m<ipython-input-17-4a73c21b93c5>\u001b[0m in \u001b[0;36m<module>\u001b[0;34m()\u001b[0m\n\u001b[1;32m     13\u001b[0m     \u001b[0mnproc\u001b[0m\u001b[0;34m=\u001b[0m\u001b[0mN_JOBS\u001b[0m\u001b[0;34m,\u001b[0m\u001b[0;34m\u001b[0m\u001b[0m\n\u001b[1;32m     14\u001b[0m     \u001b[0mnblocks\u001b[0m\u001b[0;34m=\u001b[0m\u001b[0mN_BLOCKS\u001b[0m\u001b[0;34m,\u001b[0m\u001b[0;34m\u001b[0m\u001b[0m\n\u001b[0;32m---> 15\u001b[0;31m     \u001b[0mdtype\u001b[0m \u001b[0;34m=\u001b[0m\u001b[0;34m'float64'\u001b[0m\u001b[0;34m\u001b[0m\u001b[0m\n\u001b[0m\u001b[1;32m     16\u001b[0m )\n\u001b[1;32m     17\u001b[0m \u001b[0;34m\u001b[0m\u001b[0m\n",
      "\u001b[0;32m/dartfs-hpc/rc/home/1/f0040y1/.local/lib/python2.7/site-packages/mvpa2/algorithms/searchlight_hyperalignment.pyc\u001b[0m in \u001b[0;36m__init__\u001b[0;34m(self, **kwargs)\u001b[0m\n\u001b[1;32m    348\u001b[0m                                \u001b[0;34m\"install python-pprocess, or reduce `nproc` \"\u001b[0m\u001b[0;34m\u001b[0m\u001b[0m\n\u001b[1;32m    349\u001b[0m                                \u001b[0;34m\"to 1 (got nproc=%i) or set to default None\"\u001b[0m\u001b[0;34m\u001b[0m\u001b[0m\n\u001b[0;32m--> 350\u001b[0;31m                                % self.params.nproc)\n\u001b[0m\u001b[1;32m    351\u001b[0m         \u001b[0;32mif\u001b[0m \u001b[0;32mnot\u001b[0m \u001b[0mexternals\u001b[0m\u001b[0;34m.\u001b[0m\u001b[0mexists\u001b[0m\u001b[0;34m(\u001b[0m\u001b[0;34m'scipy'\u001b[0m\u001b[0;34m)\u001b[0m\u001b[0;34m:\u001b[0m\u001b[0;34m\u001b[0m\u001b[0m\n\u001b[1;32m    352\u001b[0m             raise RuntimeError(\"The 'scipy' module is required for \"\n",
      "\u001b[0;31mRuntimeError\u001b[0m: The 'pprocess' module is required for multiprocess searchlights. Please either install python-pprocess, or reduce `nproc` to 1 (got nproc=16) or set to default None"
     ]
    }
   ],
   "source": [
    "# constants \n",
    "N_JOBS=16\n",
    "N_BLOCKS=128\n",
    "HYPERALIGNMENT_RADIUS=5\n",
    "\n",
    "sl_radius = HYPERALIGNMENT_RADIUS\n",
    "qe = IndexQueryEngine(voxel_indices=Sphere(sl_radius))\n",
    "qe.train(ref_ds)\n",
    "\n",
    "hyper = SearchlightHyperalignment(\n",
    "    queryengine=qe,\n",
    "    compute_recon=False, # We don't need to project back from common space to subject space\n",
    "    nproc=N_JOBS, \n",
    "    nblocks=N_BLOCKS,\n",
    "    dtype ='float64'\n",
    ")\n",
    "\n",
    "maps = hyper(dss)"
   ]
  },
  {
   "cell_type": "code",
   "execution_count": 18,
   "metadata": {},
   "outputs": [
    {
     "name": "stdout",
     "output_type": "stream",
     "text": [
      "WARNING: Using 0th dataset as the reference dataset (0th after excluding datasets)\n",
      "could not save hdf5 mappers\n",
      "-------- time elapsed: 01:15:33 --------\n",
      "saving at location: /dartfs-hpc/rc/home/1/f0040y1/CANlab/labdata/data/OLP4CBP_old_2019_lukesIsUpdating/hyperalignment/transformation_matrices\n"
     ]
    },
    {
     "name": "stderr",
     "output_type": "stream",
     "text": [
      "/optnfs/common/miniconda3/envs/anaconda2/lib/python2.7/site-packages/numpy/lib/type_check.py:546: DeprecationWarning: np.asscalar(a) is deprecated since NumPy v1.16, use a.item() instead\n",
      "  'a.item() instead', DeprecationWarning, stacklevel=1)\n"
     ]
    }
   ],
   "source": [
    "toutdir = os.path.join(basedir, 'transformation_matrices', 'olp4cbp_mappers' +'_' + str(len(mysubs)) + '_'+'subs_'+ '.hdf5.gz')\n",
    "t0 = time.time()\n",
    "mappers = hyper(dss)\n",
    "\n",
    "try:\n",
    "    h5save(toutdir, mappers)\n",
    "    print('saved hdf5 mappers')\n",
    "except: \n",
    "    print('could not save hdf5 mappers')\n",
    "\n",
    "elapsed = time.time()-t0\n",
    "print('-------- time elapsed: {elapsed} --------'.format(elapsed=(time.strftime(\"%H:%M:%S\",time.gmtime(elapsed)))))\n",
    "print('saving at location: {0}'.format(toutdir))"
   ]
  },
  {
   "cell_type": "code",
   "execution_count": 37,
   "metadata": {},
   "outputs": [],
   "source": [
    "toutdir = os.path.join(basedir, 'transformation_matrices', 'olp4cbp_mappers' +'_' + str(len(mysubs)) + '_'+'subs'+ '.hdf5.gz')\n",
    "h5save(toutdir, mappers)"
   ]
  },
  {
   "cell_type": "markdown",
   "metadata": {},
   "source": [
    "## Benchmark ISCs"
   ]
  },
  {
   "cell_type": "code",
   "execution_count": null,
   "metadata": {},
   "outputs": [
    {
     "name": "stdout",
     "output_type": "stream",
     "text": [
      "202\n",
      "(489, 170804)\n"
     ]
    },
    {
     "name": "stderr",
     "output_type": "stream",
     "text": [
      "/optnfs/common/miniconda3/envs/anaconda2/lib/python2.7/site-packages/numpy/lib/type_check.py:546: DeprecationWarning: np.asscalar(a) is deprecated since NumPy v1.16, use a.item() instead\n",
      "  'a.item() instead', DeprecationWarning, stacklevel=1)\n"
     ]
    }
   ],
   "source": [
    "print(len(dss))\n",
    "print(dss[0].shape)\n",
    "mappers = h5load(os.path.join(mapdir,'olp4cbp_mappers_202_subs.hdf5.gz'))\n",
    "dss_aligned = [mapper.forward(ds) for ds, mapper in zip(dss, mappers)]\n",
    "print(len(mappers))\n",
    "print(dss_aligned[0].shape)\n"
   ]
  },
  {
   "cell_type": "code",
   "execution_count": null,
   "metadata": {},
   "outputs": [],
   "source": []
  },
  {
   "cell_type": "code",
   "execution_count": 140,
   "metadata": {},
   "outputs": [],
   "source": [
    "def compute_average_similarity(dss, metric='correlation'):\n",
    "    \"\"\"\n",
    "    Returns\n",
    "    =======\n",
    "    sim : ndarray\n",
    "        A 1-D array with n_features elements, each element is the average\n",
    "        pairwise correlation similarity on the corresponding feature.\n",
    "    \"\"\"\n",
    "    n_features = dss[0].shape[1]\n",
    "    sim = np.zeros((n_features, ))\n",
    "    for i in range(n_features):\n",
    "        data = np.array([ds.samples[:, i] for ds in dss])\n",
    "        dist = pdist(data, metric)\n",
    "        sim[i] = 1 - dist.mean()\n",
    "    return sim"
   ]
  },
  {
   "cell_type": "code",
   "execution_count": 87,
   "metadata": {},
   "outputs": [],
   "source": [
    "n_features = dss[0].shape[1]\n",
    "sim = np.zeros((n_features, ))"
   ]
  },
  {
   "cell_type": "code",
   "execution_count": 124,
   "metadata": {},
   "outputs": [
    {
     "ename": "ValueError",
     "evalue": "A 2-dimensional array must be passed.",
     "output_type": "error",
     "traceback": [
      "\u001b[0;31m---------------------------------------------------------------------------\u001b[0m",
      "\u001b[0;31mValueError\u001b[0m                                Traceback (most recent call last)",
      "\u001b[0;32m<ipython-input-124-c68014c8d9ab>\u001b[0m in \u001b[0;36m<module>\u001b[0;34m()\u001b[0m\n\u001b[1;32m     17\u001b[0m \u001b[0mtds\u001b[0m \u001b[0;34m=\u001b[0m \u001b[0;34m[\u001b[0m\u001b[0ma\u001b[0m\u001b[0;34m,\u001b[0m\u001b[0mb\u001b[0m\u001b[0;34m,\u001b[0m\u001b[0mc\u001b[0m\u001b[0;34m]\u001b[0m\u001b[0;34m\u001b[0m\u001b[0m\n\u001b[1;32m     18\u001b[0m \u001b[0mlen\u001b[0m\u001b[0;34m(\u001b[0m\u001b[0mtds\u001b[0m\u001b[0;34m)\u001b[0m\u001b[0;34m\u001b[0m\u001b[0m\n\u001b[0;32m---> 19\u001b[0;31m \u001b[0mz\u001b[0m \u001b[0;34m=\u001b[0m \u001b[0mcompute_average_similarity\u001b[0m\u001b[0;34m(\u001b[0m\u001b[0mtds\u001b[0m\u001b[0;34m)\u001b[0m\u001b[0;34m\u001b[0m\u001b[0m\n\u001b[0m",
      "\u001b[0;32m<ipython-input-86-ca0dbdbb968d>\u001b[0m in \u001b[0;36mcompute_average_similarity\u001b[0;34m(dss, metric)\u001b[0m\n\u001b[1;32m     16\u001b[0m \u001b[0;34m\u001b[0m\u001b[0m\n\u001b[1;32m     17\u001b[0m \u001b[0;34m\u001b[0m\u001b[0m\n\u001b[0;32m---> 18\u001b[0;31m         \u001b[0mdist\u001b[0m \u001b[0;34m=\u001b[0m \u001b[0mpdist\u001b[0m\u001b[0;34m(\u001b[0m\u001b[0mdata\u001b[0m\u001b[0;34m,\u001b[0m \u001b[0mmetric\u001b[0m\u001b[0;34m)\u001b[0m\u001b[0;34m\u001b[0m\u001b[0m\n\u001b[0m\u001b[1;32m     19\u001b[0m         \u001b[0msim\u001b[0m\u001b[0;34m[\u001b[0m\u001b[0mi\u001b[0m\u001b[0;34m]\u001b[0m \u001b[0;34m=\u001b[0m \u001b[0;36m1\u001b[0m \u001b[0;34m-\u001b[0m \u001b[0mdist\u001b[0m\u001b[0;34m.\u001b[0m\u001b[0mmean\u001b[0m\u001b[0;34m(\u001b[0m\u001b[0;34m)\u001b[0m\u001b[0;34m\u001b[0m\u001b[0m\n\u001b[1;32m     20\u001b[0m     \u001b[0;32mreturn\u001b[0m \u001b[0msim\u001b[0m\u001b[0;34m\u001b[0m\u001b[0m\n",
      "\u001b[0;32m/optnfs/common/miniconda3/envs/anaconda2/lib/python2.7/site-packages/scipy/spatial/distance.pyc\u001b[0m in \u001b[0;36mpdist\u001b[0;34m(X, metric, *args, **kwargs)\u001b[0m\n\u001b[1;32m   1978\u001b[0m     \u001b[0ms\u001b[0m \u001b[0;34m=\u001b[0m \u001b[0mX\u001b[0m\u001b[0;34m.\u001b[0m\u001b[0mshape\u001b[0m\u001b[0;34m\u001b[0m\u001b[0m\n\u001b[1;32m   1979\u001b[0m     \u001b[0;32mif\u001b[0m \u001b[0mlen\u001b[0m\u001b[0;34m(\u001b[0m\u001b[0ms\u001b[0m\u001b[0;34m)\u001b[0m \u001b[0;34m!=\u001b[0m \u001b[0;36m2\u001b[0m\u001b[0;34m:\u001b[0m\u001b[0;34m\u001b[0m\u001b[0m\n\u001b[0;32m-> 1980\u001b[0;31m         \u001b[0;32mraise\u001b[0m \u001b[0mValueError\u001b[0m\u001b[0;34m(\u001b[0m\u001b[0;34m'A 2-dimensional array must be passed.'\u001b[0m\u001b[0;34m)\u001b[0m\u001b[0;34m\u001b[0m\u001b[0m\n\u001b[0m\u001b[1;32m   1981\u001b[0m \u001b[0;34m\u001b[0m\u001b[0m\n\u001b[1;32m   1982\u001b[0m     \u001b[0mm\u001b[0m\u001b[0;34m,\u001b[0m \u001b[0mn\u001b[0m \u001b[0;34m=\u001b[0m \u001b[0ms\u001b[0m\u001b[0;34m\u001b[0m\u001b[0m\n",
      "\u001b[0;31mValueError\u001b[0m: A 2-dimensional array must be passed."
     ]
    }
   ],
   "source": [
    "x = np.array([[1, 2, 3, 4],\n",
    "              [1.5, 2, 3, 4]\n",
    "              ])\n",
    "y = np.array([[2, 4, 3, 2],\n",
    "              [1, 2, 3, 4]\n",
    "              ])\n",
    "\n",
    "a  = np.array([[[1.0]],\n",
    "              [[2.0]]\n",
    "              ])\n",
    "b = np.array([[[5.0]],\n",
    "              [[3.0]]\n",
    "              ])\n",
    "c = np.array([[[5.0]],\n",
    "              [[4.0]]\n",
    "              ])\n",
    "tds = [a,b,c]\n",
    "len(tds)\n",
    "z = compute_average_similarity(tds)"
   ]
  },
  {
   "cell_type": "code",
   "execution_count": 126,
   "metadata": {},
   "outputs": [],
   "source": [
    "# data is the list of datasets\n",
    "# align is a string indicating the type of data being used\n",
    "# save is a boolean\n",
    "\n",
    "def vertex_isc(data, align, save=True):\n",
    "    all_results = []\n",
    "    all_subjs = np.arange(data.shape[0])\n",
    "    # loop through all vertices\n",
    "    for v in np.arange(len(dss)):\n",
    "        results = []\n",
    "        data_v = data[:,:,v]\n",
    "        for subj, ds in enumerate(data_v):\n",
    "            group = np.setdiff1d(all_subjs, subj) # make groups\n",
    "            group_avg = np.mean(data_v[group,:], axis=0).ravel()\n",
    "            r = np.corrcoef(group_avg, ds.ravel())[0,1]\n",
    "            results.append(r)\n",
    "        all_results.append(np.array(results))\n",
    "\t#all_results.append(np.mean(np.array(results)))\n",
    "    res = np.array(all_results)\n",
    "    print(align)\n",
    "    print(res.shape)\n",
    "    if save:\n",
    "        np.save(resultsdir+'{a}_vertex_isc_2d.npy'.format(a=align), res)\n",
    "        print(resultsdir+'{a}_vertex_isc_2d.npy'.format(a=align))\n",
    "    return res"
   ]
  },
  {
   "cell_type": "markdown",
   "metadata": {},
   "source": [
    "#### 10 subs"
   ]
  },
  {
   "cell_type": "code",
   "execution_count": 3,
   "metadata": {},
   "outputs": [],
   "source": [
    "isc_ha = h5load(os.path.join(resultsdir,'cha_isc_10_subs.hdf5.gz'))\n",
    "isc_aa = h5load(os.path.join(resultsdir,'anatomical_isc_10_subs.hdf5.gz'))"
   ]
  },
  {
   "cell_type": "code",
   "execution_count": 4,
   "metadata": {},
   "outputs": [
    {
     "name": "stdout",
     "output_type": "stream",
     "text": [
      "0.11139680057244351\n",
      "-0.05179146085390762\n",
      "0.46513842296461116\n"
     ]
    }
   ],
   "source": [
    "print(np.mean(isc_aa))\n",
    "print(np.min(isc_aa))\n",
    "print(np.max(isc_aa))"
   ]
  },
  {
   "cell_type": "markdown",
   "metadata": {},
   "source": [
    "#### 202 subs radius 5"
   ]
  },
  {
   "cell_type": "code",
   "execution_count": 3,
   "metadata": {},
   "outputs": [],
   "source": [
    "isc_ha = h5load(os.path.join(resultsdir,'cha_isc_subs-202_radius5.hdf5.gz'))\n",
    "isc_aa = h5load(os.path.join(resultsdir,'anatomical_isc_subs-202_radius-5.hdf5.gz'))"
   ]
  },
  {
   "cell_type": "code",
   "execution_count": 4,
   "metadata": {},
   "outputs": [
    {
     "name": "stdout",
     "output_type": "stream",
     "text": [
      "0.39537580521414856\n",
      "0.06555137371049324\n",
      "0.5872995121773268\n"
     ]
    }
   ],
   "source": [
    "print(np.mean(isc_ha))\n",
    "print(np.min(isc_ha))\n",
    "print(np.max(isc_ha))"
   ]
  },
  {
   "cell_type": "code",
   "execution_count": 7,
   "metadata": {},
   "outputs": [
    {
     "name": "stdout",
     "output_type": "stream",
     "text": [
      "0.12241049743630945\n",
      "-0.001553231449507475\n",
      "0.48876207862839816\n"
     ]
    }
   ],
   "source": [
    "print(np.mean(isc_aa))\n",
    "print(np.min(isc_aa))\n",
    "print(np.max(isc_aa))"
   ]
  },
  {
   "cell_type": "code",
   "execution_count": 8,
   "metadata": {},
   "outputs": [
    {
     "data": {
      "image/png": "[encoded data removed]",
      "text/plain": [
       "<Figure size 432x432 with 1 Axes>"
      ]
     },
     "metadata": {
      "needs_background": "light"
     },
     "output_type": "display_data"
    }
   ],
   "source": [
    "plt.figure(figsize=(6, 6))\n",
    "plt.scatter(isc_aa, isc_ha)\n",
    "plt.xlim([-.2, .7])\n",
    "plt.ylim([-.2, .7])\n",
    "plt.xlabel('Surface alignment', size='xx-large')\n",
    "plt.ylabel('SL Hyperalignment', size='xx-large')\n",
    "plt.title('Average pairwise correlation', size='xx-large')\n",
    "plt.plot([-1, 1], [-1, 1], 'k--')\n",
    "plt.show()"
   ]
  },
  {
   "cell_type": "markdown",
   "metadata": {},
   "source": [
    "#### 202 Subjects Radius 10"
   ]
  },
  {
   "cell_type": "code",
   "execution_count": 10,
   "metadata": {},
   "outputs": [],
   "source": [
    "isc_ha5 = h5load(os.path.join(resultsdir,'cha_isc_subs-202_radius-5.hdf5.gz'))\n",
    "isc_ha10 = h5load(os.path.join(resultsdir,'cha_isc_subs-202_radius-10.hdf5.gz'))\n",
    "isc_aa = h5load(os.path.join(resultsdir,'anatomical_isc_subs-202_radius-5.hdf5.gz'))"
   ]
  },
  {
   "cell_type": "code",
   "execution_count": 11,
   "metadata": {},
   "outputs": [
    {
     "name": "stdout",
     "output_type": "stream",
     "text": [
      "0.12241049743630945\n",
      "-0.001553231449507475\n",
      "0.48876207862839816\n"
     ]
    }
   ],
   "source": [
    "# AA\n",
    "print(np.mean(isc_aa))\n",
    "print(np.min(isc_aa))\n",
    "print(np.max(isc_aa))"
   ]
  },
  {
   "cell_type": "code",
   "execution_count": 12,
   "metadata": {},
   "outputs": [
    {
     "name": "stdout",
     "output_type": "stream",
     "text": [
      "0.39537580521414856\n",
      "0.06555137371049324\n",
      "0.5872995121773268\n"
     ]
    }
   ],
   "source": [
    "# CHA 5\n",
    "print(np.mean(isc_ha5))\n",
    "print(np.min(isc_ha5))\n",
    "print(np.max(isc_ha5))"
   ]
  },
  {
   "cell_type": "code",
   "execution_count": 13,
   "metadata": {},
   "outputs": [
    {
     "name": "stdout",
     "output_type": "stream",
     "text": [
      "0.45374004582994376\n",
      "0.1845676095966109\n",
      "0.6182551243490807\n"
     ]
    }
   ],
   "source": [
    "# CHA 10\n",
    "print(np.mean(isc_ha10))\n",
    "print(np.min(isc_ha10))\n",
    "print(np.max(isc_ha10))"
   ]
  },
  {
   "cell_type": "code",
   "execution_count": 15,
   "metadata": {},
   "outputs": [
    {
     "data": {
      "image/png": "[encoded data removed]",
      "text/plain": [
       "<Figure size 432x432 with 1 Axes>"
      ]
     },
     "metadata": {
      "needs_background": "light"
     },
     "output_type": "display_data"
    }
   ],
   "source": [
    "# plt CHA 5 vs AA\n",
    "plt.figure(figsize=(6, 6))\n",
    "plt.scatter(isc_aa, isc_ha5)\n",
    "plt.xlim([-.2, .7])\n",
    "plt.ylim([-.2, .7])\n",
    "plt.xlabel('Surface alignment', size='xx-large')\n",
    "plt.ylabel('SL Hyperalignment', size='xx-large')\n",
    "plt.title('Average pairwise correlation CHA5 vs AA', size='xx-large')\n",
    "plt.plot([-1, 1], [-1, 1], 'k--')\n",
    "plt.show()"
   ]
  },
  {
   "cell_type": "code",
   "execution_count": 16,
   "metadata": {},
   "outputs": [
    {
     "data": {
      "image/png": "[encoded data removed]",
      "text/plain": [
       "<Figure size 432x432 with 1 Axes>"
      ]
     },
     "metadata": {
      "needs_background": "light"
     },
     "output_type": "display_data"
    }
   ],
   "source": [
    "# plt CHA 10 vs AA\n",
    "plt.figure(figsize=(6, 6))\n",
    "plt.scatter(isc_aa, isc_ha10)\n",
    "plt.xlim([-.2, .7])\n",
    "plt.ylim([-.2, .7])\n",
    "plt.xlabel('Surface alignment', size='xx-large')\n",
    "plt.ylabel('SL Hyperalignment', size='xx-large')\n",
    "plt.title('Average pairwise correlation CHA10 vs AA', size='xx-large')\n",
    "plt.plot([-1, 1], [-1, 1], 'k--')\n",
    "plt.show()"
   ]
  },
  {
   "cell_type": "code",
   "execution_count": null,
   "metadata": {},
   "outputs": [],
   "source": []
  },
  {
   "cell_type": "markdown",
   "metadata": {},
   "source": [
    "## Convert all CSV files to pickled numpy arrays"
   ]
  },
  {
   "cell_type": "code",
   "execution_count": null,
   "metadata": {},
   "outputs": [],
   "source": [
    "import glob\n",
    "import os.path\n",
    "import pandas as pd\n",
    "import numpy as np\n",
    "\n",
    "openpath = '/dartfs-hpc/rc/home/1/f0040y1/CANlab/labdata/data/OLP4CBP_old_2019_lukesIsUpdating/hyperalignment/CHA_matrices'\n",
    "savepath = '/dartfs-hpc/rc/home/1/f0040y1/CANlab/labdata/data/OLP4CBP_old_2019_lukesIsUpdating/hyperalignment/CHA_matrices/ndarrays'\n",
    "myfiles = glob.glob(os.path.join(openpath,'*ses-1*'))\n",
    "\n",
    "for f in myfiles:\n",
    "    mysub = pd.read_csv(f, sep=',',header=None)\n",
    "    npsub = mysub.to_numpy()\n",
    "    fname1 = os.path.split(f)[1]\n",
    "    fname = fname1[0:-4] + '.npy'\n",
    "    ffull = os.path.join(savepath, fname)\n",
    "    np.save(ffull, npsub, allow_pickle=True)"
   ]
  },
  {
   "cell_type": "code",
   "execution_count": null,
   "metadata": {},
   "outputs": [],
   "source": [
    "for subj in test_subs:\n",
    "    ds = Dataset(subj)\n",
    "    idx = np.where(np.logical_not(np.all(ds.samples == 0, axis=0)))[0]\n",
    "        ds = ds[:, idx]\n",
    "        dss.append(ds)"
   ]
  },
  {
   "cell_type": "markdown",
   "metadata": {},
   "source": [
    "## Check Bladder Pain Confound files"
   ]
  },
  {
   "cell_type": "markdown",
   "metadata": {},
   "source": [
    "#### Check Bladder Confound files"
   ]
  },
  {
   "cell_type": "code",
   "execution_count": 19,
   "metadata": {},
   "outputs": [],
   "source": [
    "from glob import glob\n",
    "import os.path\n",
    "confoundpath = '/dartfs-hpc/rc/home/1/f0040y1/CANlab/labdata/projects/OLP4CBP/first_level/'\n",
    "x = [os.path.basename(x) for x in glob(os.path.join(confoundpath, '*'))]\n",
    "\n",
    "real = []\n",
    "notreal = []\n",
    "for i in range(len(x)):\n",
    "    mypath = os.path.join(confoundpath, x[i], 'ses-01/spm_modeling/bladder_confounds.mat')\n",
    "    mypath\n",
    "    if os.path.exists(mypath):\n",
    "        real.append(x[i])\n",
    "    else:\n",
    "        notreal.append(x[i])\n",
    "        "
   ]
  },
  {
   "cell_type": "markdown",
   "metadata": {},
   "source": [
    "#### Check brain data files"
   ]
  },
  {
   "cell_type": "code",
   "execution_count": null,
   "metadata": {},
   "outputs": [],
   "source": [
    "from glob import glob\n",
    "import os.path\n",
    "confoundpath = '/dartfs-hpc/rc/home/1/f0040y1/CANlab/labdata/data/OLP4CBP/Imaging/preprocessed/fmriprep'\n",
    "x = [os.path.basename(x) for x in glob(os.path.join(confoundpath, '*'))]\n",
    "\n",
    "real = []\n",
    "notreal = []\n",
    "for i in range(len(x)):\n",
    "    mypath = os.path.join(confoundpath, x[i], 'ses-01/spm_modeling/bladder_confounds.mat')\n",
    "    mypath\n",
    "    if os.path.exists(mypath):\n",
    "        real.append(x[i])\n",
    "    else:\n",
    "        notreal.append(x[i])"
   ]
  },
  {
   "cell_type": "code",
   "execution_count": 69,
   "metadata": {},
   "outputs": [
    {
     "data": {
      "text/plain": [
       "['sub-M80390470',\n",
       " 'sub-M80352280',\n",
       " 'sub-M80357658',\n",
       " 'sub-M80324276',\n",
       " 'sub-M80391633',\n",
       " 'sub-M80326076',\n",
       " 'sub-M80395778',\n",
       " 'sub-M80346209',\n",
       " 'sub-M80374205',\n",
       " 'sub-M80387207',\n",
       " 'sub-M80358852',\n",
       " 'sub-M80333899',\n",
       " 'sub-M80305453',\n",
       " 'sub-M80313660',\n",
       " 'sub-M80358201',\n",
       " 'sub-M80310232',\n",
       " 'sub-M80326904',\n",
       " 'sub-M80391055',\n",
       " 'sub-M80354415',\n",
       " 'sub-M80370470',\n",
       " 'sub-M80352349',\n",
       " 'sub-M80336970',\n",
       " 'sub-M80334610',\n",
       " 'sub-M80374686',\n",
       " 'sub-M80321321',\n",
       " 'sub-M80386647',\n",
       " 'sub-M80384594',\n",
       " 'sub-M80321700',\n",
       " 'sub-M80340554',\n",
       " 'sub-M80387585',\n",
       " 'sub-M80398382',\n",
       " 'sub-M80358716',\n",
       " 'sub-M80344484',\n",
       " 'sub-M80363982',\n",
       " 'sub-M80354222',\n",
       " 'sub-M80365070',\n",
       " 'sub-M80370264',\n",
       " 'sub-M80336871',\n",
       " 'sub-M80394681',\n",
       " 'sub-M80395867',\n",
       " 'sub-M80330026',\n",
       " 'sub-M80390618',\n",
       " 'sub-M80340398',\n",
       " 'sub-M80308229',\n",
       " 'sub-M80316833',\n",
       " 'sub-M80370429',\n",
       " 'sub-M80359226',\n",
       " 'sub-M80303741',\n",
       " 'sub-M80317666',\n",
       " 'sub-M80316294',\n",
       " 'sub-M80335769',\n",
       " 'sub-M80337218',\n",
       " 'sub-M80364787',\n",
       " 'sub-M80345974',\n",
       " 'sub-M80352012',\n",
       " 'sub-M80316805',\n",
       " 'sub-M80373984',\n",
       " 'sub-M80386115',\n",
       " 'sub-M80311578',\n",
       " 'sub-M80375143',\n",
       " 'sub-M80385274',\n",
       " 'sub-M80335113',\n",
       " 'sub-M80389796',\n",
       " 'sub-M80343725',\n",
       " 'sub-M80363223',\n",
       " 'sub-M80320091',\n",
       " 'sub-M80395521',\n",
       " 'sub-M80375622',\n",
       " 'sub-M80340863',\n",
       " 'sub-M80322778',\n",
       " 'sub-M80362938',\n",
       " 'sub-M80347052',\n",
       " 'sub-M80392546',\n",
       " 'sub-M80307015',\n",
       " 'sub-M80381069',\n",
       " 'sub-M80338105',\n",
       " 'sub-M80304717',\n",
       " 'sub-M80352006',\n",
       " 'sub-M80305915',\n",
       " 'sub-M80362430',\n",
       " 'sub-M80395860',\n",
       " 'sub-M80341498',\n",
       " 'sub-M80316547',\n",
       " 'sub-M80304426',\n",
       " 'sub-M80318910',\n",
       " 'sub-M80388445',\n",
       " 'sub-M80394858',\n",
       " 'sub-M80340964',\n",
       " 'sub-M80362227',\n",
       " 'sub-M80302799',\n",
       " 'sub-M80360754',\n",
       " 'sub-M80317101',\n",
       " 'sub-M80378375',\n",
       " 'sub-M80341717',\n",
       " 'sub-M80323778',\n",
       " 'sub-M80321756',\n",
       " 'sub-M80376269',\n",
       " 'sub-M80373786',\n",
       " 'sub-M80372078',\n",
       " 'sub-M80383944',\n",
       " 'sub-M80390646',\n",
       " 'sub-M80326819',\n",
       " 'sub-M80351764',\n",
       " 'sub-M80398666',\n",
       " 'sub-M80378427',\n",
       " 'sub-M80303770',\n",
       " 'sub-M80311434',\n",
       " 'sub-M80326848',\n",
       " 'sub-M80385355',\n",
       " 'sub-M80348133',\n",
       " 'sub-M80310618',\n",
       " 'sub-M80328230',\n",
       " 'sub-M80387602',\n",
       " 'sub-M80396887',\n",
       " 'sub-M80385728',\n",
       " 'sub-M80349728',\n",
       " 'sub-M80318592',\n",
       " 'sub-M80382492',\n",
       " 'sub-M80344908',\n",
       " 'sub-M80399337',\n",
       " 'sub-M80312954',\n",
       " 'sub-M80356762',\n",
       " 'sub-M80349350',\n",
       " 'sub-M80353545',\n",
       " 'sub-M80366943',\n",
       " 'logs',\n",
       " 'sub-M80384493',\n",
       " 'sub-M80397077',\n",
       " 'sub-M80306091',\n",
       " 'sub-M80374029',\n",
       " 'sub-M80371745',\n",
       " 'sub-M80303079',\n",
       " 'sub-M80312814',\n",
       " 'sub-M80310778',\n",
       " 'sub-M80355749',\n",
       " 'sub-M80396900',\n",
       " 'sub-M80351906',\n",
       " 'sub-M80358718',\n",
       " 'sub-M80353136',\n",
       " 'sub-M80321202',\n",
       " 'sub-M80357200',\n",
       " 'sub-M80348570',\n",
       " 'sub-M80304738',\n",
       " 'sub-M80375912',\n",
       " 'sub-M80336833',\n",
       " 'sub-M80399265',\n",
       " 'sub-M80360072',\n",
       " 'sub-M80311855',\n",
       " 'sub-M80393391',\n",
       " 'sub-M80384799',\n",
       " 'sub-M80357761',\n",
       " 'sub-M80365873',\n",
       " 'sub-M80385201',\n",
       " 'sub-M80306684',\n",
       " 'sub-M80399971',\n",
       " 'sub-M80317076',\n",
       " 'sub-M80332055',\n",
       " 'sub-M80345437',\n",
       " 'sub-M80309706',\n",
       " 'sub-M80306284',\n",
       " 'sub-M80369881',\n",
       " 'sub-M80369669',\n",
       " 'sub-M80362271',\n",
       " 'sub-M80344098',\n",
       " 'sub-M80310278',\n",
       " 'sub-M80366027',\n",
       " 'sub-M80338269',\n",
       " 'sub-M80373165',\n",
       " 'sub-M80328207',\n",
       " 'sub-M80389422',\n",
       " 'sub-M80399870',\n",
       " 'sub-M80309149',\n",
       " 'sub-M80321641',\n",
       " 'sub-M80341831',\n",
       " 'sub-M80358953',\n",
       " 'sub-M80318234',\n",
       " 'sub-M80366570',\n",
       " 'sub-M80350874',\n",
       " 'sub-M80354166',\n",
       " 'sub-M80309434',\n",
       " 'sub-M80336524',\n",
       " 'sub-M80375510',\n",
       " 'sub-M80347121',\n",
       " 'sub-M80326890',\n",
       " 'sub-M80384692',\n",
       " 'sub-M80395955',\n",
       " 'sub-M80370204',\n",
       " 'sub-M80337869',\n",
       " 'sub-M80305800',\n",
       " 'sub-M80318052',\n",
       " 'sub-M80325092',\n",
       " 'sub-M80303260',\n",
       " 'sub-M80304397',\n",
       " 'sub-M80331231',\n",
       " 'sub-M80313658',\n",
       " 'sub-M80349405',\n",
       " 'sub-M80328211',\n",
       " 'sub-M80336083',\n",
       " 'sub-M80356200',\n",
       " 'sub-M80320992',\n",
       " 'sub-M80341407',\n",
       " 'sub-M80302134',\n",
       " 'sub-M80328328',\n",
       " 'sub-M80321120',\n",
       " 'sub-M80316037']"
      ]
     },
     "execution_count": 69,
     "metadata": {},
     "output_type": "execute_result"
    }
   ],
   "source": [
    "from glob import glob\n",
    "import os.path\n",
    "confoundpath = '/dartfs-hpc/rc/home/1/f0040y1/CANlab/labdata/data/OLP4CBP/Imaging/preprocessed/fmriprep'\n",
    "x = [os.path.basename(x) for x in glob(os.path.join(confoundpath, '*'))]\n",
    "files = []\n",
    "for z in x:\n",
    "    if os.path.isdir(os.path.join(confoundpath, z)):\n",
    "        files.append(z)\n",
    "files"
   ]
  },
  {
   "cell_type": "code",
   "execution_count": 96,
   "metadata": {},
   "outputs": [],
   "source": [
    "real = []\n",
    "notreal = []\n",
    "for i in range(len(files)):\n",
    "    mypath = os.path.join(confoundpath, files[i], 'ses-1/func/', (files[i] +'_ses-1_task-bladder_space-MNI152NLin2009cAsym_desc-preproc_bold.nii'))\n",
    "    mypath2 = os.path.join(confoundpath, files[i], 'ses-1/func/', (files[i] +'_ses-1_task-bladder_space-MNI152NLin2009cAsym_desc-preproc_bold.nii.gz'))\n",
    "    if os.path.exists(mypath) or os.path.exists(mypath2):\n",
    "        real.append(files[i])\n",
    "    else:\n",
    "        notreal.append(files[i])"
   ]
  },
  {
   "cell_type": "code",
   "execution_count": 97,
   "metadata": {},
   "outputs": [
    {
     "data": {
      "text/plain": [
       "['sub-M80390470',\n",
       " 'sub-M80352280',\n",
       " 'sub-M80357658',\n",
       " 'sub-M80324276',\n",
       " 'sub-M80391633',\n",
       " 'sub-M80326076',\n",
       " 'sub-M80395778',\n",
       " 'sub-M80346209',\n",
       " 'sub-M80374205',\n",
       " 'sub-M80387207',\n",
       " 'sub-M80358852',\n",
       " 'sub-M80333899',\n",
       " 'sub-M80305453',\n",
       " 'sub-M80313660',\n",
       " 'sub-M80358201',\n",
       " 'sub-M80310232',\n",
       " 'sub-M80326904',\n",
       " 'sub-M80391055',\n",
       " 'sub-M80354415',\n",
       " 'sub-M80370470',\n",
       " 'sub-M80352349',\n",
       " 'sub-M80336970',\n",
       " 'sub-M80334610',\n",
       " 'sub-M80374686',\n",
       " 'sub-M80321321',\n",
       " 'sub-M80386647',\n",
       " 'sub-M80384594',\n",
       " 'sub-M80321700',\n",
       " 'sub-M80340554',\n",
       " 'sub-M80387585',\n",
       " 'sub-M80398382',\n",
       " 'sub-M80358716',\n",
       " 'sub-M80344484',\n",
       " 'sub-M80363982',\n",
       " 'sub-M80354222',\n",
       " 'sub-M80365070',\n",
       " 'sub-M80370264',\n",
       " 'sub-M80336871',\n",
       " 'sub-M80394681',\n",
       " 'sub-M80395867',\n",
       " 'sub-M80330026',\n",
       " 'sub-M80390618',\n",
       " 'sub-M80340398',\n",
       " 'sub-M80308229',\n",
       " 'sub-M80316833',\n",
       " 'sub-M80370429',\n",
       " 'sub-M80359226',\n",
       " 'sub-M80303741',\n",
       " 'sub-M80317666',\n",
       " 'sub-M80316294',\n",
       " 'sub-M80335769',\n",
       " 'sub-M80337218',\n",
       " 'sub-M80364787',\n",
       " 'sub-M80345974',\n",
       " 'sub-M80352012',\n",
       " 'sub-M80316805',\n",
       " 'sub-M80373984',\n",
       " 'sub-M80386115',\n",
       " 'sub-M80311578',\n",
       " 'sub-M80375143',\n",
       " 'sub-M80385274',\n",
       " 'sub-M80335113',\n",
       " 'sub-M80389796',\n",
       " 'sub-M80343725',\n",
       " 'sub-M80363223',\n",
       " 'sub-M80320091',\n",
       " 'sub-M80395521',\n",
       " 'sub-M80375622',\n",
       " 'sub-M80340863',\n",
       " 'sub-M80322778',\n",
       " 'sub-M80362938',\n",
       " 'sub-M80347052',\n",
       " 'sub-M80392546',\n",
       " 'sub-M80307015',\n",
       " 'sub-M80381069',\n",
       " 'sub-M80338105',\n",
       " 'sub-M80304717',\n",
       " 'sub-M80352006',\n",
       " 'sub-M80305915',\n",
       " 'sub-M80362430',\n",
       " 'sub-M80395860',\n",
       " 'sub-M80341498',\n",
       " 'sub-M80316547',\n",
       " 'sub-M80304426',\n",
       " 'sub-M80318910',\n",
       " 'sub-M80388445',\n",
       " 'sub-M80394858',\n",
       " 'sub-M80340964',\n",
       " 'sub-M80362227',\n",
       " 'sub-M80302799',\n",
       " 'sub-M80360754',\n",
       " 'sub-M80317101',\n",
       " 'sub-M80378375',\n",
       " 'sub-M80341717',\n",
       " 'sub-M80323778',\n",
       " 'sub-M80321756',\n",
       " 'sub-M80376269',\n",
       " 'sub-M80373786',\n",
       " 'sub-M80372078',\n",
       " 'sub-M80383944',\n",
       " 'sub-M80390646',\n",
       " 'sub-M80326819',\n",
       " 'sub-M80351764',\n",
       " 'sub-M80398666',\n",
       " 'sub-M80378427',\n",
       " 'sub-M80303770',\n",
       " 'sub-M80311434',\n",
       " 'sub-M80326848',\n",
       " 'sub-M80385355',\n",
       " 'sub-M80348133',\n",
       " 'sub-M80310618',\n",
       " 'sub-M80328230',\n",
       " 'sub-M80387602',\n",
       " 'sub-M80396887',\n",
       " 'sub-M80385728',\n",
       " 'sub-M80349728',\n",
       " 'sub-M80318592',\n",
       " 'sub-M80382492',\n",
       " 'sub-M80344908',\n",
       " 'sub-M80399337',\n",
       " 'sub-M80312954',\n",
       " 'sub-M80356762',\n",
       " 'sub-M80349350',\n",
       " 'sub-M80353545',\n",
       " 'sub-M80366943',\n",
       " 'sub-M80384493',\n",
       " 'sub-M80397077',\n",
       " 'sub-M80306091',\n",
       " 'sub-M80374029',\n",
       " 'sub-M80371745',\n",
       " 'sub-M80303079',\n",
       " 'sub-M80312814',\n",
       " 'sub-M80310778',\n",
       " 'sub-M80355749',\n",
       " 'sub-M80396900',\n",
       " 'sub-M80351906',\n",
       " 'sub-M80358718',\n",
       " 'sub-M80353136',\n",
       " 'sub-M80321202',\n",
       " 'sub-M80357200',\n",
       " 'sub-M80348570',\n",
       " 'sub-M80304738',\n",
       " 'sub-M80375912',\n",
       " 'sub-M80336833',\n",
       " 'sub-M80399265',\n",
       " 'sub-M80360072',\n",
       " 'sub-M80311855',\n",
       " 'sub-M80393391',\n",
       " 'sub-M80384799',\n",
       " 'sub-M80357761',\n",
       " 'sub-M80365873',\n",
       " 'sub-M80385201',\n",
       " 'sub-M80306684',\n",
       " 'sub-M80399971',\n",
       " 'sub-M80317076',\n",
       " 'sub-M80332055',\n",
       " 'sub-M80345437',\n",
       " 'sub-M80309706',\n",
       " 'sub-M80306284',\n",
       " 'sub-M80369881',\n",
       " 'sub-M80369669',\n",
       " 'sub-M80362271',\n",
       " 'sub-M80344098',\n",
       " 'sub-M80310278',\n",
       " 'sub-M80366027',\n",
       " 'sub-M80338269',\n",
       " 'sub-M80373165',\n",
       " 'sub-M80328207',\n",
       " 'sub-M80389422',\n",
       " 'sub-M80399870',\n",
       " 'sub-M80309149',\n",
       " 'sub-M80321641',\n",
       " 'sub-M80341831',\n",
       " 'sub-M80358953',\n",
       " 'sub-M80318234',\n",
       " 'sub-M80366570',\n",
       " 'sub-M80350874',\n",
       " 'sub-M80354166',\n",
       " 'sub-M80309434',\n",
       " 'sub-M80336524',\n",
       " 'sub-M80375510',\n",
       " 'sub-M80347121',\n",
       " 'sub-M80326890',\n",
       " 'sub-M80384692',\n",
       " 'sub-M80395955',\n",
       " 'sub-M80370204',\n",
       " 'sub-M80337869',\n",
       " 'sub-M80305800',\n",
       " 'sub-M80318052',\n",
       " 'sub-M80325092',\n",
       " 'sub-M80303260',\n",
       " 'sub-M80304397',\n",
       " 'sub-M80331231',\n",
       " 'sub-M80313658',\n",
       " 'sub-M80349405',\n",
       " 'sub-M80328211',\n",
       " 'sub-M80336083',\n",
       " 'sub-M80356200',\n",
       " 'sub-M80320992',\n",
       " 'sub-M80341407',\n",
       " 'sub-M80302134',\n",
       " 'sub-M80328328',\n",
       " 'sub-M80321120',\n",
       " 'sub-M80316037']"
      ]
     },
     "execution_count": 97,
     "metadata": {},
     "output_type": "execute_result"
    }
   ],
   "source": [
    "real"
   ]
  },
  {
   "cell_type": "code",
   "execution_count": 98,
   "metadata": {},
   "outputs": [
    {
     "data": {
      "text/plain": [
       "['logs']"
      ]
     },
     "execution_count": 98,
     "metadata": {},
     "output_type": "execute_result"
    }
   ],
   "source": [
    "notreal"
   ]
  },
  {
   "cell_type": "code",
   "execution_count": 99,
   "metadata": {},
   "outputs": [
    {
     "data": {
      "text/plain": [
       "['sub-M80390470',\n",
       " 'sub-M80352280',\n",
       " 'sub-M80357658',\n",
       " 'sub-M80324276',\n",
       " 'sub-M80391633',\n",
       " 'sub-M80326076',\n",
       " 'sub-M80395778',\n",
       " 'sub-M80346209',\n",
       " 'sub-M80374205',\n",
       " 'sub-M80387207',\n",
       " 'sub-M80358852',\n",
       " 'sub-M80333899',\n",
       " 'sub-M80305453',\n",
       " 'sub-M80313660',\n",
       " 'sub-M80358201',\n",
       " 'sub-M80310232',\n",
       " 'sub-M80326904',\n",
       " 'sub-M80391055',\n",
       " 'sub-M80354415',\n",
       " 'sub-M80370470',\n",
       " 'sub-M80352349',\n",
       " 'sub-M80336970',\n",
       " 'sub-M80334610',\n",
       " 'sub-M80374686',\n",
       " 'sub-M80321321',\n",
       " 'sub-M80386647',\n",
       " 'sub-M80384594',\n",
       " 'sub-M80321700',\n",
       " 'sub-M80340554',\n",
       " 'sub-M80387585',\n",
       " 'sub-M80398382',\n",
       " 'sub-M80358716',\n",
       " 'sub-M80344484',\n",
       " 'sub-M80363982',\n",
       " 'sub-M80354222',\n",
       " 'sub-M80365070',\n",
       " 'sub-M80370264',\n",
       " 'sub-M80336871',\n",
       " 'sub-M80394681',\n",
       " 'sub-M80395867',\n",
       " 'sub-M80330026',\n",
       " 'sub-M80390618',\n",
       " 'sub-M80340398',\n",
       " 'sub-M80308229',\n",
       " 'sub-M80316833',\n",
       " 'sub-M80370429',\n",
       " 'sub-M80359226',\n",
       " 'sub-M80303741',\n",
       " 'sub-M80317666',\n",
       " 'sub-M80316294',\n",
       " 'sub-M80335769',\n",
       " 'sub-M80337218',\n",
       " 'sub-M80364787',\n",
       " 'sub-M80345974',\n",
       " 'sub-M80352012',\n",
       " 'sub-M80316805',\n",
       " 'sub-M80373984',\n",
       " 'sub-M80386115',\n",
       " 'sub-M80311578',\n",
       " 'sub-M80375143',\n",
       " 'sub-M80385274',\n",
       " 'sub-M80335113',\n",
       " 'sub-M80389796',\n",
       " 'sub-M80343725',\n",
       " 'sub-M80363223',\n",
       " 'sub-M80320091',\n",
       " 'sub-M80395521',\n",
       " 'sub-M80375622',\n",
       " 'sub-M80340863',\n",
       " 'sub-M80322778',\n",
       " 'sub-M80362938',\n",
       " 'sub-M80347052',\n",
       " 'sub-M80392546',\n",
       " 'sub-M80307015',\n",
       " 'sub-M80381069',\n",
       " 'sub-M80338105',\n",
       " 'sub-M80304717',\n",
       " 'sub-M80352006',\n",
       " 'sub-M80305915',\n",
       " 'sub-M80362430',\n",
       " 'sub-M80395860',\n",
       " 'sub-M80341498',\n",
       " 'sub-M80316547',\n",
       " 'sub-M80304426',\n",
       " 'sub-M80318910',\n",
       " 'sub-M80388445',\n",
       " 'sub-M80394858',\n",
       " 'sub-M80340964',\n",
       " 'sub-M80362227',\n",
       " 'sub-M80302799',\n",
       " 'sub-M80360754',\n",
       " 'sub-M80317101',\n",
       " 'sub-M80378375',\n",
       " 'sub-M80341717',\n",
       " 'sub-M80323778',\n",
       " 'sub-M80321756',\n",
       " 'sub-M80376269',\n",
       " 'sub-M80373786',\n",
       " 'sub-M80372078',\n",
       " 'sub-M80383944',\n",
       " 'sub-M80390646',\n",
       " 'sub-M80326819',\n",
       " 'sub-M80351764',\n",
       " 'sub-M80398666',\n",
       " 'sub-M80378427',\n",
       " 'sub-M80303770',\n",
       " 'sub-M80311434',\n",
       " 'sub-M80326848',\n",
       " 'sub-M80385355',\n",
       " 'sub-M80348133',\n",
       " 'sub-M80310618',\n",
       " 'sub-M80328230',\n",
       " 'sub-M80387602',\n",
       " 'sub-M80396887',\n",
       " 'sub-M80385728',\n",
       " 'sub-M80349728',\n",
       " 'sub-M80318592',\n",
       " 'sub-M80382492',\n",
       " 'sub-M80344908',\n",
       " 'sub-M80399337',\n",
       " 'sub-M80312954',\n",
       " 'sub-M80356762',\n",
       " 'sub-M80349350',\n",
       " 'sub-M80353545',\n",
       " 'sub-M80366943',\n",
       " 'logs',\n",
       " 'sub-M80384493',\n",
       " 'sub-M80397077',\n",
       " 'sub-M80306091',\n",
       " 'sub-M80374029',\n",
       " 'sub-M80371745',\n",
       " 'sub-M80303079',\n",
       " 'sub-M80312814',\n",
       " 'sub-M80310778',\n",
       " 'sub-M80355749',\n",
       " 'sub-M80396900',\n",
       " 'sub-M80351906',\n",
       " 'sub-M80358718',\n",
       " 'sub-M80353136',\n",
       " 'sub-M80321202',\n",
       " 'sub-M80357200',\n",
       " 'sub-M80348570',\n",
       " 'sub-M80304738',\n",
       " 'sub-M80375912',\n",
       " 'sub-M80336833',\n",
       " 'sub-M80399265',\n",
       " 'sub-M80360072',\n",
       " 'sub-M80311855',\n",
       " 'sub-M80393391',\n",
       " 'sub-M80384799',\n",
       " 'sub-M80357761',\n",
       " 'sub-M80365873',\n",
       " 'sub-M80385201',\n",
       " 'sub-M80306684',\n",
       " 'sub-M80399971',\n",
       " 'sub-M80317076',\n",
       " 'sub-M80332055',\n",
       " 'sub-M80345437',\n",
       " 'sub-M80309706',\n",
       " 'sub-M80306284',\n",
       " 'sub-M80369881',\n",
       " 'sub-M80369669',\n",
       " 'sub-M80362271',\n",
       " 'sub-M80344098',\n",
       " 'sub-M80310278',\n",
       " 'sub-M80366027',\n",
       " 'sub-M80338269',\n",
       " 'sub-M80373165',\n",
       " 'sub-M80328207',\n",
       " 'sub-M80389422',\n",
       " 'sub-M80399870',\n",
       " 'sub-M80309149',\n",
       " 'sub-M80321641',\n",
       " 'sub-M80341831',\n",
       " 'sub-M80358953',\n",
       " 'sub-M80318234',\n",
       " 'sub-M80366570',\n",
       " 'sub-M80350874',\n",
       " 'sub-M80354166',\n",
       " 'sub-M80309434',\n",
       " 'sub-M80336524',\n",
       " 'sub-M80375510',\n",
       " 'sub-M80347121',\n",
       " 'sub-M80326890',\n",
       " 'sub-M80384692',\n",
       " 'sub-M80395955',\n",
       " 'sub-M80370204',\n",
       " 'sub-M80337869',\n",
       " 'sub-M80305800',\n",
       " 'sub-M80318052',\n",
       " 'sub-M80325092',\n",
       " 'sub-M80303260',\n",
       " 'sub-M80304397',\n",
       " 'sub-M80331231',\n",
       " 'sub-M80313658',\n",
       " 'sub-M80349405',\n",
       " 'sub-M80328211',\n",
       " 'sub-M80336083',\n",
       " 'sub-M80356200',\n",
       " 'sub-M80320992',\n",
       " 'sub-M80341407',\n",
       " 'sub-M80302134',\n",
       " 'sub-M80328328',\n",
       " 'sub-M80321120',\n",
       " 'sub-M80316037']"
      ]
     },
     "execution_count": 99,
     "metadata": {},
     "output_type": "execute_result"
    }
   ],
   "source": [
    "files"
   ]
  },
  {
   "cell_type": "markdown",
   "metadata": {},
   "source": [
    "## Check number and order of sponpain vs. bladder brain files"
   ]
  },
  {
   "cell_type": "code",
   "execution_count": 8,
   "metadata": {},
   "outputs": [],
   "source": [
    "from glob import glob\n",
    "import os.path\n",
    "spondir = '/dartfs-hpc/rc/home/1/f0040y1/CANlab/labdata/projects/OLP4CBP/hyperalignment/CHA_matrices/sponpain/ses1_only'\n",
    "bladdir = '/dartfs-hpc/rc/home/1/f0040y1/CANlab/labdata/projects/OLP4CBP/hyperalignment/data/cleaned_bladder'"
   ]
  },
  {
   "cell_type": "code",
   "execution_count": 11,
   "metadata": {
    "collapsed": true
   },
   "outputs": [
    {
     "data": {
      "text/plain": [
       "['sub-M80326819_ses-1_task-sponpain_space-MNI152NLin2009cAsym_desc-preproc-cleaned_bold_CHA_matrix.npy',\n",
       " 'sub-M80366570_ses-1_task-sponpain_space-MNI152NLin2009cAsym_desc-preproc-cleaned_bold_CHA_matrix.npy',\n",
       " 'sub-M80309706_ses-1_task-sponpain_space-MNI152NLin2009cAsym_desc-preproc-cleaned_bold_CHA_matrix.npy',\n",
       " 'sub-M80398382_ses-1_task-sponpain_space-MNI152NLin2009cAsym_desc-preproc-cleaned_bold_CHA_matrix.npy',\n",
       " 'sub-M80360072_ses-1_task-sponpain_space-MNI152NLin2009cAsym_desc-preproc-cleaned_bold_CHA_matrix.npy',\n",
       " 'sub-M80328230_ses-1_task-sponpain_space-MNI152NLin2009cAsym_desc-preproc-cleaned_bold_CHA_matrix.npy',\n",
       " 'sub-M80374205_ses-1_task-sponpain_space-MNI152NLin2009cAsym_desc-preproc-cleaned_bold_CHA_matrix.npy',\n",
       " 'sub-M80399337_ses-1_task-sponpain_space-MNI152NLin2009cAsym_desc-preproc-cleaned_bold_CHA_matrix.npy',\n",
       " 'sub-M80333899_ses-1_task-sponpain_space-MNI152NLin2009cAsym_desc-preproc-cleaned_bold_CHA_matrix.npy',\n",
       " 'sub-M80302799_ses-1_task-sponpain_space-MNI152NLin2009cAsym_desc-preproc-cleaned_bold_CHA_matrix.npy',\n",
       " 'sub-M80370204_ses-1_task-sponpain_space-MNI152NLin2009cAsym_desc-preproc-cleaned_bold_CHA_matrix.npy',\n",
       " 'sub-M80375622_ses-1_task-sponpain_space-MNI152NLin2009cAsym_desc-preproc-cleaned_bold_CHA_matrix.npy',\n",
       " 'sub-M80340554_ses-1_task-sponpain_space-MNI152NLin2009cAsym_desc-preproc-cleaned_bold_CHA_matrix.npy',\n",
       " 'sub-M80354166_ses-1_task-sponpain_space-MNI152NLin2009cAsym_desc-preproc-cleaned_bold_CHA_matrix.npy',\n",
       " 'sub-M80370470_ses-1_task-sponpain_space-MNI152NLin2009cAsym_desc-preproc-cleaned_bold_CHA_matrix.npy',\n",
       " 'sub-M80336083_ses-1_task-sponpain_space-MNI152NLin2009cAsym_desc-preproc-cleaned_bold_CHA_matrix.npy',\n",
       " 'sub-M80372078_ses-1_task-sponpain_space-MNI152NLin2009cAsym_desc-preproc-cleaned_bold_CHA_matrix.npy',\n",
       " 'sub-M80320091_ses-1_task-sponpain_space-MNI152NLin2009cAsym_desc-preproc-cleaned_bold_CHA_matrix.npy',\n",
       " 'sub-M80352006_ses-1_task-sponpain_space-MNI152NLin2009cAsym_desc-preproc-cleaned_bold_CHA_matrix.npy',\n",
       " 'sub-M80363223_ses-1_task-sponpain_space-MNI152NLin2009cAsym_desc-preproc-cleaned_bold_CHA_matrix.npy',\n",
       " 'sub-M80378375_ses-1_task-sponpain_space-MNI152NLin2009cAsym_desc-preproc-cleaned_bold_CHA_matrix.npy',\n",
       " 'sub-M80389422_ses-1_task-sponpain_space-MNI152NLin2009cAsym_desc-preproc-cleaned_bold_CHA_matrix.npy',\n",
       " 'sub-M80340964_ses-1_task-sponpain_space-MNI152NLin2009cAsym_desc-preproc-cleaned_bold_CHA_matrix.npy',\n",
       " 'sub-M80395955_ses-1_task-sponpain_space-MNI152NLin2009cAsym_desc-preproc-cleaned_bold_CHA_matrix.npy',\n",
       " 'sub-M80358201_ses-1_task-sponpain_space-MNI152NLin2009cAsym_desc-preproc-cleaned_bold_CHA_matrix.npy',\n",
       " 'sub-M80351764_ses-1_task-sponpain_space-MNI152NLin2009cAsym_desc-preproc-cleaned_bold_CHA_matrix.npy',\n",
       " 'sub-M80316805_ses-1_task-sponpain_space-MNI152NLin2009cAsym_desc-preproc-cleaned_bold_CHA_matrix.npy',\n",
       " 'sub-M80344908_ses-1_task-sponpain_space-MNI152NLin2009cAsym_desc-preproc-cleaned_bold_CHA_matrix.npy',\n",
       " 'sub-M80395860_ses-1_task-sponpain_space-MNI152NLin2009cAsym_desc-preproc-cleaned_bold_CHA_matrix.npy',\n",
       " 'sub-M80365070_ses-1_task-sponpain_space-MNI152NLin2009cAsym_desc-preproc-cleaned_bold_CHA_matrix.npy',\n",
       " 'sub-M80304426_ses-1_task-sponpain_space-MNI152NLin2009cAsym_desc-preproc-cleaned_bold_CHA_matrix.npy',\n",
       " 'sub-M80321756_ses-1_task-sponpain_space-MNI152NLin2009cAsym_desc-preproc-cleaned_bold_CHA_matrix.npy',\n",
       " 'sub-M80310232_ses-1_task-sponpain_space-MNI152NLin2009cAsym_desc-preproc-cleaned_bold_CHA_matrix.npy',\n",
       " 'sub-M80362227_ses-1_task-sponpain_space-MNI152NLin2009cAsym_desc-preproc-cleaned_bold_CHA_matrix.npy',\n",
       " 'sub-M80399265_ses-1_task-sponpain_space-MNI152NLin2009cAsym_desc-preproc-cleaned_bold_CHA_matrix.npy',\n",
       " 'sub-M80395778_ses-1_task-sponpain_space-MNI152NLin2009cAsym_desc-preproc-cleaned_bold_CHA_matrix.npy',\n",
       " 'sub-M80326076_ses-1_task-sponpain_space-MNI152NLin2009cAsym_desc-preproc-cleaned_bold_CHA_matrix.npy',\n",
       " 'sub-M80366943_ses-1_task-sponpain_space-MNI152NLin2009cAsym_desc-preproc-cleaned_bold_CHA_matrix.npy',\n",
       " 'sub-M80396887_ses-1_task-sponpain_space-MNI152NLin2009cAsym_desc-preproc-cleaned_bold_CHA_matrix.npy',\n",
       " 'sub-M80390470_ses-1_task-sponpain_space-MNI152NLin2009cAsym_desc-preproc-cleaned_bold_CHA_matrix.npy',\n",
       " 'sub-M80310778_ses-1_task-sponpain_space-MNI152NLin2009cAsym_desc-preproc-cleaned_bold_CHA_matrix.npy',\n",
       " 'sub-M80388445_ses-1_task-sponpain_space-MNI152NLin2009cAsym_desc-preproc-cleaned_bold_CHA_matrix.npy',\n",
       " 'sub-M80332055_ses-1_task-sponpain_space-MNI152NLin2009cAsym_desc-preproc-cleaned_bold_CHA_matrix.npy',\n",
       " 'sub-M80374029_ses-1_task-sponpain_space-MNI152NLin2009cAsym_desc-preproc-cleaned_bold_CHA_matrix.npy',\n",
       " 'sub-M80352012_ses-1_task-sponpain_space-MNI152NLin2009cAsym_desc-preproc-cleaned_bold_CHA_matrix.npy',\n",
       " 'sub-M80370429_ses-1_task-sponpain_space-MNI152NLin2009cAsym_desc-preproc-cleaned_bold_CHA_matrix.npy',\n",
       " 'sub-M80318052_ses-1_task-sponpain_space-MNI152NLin2009cAsym_desc-preproc-cleaned_bold_CHA_matrix.npy',\n",
       " 'sub-M80330026_ses-1_task-sponpain_space-MNI152NLin2009cAsym_desc-preproc-cleaned_bold_CHA_matrix.npy',\n",
       " 'sub-M80317076_ses-1_task-sponpain_space-MNI152NLin2009cAsym_desc-preproc-cleaned_bold_CHA_matrix.npy',\n",
       " 'sub-M80302134_ses-1_task-sponpain_space-MNI152NLin2009cAsym_desc-preproc-cleaned_bold_CHA_matrix.npy',\n",
       " 'sub-M80358718_ses-1_task-sponpain_space-MNI152NLin2009cAsym_desc-preproc-cleaned_bold_CHA_matrix.npy',\n",
       " 'sub-M80336970_ses-1_task-sponpain_space-MNI152NLin2009cAsym_desc-preproc-cleaned_bold_CHA_matrix.npy',\n",
       " 'sub-M80386115_ses-1_task-sponpain_space-MNI152NLin2009cAsym_desc-preproc-cleaned_bold_CHA_matrix.npy',\n",
       " 'sub-M80321202_ses-1_task-sponpain_space-MNI152NLin2009cAsym_desc-preproc-cleaned_bold_CHA_matrix.npy',\n",
       " 'sub-M80348133_ses-1_task-sponpain_space-MNI152NLin2009cAsym_desc-preproc-cleaned_bold_CHA_matrix.npy',\n",
       " 'sub-M80391055_ses-1_task-sponpain_space-MNI152NLin2009cAsym_desc-preproc-cleaned_bold_CHA_matrix.npy',\n",
       " 'sub-M80340863_ses-1_task-sponpain_space-MNI152NLin2009cAsym_desc-preproc-cleaned_bold_CHA_matrix.npy',\n",
       " 'sub-M80399971_ses-1_task-sponpain_space-MNI152NLin2009cAsym_desc-preproc-cleaned_bold_CHA_matrix.npy',\n",
       " 'sub-M80337218_ses-1_task-sponpain_space-MNI152NLin2009cAsym_desc-preproc-cleaned_bold_CHA_matrix.npy',\n",
       " 'sub-M80303260_ses-1_task-sponpain_space-MNI152NLin2009cAsym_desc-preproc-cleaned_bold_CHA_matrix.npy',\n",
       " 'sub-M80303741_ses-1_task-sponpain_space-MNI152NLin2009cAsym_desc-preproc-cleaned_bold_CHA_matrix.npy',\n",
       " 'sub-M80316547_ses-1_task-sponpain_space-MNI152NLin2009cAsym_desc-preproc-cleaned_bold_CHA_matrix.npy',\n",
       " 'sub-M80384799_ses-1_task-sponpain_space-MNI152NLin2009cAsym_desc-preproc-cleaned_bold_CHA_matrix.npy',\n",
       " 'sub-M80349728_ses-1_task-sponpain_space-MNI152NLin2009cAsym_desc-preproc-cleaned_bold_CHA_matrix.npy',\n",
       " 'sub-M80341407_ses-1_task-sponpain_space-MNI152NLin2009cAsym_desc-preproc-cleaned_bold_CHA_matrix.npy',\n",
       " 'sub-M80336524_ses-1_task-sponpain_space-MNI152NLin2009cAsym_desc-preproc-cleaned_bold_CHA_matrix.npy',\n",
       " 'sub-M80321120_ses-1_task-sponpain_space-MNI152NLin2009cAsym_desc-preproc-cleaned_bold_CHA_matrix.npy',\n",
       " 'sub-M80353136_ses-1_task-sponpain_space-MNI152NLin2009cAsym_desc-preproc-cleaned_bold_CHA_matrix.npy',\n",
       " 'sub-M80394681_ses-1_task-sponpain_space-MNI152NLin2009cAsym_desc-preproc-cleaned_bold_CHA_matrix.npy',\n",
       " 'sub-M80358716_ses-1_task-sponpain_space-MNI152NLin2009cAsym_desc-preproc-cleaned_bold_CHA_matrix.npy',\n",
       " 'sub-M80381069_ses-1_task-sponpain_space-MNI152NLin2009cAsym_desc-preproc-cleaned_bold_CHA_matrix.npy',\n",
       " 'sub-M80345974_ses-1_task-sponpain_space-MNI152NLin2009cAsym_desc-preproc-cleaned_bold_CHA_matrix.npy',\n",
       " 'sub-M80352280_ses-1_task-sponpain_space-MNI152NLin2009cAsym_desc-preproc-cleaned_bold_CHA_matrix.npy',\n",
       " 'sub-M80370264_ses-1_task-sponpain_space-MNI152NLin2009cAsym_desc-preproc-cleaned_bold_CHA_matrix.npy',\n",
       " 'sub-M80352349_ses-1_task-sponpain_space-MNI152NLin2009cAsym_desc-preproc-cleaned_bold_CHA_matrix.npy',\n",
       " 'sub-M80304738_ses-1_task-sponpain_space-MNI152NLin2009cAsym_desc-preproc-cleaned_bold_CHA_matrix.npy',\n",
       " 'sub-M80373165_ses-1_task-sponpain_space-MNI152NLin2009cAsym_desc-preproc-cleaned_bold_CHA_matrix.npy',\n",
       " 'sub-M80382492_ses-1_task-sponpain_space-MNI152NLin2009cAsym_desc-preproc-cleaned_bold_CHA_matrix.npy',\n",
       " 'sub-M80306284_ses-1_task-sponpain_space-MNI152NLin2009cAsym_desc-preproc-cleaned_bold_CHA_matrix.npy',\n",
       " 'sub-M80347121_ses-1_task-sponpain_space-MNI152NLin2009cAsym_desc-preproc-cleaned_bold_CHA_matrix.npy',\n",
       " 'sub-M80391633_ses-1_task-sponpain_space-MNI152NLin2009cAsym_desc-preproc-cleaned_bold_CHA_matrix.npy',\n",
       " 'sub-M80373984_ses-1_task-sponpain_space-MNI152NLin2009cAsym_desc-preproc-cleaned_bold_CHA_matrix.npy',\n",
       " 'sub-M80369669_ses-1_task-sponpain_space-MNI152NLin2009cAsym_desc-preproc-cleaned_bold_CHA_matrix.npy',\n",
       " 'sub-M80325092_ses-1_task-sponpain_space-MNI152NLin2009cAsym_desc-preproc-cleaned_bold_CHA_matrix.npy',\n",
       " 'sub-M80375912_ses-1_task-sponpain_space-MNI152NLin2009cAsym_desc-preproc-cleaned_bold_CHA_matrix.npy',\n",
       " 'sub-M80341498_ses-1_task-sponpain_space-MNI152NLin2009cAsym_desc-preproc-cleaned_bold_CHA_matrix.npy',\n",
       " 'sub-M80340398_ses-1_task-sponpain_space-MNI152NLin2009cAsym_desc-preproc-cleaned_bold_CHA_matrix.npy',\n",
       " 'sub-M80317666_ses-1_task-sponpain_space-MNI152NLin2009cAsym_desc-preproc-cleaned_bold_CHA_matrix.npy',\n",
       " 'sub-M80303770_ses-1_task-sponpain_space-MNI152NLin2009cAsym_desc-preproc-cleaned_bold_CHA_matrix.npy',\n",
       " 'sub-M80366027_ses-1_task-sponpain_space-MNI152NLin2009cAsym_desc-preproc-cleaned_bold_CHA_matrix.npy',\n",
       " 'sub-M80318234_ses-1_task-sponpain_space-MNI152NLin2009cAsym_desc-preproc-cleaned_bold_CHA_matrix.npy',\n",
       " 'sub-M80384594_ses-1_task-sponpain_space-MNI152NLin2009cAsym_desc-preproc-cleaned_bold_CHA_matrix.npy',\n",
       " 'sub-M80357761_ses-1_task-sponpain_space-MNI152NLin2009cAsym_desc-preproc-cleaned_bold_CHA_matrix.npy',\n",
       " 'sub-M80304397_ses-1_task-sponpain_space-MNI152NLin2009cAsym_desc-preproc-cleaned_bold_CHA_matrix.npy',\n",
       " 'sub-M80389796_ses-1_task-sponpain_space-MNI152NLin2009cAsym_desc-preproc-cleaned_bold_CHA_matrix.npy',\n",
       " 'sub-M80341717_ses-1_task-sponpain_space-MNI152NLin2009cAsym_desc-preproc-cleaned_bold_CHA_matrix.npy',\n",
       " 'sub-M80308229_ses-1_task-sponpain_space-MNI152NLin2009cAsym_desc-preproc-cleaned_bold_CHA_matrix.npy',\n",
       " 'sub-M80360754_ses-1_task-sponpain_space-MNI152NLin2009cAsym_desc-preproc-cleaned_bold_CHA_matrix.npy',\n",
       " 'sub-M80324276_ses-1_task-sponpain_space-MNI152NLin2009cAsym_desc-preproc-cleaned_bold_CHA_matrix.npy',\n",
       " 'sub-M80378427_ses-1_task-sponpain_space-MNI152NLin2009cAsym_desc-preproc-cleaned_bold_CHA_matrix.npy',\n",
       " 'sub-M80331231_ses-1_task-sponpain_space-MNI152NLin2009cAsym_desc-preproc-cleaned_bold_CHA_matrix.npy',\n",
       " 'sub-M80387602_ses-1_task-sponpain_space-MNI152NLin2009cAsym_desc-preproc-cleaned_bold_CHA_matrix.npy',\n",
       " 'sub-M80376269_ses-1_task-sponpain_space-MNI152NLin2009cAsym_desc-preproc-cleaned_bold_CHA_matrix.npy',\n",
       " 'sub-M80316833_ses-1_task-sponpain_space-MNI152NLin2009cAsym_desc-preproc-cleaned_bold_CHA_matrix.npy',\n",
       " 'sub-M80349405_ses-1_task-sponpain_space-MNI152NLin2009cAsym_desc-preproc-cleaned_bold_CHA_matrix.npy',\n",
       " 'sub-M80326890_ses-1_task-sponpain_space-MNI152NLin2009cAsym_desc-preproc-cleaned_bold_CHA_matrix.npy',\n",
       " 'sub-M80357200_ses-1_task-sponpain_space-MNI152NLin2009cAsym_desc-preproc-cleaned_bold_CHA_matrix.npy',\n",
       " 'sub-M80354222_ses-1_task-sponpain_space-MNI152NLin2009cAsym_desc-preproc-cleaned_bold_CHA_matrix.npy',\n",
       " 'sub-M80326848_ses-1_task-sponpain_space-MNI152NLin2009cAsym_desc-preproc-cleaned_bold_CHA_matrix.npy',\n",
       " 'sub-M80338105_ses-1_task-sponpain_space-MNI152NLin2009cAsym_desc-preproc-cleaned_bold_CHA_matrix.npy',\n",
       " 'sub-M80375143_ses-1_task-sponpain_space-MNI152NLin2009cAsym_desc-preproc-cleaned_bold_CHA_matrix.npy',\n",
       " 'sub-M80365873_ses-1_task-sponpain_space-MNI152NLin2009cAsym_desc-preproc-cleaned_bold_CHA_matrix.npy',\n",
       " 'sub-M80310278_ses-1_task-sponpain_space-MNI152NLin2009cAsym_desc-preproc-cleaned_bold_CHA_matrix.npy',\n",
       " 'sub-M80369881_ses-1_task-sponpain_space-MNI152NLin2009cAsym_desc-preproc-cleaned_bold_CHA_matrix.npy',\n",
       " 'sub-M80337869_ses-1_task-sponpain_space-MNI152NLin2009cAsym_desc-preproc-cleaned_bold_CHA_matrix.npy',\n",
       " 'sub-M80350874_ses-1_task-sponpain_space-MNI152NLin2009cAsym_desc-preproc-cleaned_bold_CHA_matrix.npy',\n",
       " 'sub-M80351906_ses-1_task-sponpain_space-MNI152NLin2009cAsym_desc-preproc-cleaned_bold_CHA_matrix.npy',\n",
       " 'sub-M80305800_ses-1_task-sponpain_space-MNI152NLin2009cAsym_desc-preproc-cleaned_bold_CHA_matrix.npy',\n",
       " 'sub-M80355749_ses-1_task-sponpain_space-MNI152NLin2009cAsym_desc-preproc-cleaned_bold_CHA_matrix.npy',\n",
       " 'sub-M80396900_ses-1_task-sponpain_space-MNI152NLin2009cAsym_desc-preproc-cleaned_bold_CHA_matrix.npy',\n",
       " 'sub-M80311578_ses-1_task-sponpain_space-MNI152NLin2009cAsym_desc-preproc-cleaned_bold_CHA_matrix.npy',\n",
       " 'sub-M80362938_ses-1_task-sponpain_space-MNI152NLin2009cAsym_desc-preproc-cleaned_bold_CHA_matrix.npy',\n",
       " 'sub-M80385355_ses-1_task-sponpain_space-MNI152NLin2009cAsym_desc-preproc-cleaned_bold_CHA_matrix.npy',\n",
       " 'sub-M80384493_ses-1_task-sponpain_space-MNI152NLin2009cAsym_desc-preproc-cleaned_bold_CHA_matrix.npy',\n",
       " 'sub-M80306684_ses-1_task-sponpain_space-MNI152NLin2009cAsym_desc-preproc-cleaned_bold_CHA_matrix.npy',\n",
       " 'sub-M80356762_ses-1_task-sponpain_space-MNI152NLin2009cAsym_desc-preproc-cleaned_bold_CHA_matrix.npy',\n",
       " 'sub-M80375510_ses-1_task-sponpain_space-MNI152NLin2009cAsym_desc-preproc-cleaned_bold_CHA_matrix.npy',\n",
       " 'sub-M80328211_ses-1_task-sponpain_space-MNI152NLin2009cAsym_desc-preproc-cleaned_bold_CHA_matrix.npy',\n",
       " 'sub-M80316294_ses-1_task-sponpain_space-MNI152NLin2009cAsym_desc-preproc-cleaned_bold_CHA_matrix.npy',\n",
       " 'sub-M80336833_ses-1_task-sponpain_space-MNI152NLin2009cAsym_desc-preproc-cleaned_bold_CHA_matrix.npy',\n",
       " 'sub-M80346209_ses-1_task-sponpain_space-MNI152NLin2009cAsym_desc-preproc-cleaned_bold_CHA_matrix.npy',\n",
       " 'sub-M80341831_ses-1_task-sponpain_space-MNI152NLin2009cAsym_desc-preproc-cleaned_bold_CHA_matrix.npy',\n",
       " 'sub-M80334610_ses-1_task-sponpain_space-MNI152NLin2009cAsym_desc-preproc-cleaned_bold_CHA_matrix.npy',\n",
       " 'sub-M80387207_ses-1_task-sponpain_space-MNI152NLin2009cAsym_desc-preproc-cleaned_bold_CHA_matrix.npy',\n",
       " 'sub-M80313658_ses-1_task-sponpain_space-MNI152NLin2009cAsym_desc-preproc-cleaned_bold_CHA_matrix.npy',\n",
       " 'sub-M80394858_ses-1_task-sponpain_space-MNI152NLin2009cAsym_desc-preproc-cleaned_bold_CHA_matrix.npy',\n",
       " 'sub-M80386647_ses-1_task-sponpain_space-MNI152NLin2009cAsym_desc-preproc-cleaned_bold_CHA_matrix.npy',\n",
       " 'sub-M80348570_ses-1_task-sponpain_space-MNI152NLin2009cAsym_desc-preproc-cleaned_bold_CHA_matrix.npy',\n",
       " 'sub-M80364787_ses-1_task-sponpain_space-MNI152NLin2009cAsym_desc-preproc-cleaned_bold_CHA_matrix.npy',\n",
       " 'sub-M80321321_ses-1_task-sponpain_space-MNI152NLin2009cAsym_desc-preproc-cleaned_bold_CHA_matrix.npy',\n",
       " 'sub-M80312814_ses-1_task-sponpain_space-MNI152NLin2009cAsym_desc-preproc-cleaned_bold_CHA_matrix.npy',\n",
       " 'sub-M80374686_ses-1_task-sponpain_space-MNI152NLin2009cAsym_desc-preproc-cleaned_bold_CHA_matrix.npy',\n",
       " 'sub-M80395867_ses-1_task-sponpain_space-MNI152NLin2009cAsym_desc-preproc-cleaned_bold_CHA_matrix.npy',\n",
       " 'sub-M80304717_ses-1_task-sponpain_space-MNI152NLin2009cAsym_desc-preproc-cleaned_bold_CHA_matrix.npy',\n",
       " 'sub-M80359226_ses-1_task-sponpain_space-MNI152NLin2009cAsym_desc-preproc-cleaned_bold_CHA_matrix.npy',\n",
       " 'sub-M80345437_ses-1_task-sponpain_space-MNI152NLin2009cAsym_desc-preproc-cleaned_bold_CHA_matrix.npy',\n",
       " 'sub-M80309434_ses-1_task-sponpain_space-MNI152NLin2009cAsym_desc-preproc-cleaned_bold_CHA_matrix.npy',\n",
       " 'sub-M80323778_ses-1_task-sponpain_space-MNI152NLin2009cAsym_desc-preproc-cleaned_bold_CHA_matrix.npy',\n",
       " 'sub-M80384692_ses-1_task-sponpain_space-MNI152NLin2009cAsym_desc-preproc-cleaned_bold_CHA_matrix.npy',\n",
       " 'sub-M80309149_ses-1_task-sponpain_space-MNI152NLin2009cAsym_desc-preproc-cleaned_bold_CHA_matrix.npy',\n",
       " 'sub-M80387585_ses-1_task-sponpain_space-MNI152NLin2009cAsym_desc-preproc-cleaned_bold_CHA_matrix.npy',\n",
       " 'sub-M80316037_ses-1_task-sponpain_space-MNI152NLin2009cAsym_desc-preproc-cleaned_bold_CHA_matrix.npy',\n",
       " 'sub-M80385274_ses-1_task-sponpain_space-MNI152NLin2009cAsym_desc-preproc-cleaned_bold_CHA_matrix.npy',\n",
       " 'sub-M80311855_ses-1_task-sponpain_space-MNI152NLin2009cAsym_desc-preproc-cleaned_bold_CHA_matrix.npy',\n",
       " 'sub-M80335769_ses-1_task-sponpain_space-MNI152NLin2009cAsym_desc-preproc-cleaned_bold_CHA_matrix.npy',\n",
       " 'sub-M80303079_ses-1_task-sponpain_space-MNI152NLin2009cAsym_desc-preproc-cleaned_bold_CHA_matrix.npy',\n",
       " 'sub-M80317101_ses-1_task-sponpain_space-MNI152NLin2009cAsym_desc-preproc-cleaned_bold_CHA_matrix.npy',\n",
       " 'sub-M80390646_ses-1_task-sponpain_space-MNI152NLin2009cAsym_desc-preproc-cleaned_bold_CHA_matrix.npy',\n",
       " 'sub-M80306091_ses-1_task-sponpain_space-MNI152NLin2009cAsym_desc-preproc-cleaned_bold_CHA_matrix.npy',\n",
       " 'sub-M80307015_ses-1_task-sponpain_space-MNI152NLin2009cAsym_desc-preproc-cleaned_bold_CHA_matrix.npy',\n",
       " 'sub-M80343725_ses-1_task-sponpain_space-MNI152NLin2009cAsym_desc-preproc-cleaned_bold_CHA_matrix.npy',\n",
       " 'sub-M80338269_ses-1_task-sponpain_space-MNI152NLin2009cAsym_desc-preproc-cleaned_bold_CHA_matrix.npy',\n",
       " 'sub-M80344098_ses-1_task-sponpain_space-MNI152NLin2009cAsym_desc-preproc-cleaned_bold_CHA_matrix.npy',\n",
       " 'sub-M80320992_ses-1_task-sponpain_space-MNI152NLin2009cAsym_desc-preproc-cleaned_bold_CHA_matrix.npy',\n",
       " 'sub-M80383944_ses-1_task-sponpain_space-MNI152NLin2009cAsym_desc-preproc-cleaned_bold_CHA_matrix.npy',\n",
       " 'sub-M80318592_ses-1_task-sponpain_space-MNI152NLin2009cAsym_desc-preproc-cleaned_bold_CHA_matrix.npy',\n",
       " 'sub-M80328207_ses-1_task-sponpain_space-MNI152NLin2009cAsym_desc-preproc-cleaned_bold_CHA_matrix.npy',\n",
       " 'sub-M80310618_ses-1_task-sponpain_space-MNI152NLin2009cAsym_desc-preproc-cleaned_bold_CHA_matrix.npy',\n",
       " 'sub-M80385728_ses-1_task-sponpain_space-MNI152NLin2009cAsym_desc-preproc-cleaned_bold_CHA_matrix.npy',\n",
       " 'sub-M80335113_ses-1_task-sponpain_space-MNI152NLin2009cAsym_desc-preproc-cleaned_bold_CHA_matrix.npy',\n",
       " 'sub-M80397077_ses-1_task-sponpain_space-MNI152NLin2009cAsym_desc-preproc-cleaned_bold_CHA_matrix.npy',\n",
       " 'sub-M80358852_ses-1_task-sponpain_space-MNI152NLin2009cAsym_desc-preproc-cleaned_bold_CHA_matrix.npy',\n",
       " 'sub-M80312954_ses-1_task-sponpain_space-MNI152NLin2009cAsym_desc-preproc-cleaned_bold_CHA_matrix.npy',\n",
       " 'sub-M80305453_ses-1_task-sponpain_space-MNI152NLin2009cAsym_desc-preproc-cleaned_bold_CHA_matrix.npy',\n",
       " 'sub-M80358953_ses-1_task-sponpain_space-MNI152NLin2009cAsym_desc-preproc-cleaned_bold_CHA_matrix.npy',\n",
       " 'sub-M80357658_ses-1_task-sponpain_space-MNI152NLin2009cAsym_desc-preproc-cleaned_bold_CHA_matrix.npy',\n",
       " 'sub-M80390618_ses-1_task-sponpain_space-MNI152NLin2009cAsym_desc-preproc-cleaned_bold_CHA_matrix.npy',\n",
       " 'sub-M80371745_ses-1_task-sponpain_space-MNI152NLin2009cAsym_desc-preproc-cleaned_bold_CHA_matrix.npy',\n",
       " 'sub-M80356200_ses-1_task-sponpain_space-MNI152NLin2009cAsym_desc-preproc-cleaned_bold_CHA_matrix.npy',\n",
       " 'sub-M80313660_ses-1_task-sponpain_space-MNI152NLin2009cAsym_desc-preproc-cleaned_bold_CHA_matrix.npy',\n",
       " 'sub-M80322778_ses-1_task-sponpain_space-MNI152NLin2009cAsym_desc-preproc-cleaned_bold_CHA_matrix.npy',\n",
       " 'sub-M80392546_ses-1_task-sponpain_space-MNI152NLin2009cAsym_desc-preproc-cleaned_bold_CHA_matrix.npy',\n",
       " 'sub-M80385201_ses-1_task-sponpain_space-MNI152NLin2009cAsym_desc-preproc-cleaned_bold_CHA_matrix.npy',\n",
       " 'sub-M80373786_ses-1_task-sponpain_space-MNI152NLin2009cAsym_desc-preproc-cleaned_bold_CHA_matrix.npy',\n",
       " 'sub-M80318910_ses-1_task-sponpain_space-MNI152NLin2009cAsym_desc-preproc-cleaned_bold_CHA_matrix.npy',\n",
       " 'sub-M80344484_ses-1_task-sponpain_space-MNI152NLin2009cAsym_desc-preproc-cleaned_bold_CHA_matrix.npy',\n",
       " 'sub-M80311434_ses-1_task-sponpain_space-MNI152NLin2009cAsym_desc-preproc-cleaned_bold_CHA_matrix.npy',\n",
       " 'sub-M80393391_ses-1_task-sponpain_space-MNI152NLin2009cAsym_desc-preproc-cleaned_bold_CHA_matrix.npy',\n",
       " 'sub-M80363982_ses-1_task-sponpain_space-MNI152NLin2009cAsym_desc-preproc-cleaned_bold_CHA_matrix.npy',\n",
       " 'sub-M80347052_ses-1_task-sponpain_space-MNI152NLin2009cAsym_desc-preproc-cleaned_bold_CHA_matrix.npy',\n",
       " 'sub-M80398666_ses-1_task-sponpain_space-MNI152NLin2009cAsym_desc-preproc-cleaned_bold_CHA_matrix.npy',\n",
       " 'sub-M80326904_ses-1_task-sponpain_space-MNI152NLin2009cAsym_desc-preproc-cleaned_bold_CHA_matrix.npy',\n",
       " 'sub-M80336871_ses-1_task-sponpain_space-MNI152NLin2009cAsym_desc-preproc-cleaned_bold_CHA_matrix.npy',\n",
       " 'sub-M80362271_ses-1_task-sponpain_space-MNI152NLin2009cAsym_desc-preproc-cleaned_bold_CHA_matrix.npy',\n",
       " 'sub-M80305915_ses-1_task-sponpain_space-MNI152NLin2009cAsym_desc-preproc-cleaned_bold_CHA_matrix.npy',\n",
       " 'sub-M80362430_ses-1_task-sponpain_space-MNI152NLin2009cAsym_desc-preproc-cleaned_bold_CHA_matrix.npy',\n",
       " 'sub-M80353545_ses-1_task-sponpain_space-MNI152NLin2009cAsym_desc-preproc-cleaned_bold_CHA_matrix.npy',\n",
       " 'sub-M80354415_ses-1_task-sponpain_space-MNI152NLin2009cAsym_desc-preproc-cleaned_bold_CHA_matrix.npy',\n",
       " 'sub-M80349350_ses-1_task-sponpain_space-MNI152NLin2009cAsym_desc-preproc-cleaned_bold_CHA_matrix.npy',\n",
       " 'sub-M80321641_ses-1_task-sponpain_space-MNI152NLin2009cAsym_desc-preproc-cleaned_bold_CHA_matrix.npy',\n",
       " 'sub-M80328328_ses-1_task-sponpain_space-MNI152NLin2009cAsym_desc-preproc-cleaned_bold_CHA_matrix.npy',\n",
       " 'sub-M80399870_ses-1_task-sponpain_space-MNI152NLin2009cAsym_desc-preproc-cleaned_bold_CHA_matrix.npy']"
      ]
     },
     "execution_count": 11,
     "metadata": {},
     "output_type": "execute_result"
    }
   ],
   "source": [
    "# this is the order that files are loaded into hyperalignment\n",
    "sponfiles = [os.path.basename(x) for x in glob(os.path.join(spondir, '*ses-*'))]\n",
    "sponfiles"
   ]
  },
  {
   "cell_type": "code",
   "execution_count": 12,
   "metadata": {},
   "outputs": [
    {
     "data": {
      "text/plain": [
       "202"
      ]
     },
     "execution_count": 12,
     "metadata": {},
     "output_type": "execute_result"
    }
   ],
   "source": [
    "len(sponfiles)"
   ]
  },
  {
   "cell_type": "code",
   "execution_count": 13,
   "metadata": {
    "collapsed": true
   },
   "outputs": [
    {
     "data": {
      "text/plain": [
       "['sub-M80326819',\n",
       " 'sub-M80366570',\n",
       " 'sub-M80309706',\n",
       " 'sub-M80398382',\n",
       " 'sub-M80360072',\n",
       " 'sub-M80328230',\n",
       " 'sub-M80374205',\n",
       " 'sub-M80399337',\n",
       " 'sub-M80333899',\n",
       " 'sub-M80302799',\n",
       " 'sub-M80370204',\n",
       " 'sub-M80375622',\n",
       " 'sub-M80340554',\n",
       " 'sub-M80354166',\n",
       " 'sub-M80370470',\n",
       " 'sub-M80336083',\n",
       " 'sub-M80372078',\n",
       " 'sub-M80320091',\n",
       " 'sub-M80352006',\n",
       " 'sub-M80363223',\n",
       " 'sub-M80378375',\n",
       " 'sub-M80389422',\n",
       " 'sub-M80340964',\n",
       " 'sub-M80395955',\n",
       " 'sub-M80358201',\n",
       " 'sub-M80351764',\n",
       " 'sub-M80316805',\n",
       " 'sub-M80344908',\n",
       " 'sub-M80395860',\n",
       " 'sub-M80365070',\n",
       " 'sub-M80304426',\n",
       " 'sub-M80321756',\n",
       " 'sub-M80310232',\n",
       " 'sub-M80362227',\n",
       " 'sub-M80399265',\n",
       " 'sub-M80395778',\n",
       " 'sub-M80326076',\n",
       " 'sub-M80366943',\n",
       " 'sub-M80396887',\n",
       " 'sub-M80390470',\n",
       " 'sub-M80310778',\n",
       " 'sub-M80388445',\n",
       " 'sub-M80332055',\n",
       " 'sub-M80374029',\n",
       " 'sub-M80352012',\n",
       " 'sub-M80370429',\n",
       " 'sub-M80318052',\n",
       " 'sub-M80330026',\n",
       " 'sub-M80317076',\n",
       " 'sub-M80302134',\n",
       " 'sub-M80358718',\n",
       " 'sub-M80336970',\n",
       " 'sub-M80386115',\n",
       " 'sub-M80321202',\n",
       " 'sub-M80348133',\n",
       " 'sub-M80391055',\n",
       " 'sub-M80340863',\n",
       " 'sub-M80399971',\n",
       " 'sub-M80337218',\n",
       " 'sub-M80303260',\n",
       " 'sub-M80303741',\n",
       " 'sub-M80316547',\n",
       " 'sub-M80384799',\n",
       " 'sub-M80349728',\n",
       " 'sub-M80341407',\n",
       " 'sub-M80336524',\n",
       " 'sub-M80321120',\n",
       " 'sub-M80353136',\n",
       " 'sub-M80394681',\n",
       " 'sub-M80358716',\n",
       " 'sub-M80381069',\n",
       " 'sub-M80345974',\n",
       " 'sub-M80352280',\n",
       " 'sub-M80370264',\n",
       " 'sub-M80352349',\n",
       " 'sub-M80304738',\n",
       " 'sub-M80373165',\n",
       " 'sub-M80382492',\n",
       " 'sub-M80306284',\n",
       " 'sub-M80347121',\n",
       " 'sub-M80391633',\n",
       " 'sub-M80373984',\n",
       " 'sub-M80369669',\n",
       " 'sub-M80325092',\n",
       " 'sub-M80375912',\n",
       " 'sub-M80341498',\n",
       " 'sub-M80340398',\n",
       " 'sub-M80317666',\n",
       " 'sub-M80303770',\n",
       " 'sub-M80366027',\n",
       " 'sub-M80318234',\n",
       " 'sub-M80384594',\n",
       " 'sub-M80357761',\n",
       " 'sub-M80304397',\n",
       " 'sub-M80389796',\n",
       " 'sub-M80341717',\n",
       " 'sub-M80308229',\n",
       " 'sub-M80360754',\n",
       " 'sub-M80324276',\n",
       " 'sub-M80378427',\n",
       " 'sub-M80331231',\n",
       " 'sub-M80387602',\n",
       " 'sub-M80376269',\n",
       " 'sub-M80316833',\n",
       " 'sub-M80349405',\n",
       " 'sub-M80326890',\n",
       " 'sub-M80357200',\n",
       " 'sub-M80354222',\n",
       " 'sub-M80326848',\n",
       " 'sub-M80338105',\n",
       " 'sub-M80375143',\n",
       " 'sub-M80365873',\n",
       " 'sub-M80310278',\n",
       " 'sub-M80369881',\n",
       " 'sub-M80337869',\n",
       " 'sub-M80350874',\n",
       " 'sub-M80351906',\n",
       " 'sub-M80305800',\n",
       " 'sub-M80355749',\n",
       " 'sub-M80396900',\n",
       " 'sub-M80311578',\n",
       " 'sub-M80362938',\n",
       " 'sub-M80385355',\n",
       " 'sub-M80384493',\n",
       " 'sub-M80306684',\n",
       " 'sub-M80356762',\n",
       " 'sub-M80375510',\n",
       " 'sub-M80328211',\n",
       " 'sub-M80316294',\n",
       " 'sub-M80336833',\n",
       " 'sub-M80346209',\n",
       " 'sub-M80341831',\n",
       " 'sub-M80334610',\n",
       " 'sub-M80387207',\n",
       " 'sub-M80313658',\n",
       " 'sub-M80394858',\n",
       " 'sub-M80386647',\n",
       " 'sub-M80348570',\n",
       " 'sub-M80364787',\n",
       " 'sub-M80321321',\n",
       " 'sub-M80312814',\n",
       " 'sub-M80374686',\n",
       " 'sub-M80395867',\n",
       " 'sub-M80304717',\n",
       " 'sub-M80359226',\n",
       " 'sub-M80345437',\n",
       " 'sub-M80309434',\n",
       " 'sub-M80323778',\n",
       " 'sub-M80384692',\n",
       " 'sub-M80309149',\n",
       " 'sub-M80387585',\n",
       " 'sub-M80316037',\n",
       " 'sub-M80385274',\n",
       " 'sub-M80311855',\n",
       " 'sub-M80335769',\n",
       " 'sub-M80303079',\n",
       " 'sub-M80317101',\n",
       " 'sub-M80390646',\n",
       " 'sub-M80306091',\n",
       " 'sub-M80307015',\n",
       " 'sub-M80343725',\n",
       " 'sub-M80338269',\n",
       " 'sub-M80344098',\n",
       " 'sub-M80320992',\n",
       " 'sub-M80383944',\n",
       " 'sub-M80318592',\n",
       " 'sub-M80328207',\n",
       " 'sub-M80310618',\n",
       " 'sub-M80385728',\n",
       " 'sub-M80335113',\n",
       " 'sub-M80397077',\n",
       " 'sub-M80358852',\n",
       " 'sub-M80312954',\n",
       " 'sub-M80305453',\n",
       " 'sub-M80358953',\n",
       " 'sub-M80357658',\n",
       " 'sub-M80390618',\n",
       " 'sub-M80371745',\n",
       " 'sub-M80356200',\n",
       " 'sub-M80313660',\n",
       " 'sub-M80322778',\n",
       " 'sub-M80392546',\n",
       " 'sub-M80385201',\n",
       " 'sub-M80373786',\n",
       " 'sub-M80318910',\n",
       " 'sub-M80344484',\n",
       " 'sub-M80311434',\n",
       " 'sub-M80393391',\n",
       " 'sub-M80363982',\n",
       " 'sub-M80347052',\n",
       " 'sub-M80398666',\n",
       " 'sub-M80326904',\n",
       " 'sub-M80336871',\n",
       " 'sub-M80362271',\n",
       " 'sub-M80305915',\n",
       " 'sub-M80362430',\n",
       " 'sub-M80353545',\n",
       " 'sub-M80354415',\n",
       " 'sub-M80349350',\n",
       " 'sub-M80321641',\n",
       " 'sub-M80328328',\n",
       " 'sub-M80399870']"
      ]
     },
     "execution_count": 13,
     "metadata": {},
     "output_type": "execute_result"
    }
   ],
   "source": [
    "sponsubs = [z[0:13] for z in sponfiles]\n",
    "sponsubs"
   ]
  },
  {
   "cell_type": "code",
   "execution_count": 14,
   "metadata": {
    "collapsed": true
   },
   "outputs": [
    {
     "data": {
      "text/plain": [
       "['sub-M80309434_ses-1_task-bladderpain_space-canlab2018-2mm_desc-preproc-cleaned.nii',\n",
       " 'sub-M80340964_ses-1_task-bladderpain_space-canlab2018-2mm_desc-preproc-cleaned.nii',\n",
       " 'sub-M80306684_ses-1_task-bladderpain_space-canlab2018-2mm_desc-preproc-cleaned.nii',\n",
       " 'sub-M80312814_ses-1_task-bladderpain_space-canlab2018-2mm_desc-preproc-cleaned.nii',\n",
       " 'sub-M80336524_ses-1_task-bladderpain_space-canlab2018-2mm_desc-preproc-cleaned.nii',\n",
       " 'sub-M80375622_ses-1_task-bladderpain_space-canlab2018-2mm_desc-preproc-cleaned.nii',\n",
       " 'sub-M80398666_ses-1_task-bladderpain_space-canlab2018-2mm_desc-preproc-cleaned.nii',\n",
       " 'sub-M80350874_ses-1_task-bladderpain_space-canlab2018-2mm_desc-preproc-cleaned.nii',\n",
       " 'sub-M80326890_ses-1_task-bladderpain_space-canlab2018-2mm_desc-preproc-cleaned.nii',\n",
       " 'sub-M80373984_ses-1_task-bladderpain_space-canlab2018-2mm_desc-preproc-cleaned.nii',\n",
       " 'sub-M80390646_ses-1_task-bladderpain_space-canlab2018-2mm_desc-preproc-cleaned.nii',\n",
       " 'sub-M80302799_ses-1_task-bladderpain_space-canlab2018-2mm_desc-preproc-cleaned.nii',\n",
       " 'sub-M80344484_ses-1_task-bladderpain_space-canlab2018-2mm_desc-preproc-cleaned.nii',\n",
       " 'sub-M80321641_ses-1_task-bladderpain_space-canlab2018-2mm_desc-preproc-cleaned.nii',\n",
       " 'sub-M80348133_ses-1_task-bladderpain_space-canlab2018-2mm_desc-preproc-cleaned.nii',\n",
       " 'sub-M80362430_ses-1_task-bladderpain_space-canlab2018-2mm_desc-preproc-cleaned.nii',\n",
       " 'sub-M80362938_ses-1_task-bladderpain_space-canlab2018-2mm_desc-preproc-cleaned.nii',\n",
       " 'sub-M80389422_ses-1_task-bladderpain_space-canlab2018-2mm_desc-preproc-cleaned.nii',\n",
       " 'sub-M80366943_ses-1_task-bladderpain_space-canlab2018-2mm_desc-preproc-cleaned.nii',\n",
       " 'sub-M80371745_ses-1_task-bladderpain_space-canlab2018-2mm_desc-preproc-cleaned.nii',\n",
       " 'sub-M80383944_ses-1_task-bladderpain_space-canlab2018-2mm_desc-preproc-cleaned.nii',\n",
       " 'sub-M80321700_ses-1_task-bladderpain_space-canlab2018-2mm_desc-preproc-cleaned.nii',\n",
       " 'sub-M80304397_ses-1_task-bladderpain_space-canlab2018-2mm_desc-preproc-cleaned.nii',\n",
       " 'sub-M80330026_ses-1_task-bladderpain_space-canlab2018-2mm_desc-preproc-cleaned.nii',\n",
       " 'sub-M80316037_ses-1_task-bladderpain_space-canlab2018-2mm_desc-preproc-cleaned.nii',\n",
       " 'sub-M80365070_ses-1_task-bladderpain_space-canlab2018-2mm_desc-preproc-cleaned.nii',\n",
       " 'sub-M80336833_ses-1_task-bladderpain_space-canlab2018-2mm_desc-preproc-cleaned.nii',\n",
       " 'sub-M80370429_ses-1_task-bladderpain_space-canlab2018-2mm_desc-preproc-cleaned.nii',\n",
       " 'sub-M80305800_ses-1_task-bladderpain_space-canlab2018-2mm_desc-preproc-cleaned.nii',\n",
       " 'sub-M80373165_ses-1_task-bladderpain_space-canlab2018-2mm_desc-preproc-cleaned.nii',\n",
       " 'sub-M80310232_ses-1_task-bladderpain_space-canlab2018-2mm_desc-preproc-cleaned.nii',\n",
       " 'sub-M80349728_ses-1_task-bladderpain_space-canlab2018-2mm_desc-preproc-cleaned.nii',\n",
       " 'sub-M80395521_ses-1_task-bladderpain_space-canlab2018-2mm_desc-preproc-cleaned.nii',\n",
       " 'sub-M80354415_ses-1_task-bladderpain_space-canlab2018-2mm_desc-preproc-cleaned.nii',\n",
       " 'sub-M80388445_ses-1_task-bladderpain_space-canlab2018-2mm_desc-preproc-cleaned.nii',\n",
       " 'sub-M80334610_ses-1_task-bladderpain_space-canlab2018-2mm_desc-preproc-cleaned.nii',\n",
       " 'sub-M80344098_ses-1_task-bladderpain_space-canlab2018-2mm_desc-preproc-cleaned.nii',\n",
       " 'sub-M80317666_ses-1_task-bladderpain_space-canlab2018-2mm_desc-preproc-cleaned.nii',\n",
       " 'sub-M80354166_ses-1_task-bladderpain_space-canlab2018-2mm_desc-preproc-cleaned.nii',\n",
       " 'sub-M80363223_ses-1_task-bladderpain_space-canlab2018-2mm_desc-preproc-cleaned.nii',\n",
       " 'sub-M80336871_ses-1_task-bladderpain_space-canlab2018-2mm_desc-preproc-cleaned.nii',\n",
       " 'sub-M80386115_ses-1_task-bladderpain_space-canlab2018-2mm_desc-preproc-cleaned.nii',\n",
       " 'sub-M80384493_ses-1_task-bladderpain_space-canlab2018-2mm_desc-preproc-cleaned.nii',\n",
       " 'sub-M80393391_ses-1_task-bladderpain_space-canlab2018-2mm_desc-preproc-cleaned.nii',\n",
       " 'sub-M80337218_ses-1_task-bladderpain_space-canlab2018-2mm_desc-preproc-cleaned.nii',\n",
       " 'sub-M80310778_ses-1_task-bladderpain_space-canlab2018-2mm_desc-preproc-cleaned.nii',\n",
       " 'sub-M80384594_ses-1_task-bladderpain_space-canlab2018-2mm_desc-preproc-cleaned.nii',\n",
       " 'sub-M80336970_ses-1_task-bladderpain_space-canlab2018-2mm_desc-preproc-cleaned.nii',\n",
       " 'sub-M80320091_ses-1_task-bladderpain_space-canlab2018-2mm_desc-preproc-cleaned.nii',\n",
       " 'sub-M80387585_ses-1_task-bladderpain_space-canlab2018-2mm_desc-preproc-cleaned.nii',\n",
       " 'sub-M80399870_ses-1_task-bladderpain_space-canlab2018-2mm_desc-preproc-cleaned.nii',\n",
       " 'sub-M80304717_ses-1_task-bladderpain_space-canlab2018-2mm_desc-preproc-cleaned.nii',\n",
       " 'sub-M80341407_ses-1_task-bladderpain_space-canlab2018-2mm_desc-preproc-cleaned.nii',\n",
       " 'sub-M80382492_ses-1_task-bladderpain_space-canlab2018-2mm_desc-preproc-cleaned.nii',\n",
       " 'sub-M80369669_ses-1_task-bladderpain_space-canlab2018-2mm_desc-preproc-cleaned.nii',\n",
       " 'sub-M80341831_ses-1_task-bladderpain_space-canlab2018-2mm_desc-preproc-cleaned.nii',\n",
       " 'sub-M80374029_ses-1_task-bladderpain_space-canlab2018-2mm_desc-preproc-cleaned.nii',\n",
       " 'sub-M80321120_ses-1_task-bladderpain_space-canlab2018-2mm_desc-preproc-cleaned.nii',\n",
       " 'sub-M80357761_ses-1_task-bladderpain_space-canlab2018-2mm_desc-preproc-cleaned.nii',\n",
       " 'sub-M80328230_ses-1_task-bladderpain_space-canlab2018-2mm_desc-preproc-cleaned.nii',\n",
       " 'sub-M80372078_ses-1_task-bladderpain_space-canlab2018-2mm_desc-preproc-cleaned.nii',\n",
       " 'sub-M80355749_ses-1_task-bladderpain_space-canlab2018-2mm_desc-preproc-cleaned.nii',\n",
       " 'sub-M80303079_ses-1_task-bladderpain_space-canlab2018-2mm_desc-preproc-cleaned.nii',\n",
       " 'sub-M80310618_ses-1_task-bladderpain_space-canlab2018-2mm_desc-preproc-cleaned.nii',\n",
       " 'sub-M80326819_ses-1_task-bladderpain_space-canlab2018-2mm_desc-preproc-cleaned.nii',\n",
       " 'sub-M80352012_ses-1_task-bladderpain_space-canlab2018-2mm_desc-preproc-cleaned.nii',\n",
       " 'sub-M80347121_ses-1_task-bladderpain_space-canlab2018-2mm_desc-preproc-cleaned.nii',\n",
       " 'sub-M80384799_ses-1_task-bladderpain_space-canlab2018-2mm_desc-preproc-cleaned.nii',\n",
       " 'sub-M80387602_ses-1_task-bladderpain_space-canlab2018-2mm_desc-preproc-cleaned.nii',\n",
       " 'sub-M80370204_ses-1_task-bladderpain_space-canlab2018-2mm_desc-preproc-cleaned.nii',\n",
       " 'sub-M80354222_ses-1_task-bladderpain_space-canlab2018-2mm_desc-preproc-cleaned.nii',\n",
       " 'sub-M80333899_ses-1_task-bladderpain_space-canlab2018-2mm_desc-preproc-cleaned.nii',\n",
       " 'sub-M80374205_ses-1_task-bladderpain_space-canlab2018-2mm_desc-preproc-cleaned.nii',\n",
       " 'sub-M80341498_ses-1_task-bladderpain_space-canlab2018-2mm_desc-preproc-cleaned.nii',\n",
       " 'sub-M80351906_ses-1_task-bladderpain_space-canlab2018-2mm_desc-preproc-cleaned.nii',\n",
       " 'sub-M80316805_ses-1_task-bladderpain_space-canlab2018-2mm_desc-preproc-cleaned.nii',\n",
       " 'sub-M80385201_ses-1_task-bladderpain_space-canlab2018-2mm_desc-preproc-cleaned.nii',\n",
       " 'sub-M80395955_ses-1_task-bladderpain_space-canlab2018-2mm_desc-preproc-cleaned.nii',\n",
       " 'sub-M80313660_ses-1_task-bladderpain_space-canlab2018-2mm_desc-preproc-cleaned.nii',\n",
       " 'sub-M80396887_ses-1_task-bladderpain_space-canlab2018-2mm_desc-preproc-cleaned.nii',\n",
       " 'sub-M80378427_ses-1_task-bladderpain_space-canlab2018-2mm_desc-preproc-cleaned.nii',\n",
       " 'sub-M80316833_ses-1_task-bladderpain_space-canlab2018-2mm_desc-preproc-cleaned.nii',\n",
       " 'sub-M80317076_ses-1_task-bladderpain_space-canlab2018-2mm_desc-preproc-cleaned.nii',\n",
       " 'sub-M80366027_ses-1_task-bladderpain_space-canlab2018-2mm_desc-preproc-cleaned.nii',\n",
       " 'sub-M80312954_ses-1_task-bladderpain_space-canlab2018-2mm_desc-preproc-cleaned.nii',\n",
       " 'sub-M80358201_ses-1_task-bladderpain_space-canlab2018-2mm_desc-preproc-cleaned.nii',\n",
       " 'sub-M80318592_ses-1_task-bladderpain_space-canlab2018-2mm_desc-preproc-cleaned.nii',\n",
       " 'sub-M80385355_ses-1_task-bladderpain_space-canlab2018-2mm_desc-preproc-cleaned.nii',\n",
       " 'sub-M80394681_ses-1_task-bladderpain_space-canlab2018-2mm_desc-preproc-cleaned.nii',\n",
       " 'sub-M80310278_ses-1_task-bladderpain_space-canlab2018-2mm_desc-preproc-cleaned.nii',\n",
       " 'sub-M80340554_ses-1_task-bladderpain_space-canlab2018-2mm_desc-preproc-cleaned.nii',\n",
       " 'sub-M80352349_ses-1_task-bladderpain_space-canlab2018-2mm_desc-preproc-cleaned.nii',\n",
       " 'sub-M80360072_ses-1_task-bladderpain_space-canlab2018-2mm_desc-preproc-cleaned.nii',\n",
       " 'sub-M80346209_ses-1_task-bladderpain_space-canlab2018-2mm_desc-preproc-cleaned.nii',\n",
       " 'sub-M80387207_ses-1_task-bladderpain_space-canlab2018-2mm_desc-preproc-cleaned.nii',\n",
       " 'sub-M80399337_ses-1_task-bladderpain_space-canlab2018-2mm_desc-preproc-cleaned.nii',\n",
       " 'sub-M80304738_ses-1_task-bladderpain_space-canlab2018-2mm_desc-preproc-cleaned.nii',\n",
       " 'sub-M80325092_ses-1_task-bladderpain_space-canlab2018-2mm_desc-preproc-cleaned.nii',\n",
       " 'sub-M80375510_ses-1_task-bladderpain_space-canlab2018-2mm_desc-preproc-cleaned.nii',\n",
       " 'sub-M80362271_ses-1_task-bladderpain_space-canlab2018-2mm_desc-preproc-cleaned.nii',\n",
       " 'sub-M80376269_ses-1_task-bladderpain_space-canlab2018-2mm_desc-preproc-cleaned.nii',\n",
       " 'sub-M80374686_ses-1_task-bladderpain_space-canlab2018-2mm_desc-preproc-cleaned.nii',\n",
       " 'sub-M80340863_ses-1_task-bladderpain_space-canlab2018-2mm_desc-preproc-cleaned.nii',\n",
       " 'sub-M80373786_ses-1_task-bladderpain_space-canlab2018-2mm_desc-preproc-cleaned.nii',\n",
       " 'sub-M80381069_ses-1_task-bladderpain_space-canlab2018-2mm_desc-preproc-cleaned.nii',\n",
       " 'sub-M80328328_ses-1_task-bladderpain_space-canlab2018-2mm_desc-preproc-cleaned.nii',\n",
       " 'sub-M80303260_ses-1_task-bladderpain_space-canlab2018-2mm_desc-preproc-cleaned.nii',\n",
       " 'sub-M80359226_ses-1_task-bladderpain_space-canlab2018-2mm_desc-preproc-cleaned.nii',\n",
       " 'sub-M80390618_ses-1_task-bladderpain_space-canlab2018-2mm_desc-preproc-cleaned.nii',\n",
       " 'sub-M80302134_ses-1_task-bladderpain_space-canlab2018-2mm_desc-preproc-cleaned.nii',\n",
       " 'sub-M80303741_ses-1_task-bladderpain_space-canlab2018-2mm_desc-preproc-cleaned.nii',\n",
       " 'sub-M80326076_ses-1_task-bladderpain_space-canlab2018-2mm_desc-preproc-cleaned.nii',\n",
       " 'sub-M80364787_ses-1_task-bladderpain_space-canlab2018-2mm_desc-preproc-cleaned.nii',\n",
       " 'sub-M80332055_ses-1_task-bladderpain_space-canlab2018-2mm_desc-preproc-cleaned.nii',\n",
       " 'sub-M80309149_ses-1_task-bladderpain_space-canlab2018-2mm_desc-preproc-cleaned.nii',\n",
       " 'sub-M80335769_ses-1_task-bladderpain_space-canlab2018-2mm_desc-preproc-cleaned.nii',\n",
       " 'sub-M80337869_ses-1_task-bladderpain_space-canlab2018-2mm_desc-preproc-cleaned.nii',\n",
       " 'sub-M80358716_ses-1_task-bladderpain_space-canlab2018-2mm_desc-preproc-cleaned.nii',\n",
       " 'sub-M80349350_ses-1_task-bladderpain_space-canlab2018-2mm_desc-preproc-cleaned.nii',\n",
       " 'sub-M80316294_ses-1_task-bladderpain_space-canlab2018-2mm_desc-preproc-cleaned.nii',\n",
       " 'sub-M80399265_ses-1_task-bladderpain_space-canlab2018-2mm_desc-preproc-cleaned.nii',\n",
       " 'sub-M80305915_ses-1_task-bladderpain_space-canlab2018-2mm_desc-preproc-cleaned.nii',\n",
       " 'sub-M80304426_ses-1_task-bladderpain_space-canlab2018-2mm_desc-preproc-cleaned.nii',\n",
       " 'sub-M80347052_ses-1_task-bladderpain_space-canlab2018-2mm_desc-preproc-cleaned.nii',\n",
       " 'sub-M80352006_ses-1_task-bladderpain_space-canlab2018-2mm_desc-preproc-cleaned.nii',\n",
       " 'sub-M80321202_ses-1_task-bladderpain_space-canlab2018-2mm_desc-preproc-cleaned.nii',\n",
       " 'sub-M80362227_ses-1_task-bladderpain_space-canlab2018-2mm_desc-preproc-cleaned.nii',\n",
       " 'sub-M80345974_ses-1_task-bladderpain_space-canlab2018-2mm_desc-preproc-cleaned.nii',\n",
       " 'sub-M80397077_ses-1_task-bladderpain_space-canlab2018-2mm_desc-preproc-cleaned.nii',\n",
       " 'sub-M80385728_ses-1_task-bladderpain_space-canlab2018-2mm_desc-preproc-cleaned.nii',\n",
       " 'sub-M80328207_ses-1_task-bladderpain_space-canlab2018-2mm_desc-preproc-cleaned.nii',\n",
       " 'sub-M80344908_ses-1_task-bladderpain_space-canlab2018-2mm_desc-preproc-cleaned.nii',\n",
       " 'sub-M80356762_ses-1_task-bladderpain_space-canlab2018-2mm_desc-preproc-cleaned.nii',\n",
       " 'sub-M80306284_ses-1_task-bladderpain_space-canlab2018-2mm_desc-preproc-cleaned.nii',\n",
       " 'sub-M80307015_ses-1_task-bladderpain_space-canlab2018-2mm_desc-preproc-cleaned.nii',\n",
       " 'sub-M80303770_ses-1_task-bladderpain_space-canlab2018-2mm_desc-preproc-cleaned.nii',\n",
       " 'sub-M80305453_ses-1_task-bladderpain_space-canlab2018-2mm_desc-preproc-cleaned.nii',\n",
       " 'sub-M80360754_ses-1_task-bladderpain_space-canlab2018-2mm_desc-preproc-cleaned.nii',\n",
       " 'sub-M80326904_ses-1_task-bladderpain_space-canlab2018-2mm_desc-preproc-cleaned.nii',\n",
       " 'sub-M80390470_ses-1_task-bladderpain_space-canlab2018-2mm_desc-preproc-cleaned.nii',\n",
       " 'sub-M80311434_ses-1_task-bladderpain_space-canlab2018-2mm_desc-preproc-cleaned.nii',\n",
       " 'sub-M80369881_ses-1_task-bladderpain_space-canlab2018-2mm_desc-preproc-cleaned.nii',\n",
       " 'sub-M80384692_ses-1_task-bladderpain_space-canlab2018-2mm_desc-preproc-cleaned.nii',\n",
       " 'sub-M80356200_ses-1_task-bladderpain_space-canlab2018-2mm_desc-preproc-cleaned.nii',\n",
       " 'sub-M80313658_ses-1_task-bladderpain_space-canlab2018-2mm_desc-preproc-cleaned.nii',\n",
       " 'sub-M80311855_ses-1_task-bladderpain_space-canlab2018-2mm_desc-preproc-cleaned.nii',\n",
       " 'sub-M80321756_ses-1_task-bladderpain_space-canlab2018-2mm_desc-preproc-cleaned.nii',\n",
       " 'sub-M80338269_ses-1_task-bladderpain_space-canlab2018-2mm_desc-preproc-cleaned.nii',\n",
       " 'sub-M80351764_ses-1_task-bladderpain_space-canlab2018-2mm_desc-preproc-cleaned.nii',\n",
       " 'sub-M80375912_ses-1_task-bladderpain_space-canlab2018-2mm_desc-preproc-cleaned.nii',\n",
       " 'sub-M80343725_ses-1_task-bladderpain_space-canlab2018-2mm_desc-preproc-cleaned.nii',\n",
       " 'sub-M80322778_ses-1_task-bladderpain_space-canlab2018-2mm_desc-preproc-cleaned.nii',\n",
       " 'sub-M80357658_ses-1_task-bladderpain_space-canlab2018-2mm_desc-preproc-cleaned.nii',\n",
       " 'sub-M80353545_ses-1_task-bladderpain_space-canlab2018-2mm_desc-preproc-cleaned.nii',\n",
       " 'sub-M80392546_ses-1_task-bladderpain_space-canlab2018-2mm_desc-preproc-cleaned.nii',\n",
       " 'sub-M80385274_ses-1_task-bladderpain_space-canlab2018-2mm_desc-preproc-cleaned.nii',\n",
       " 'sub-M80365873_ses-1_task-bladderpain_space-canlab2018-2mm_desc-preproc-cleaned.nii',\n",
       " 'sub-M80394858_ses-1_task-bladderpain_space-canlab2018-2mm_desc-preproc-cleaned.nii',\n",
       " 'sub-M80336083_ses-1_task-bladderpain_space-canlab2018-2mm_desc-preproc-cleaned.nii',\n",
       " 'sub-M80321321_ses-1_task-bladderpain_space-canlab2018-2mm_desc-preproc-cleaned.nii',\n",
       " 'sub-M80318052_ses-1_task-bladderpain_space-canlab2018-2mm_desc-preproc-cleaned.nii',\n",
       " 'sub-M80389796_ses-1_task-bladderpain_space-canlab2018-2mm_desc-preproc-cleaned.nii',\n",
       " 'sub-M80345437_ses-1_task-bladderpain_space-canlab2018-2mm_desc-preproc-cleaned.nii',\n",
       " 'sub-M80370470_ses-1_task-bladderpain_space-canlab2018-2mm_desc-preproc-cleaned.nii',\n",
       " 'sub-M80357200_ses-1_task-bladderpain_space-canlab2018-2mm_desc-preproc-cleaned.nii',\n",
       " 'sub-M80391055_ses-1_task-bladderpain_space-canlab2018-2mm_desc-preproc-cleaned.nii',\n",
       " 'sub-M80331231_ses-1_task-bladderpain_space-canlab2018-2mm_desc-preproc-cleaned.nii',\n",
       " 'sub-M80366570_ses-1_task-bladderpain_space-canlab2018-2mm_desc-preproc-cleaned.nii',\n",
       " 'sub-M80328211_ses-1_task-bladderpain_space-canlab2018-2mm_desc-preproc-cleaned.nii',\n",
       " 'sub-M80358718_ses-1_task-bladderpain_space-canlab2018-2mm_desc-preproc-cleaned.nii',\n",
       " 'sub-M80353136_ses-1_task-bladderpain_space-canlab2018-2mm_desc-preproc-cleaned.nii',\n",
       " 'sub-M80308229_ses-1_task-bladderpain_space-canlab2018-2mm_desc-preproc-cleaned.nii',\n",
       " 'sub-M80335113_ses-1_task-bladderpain_space-canlab2018-2mm_desc-preproc-cleaned.nii',\n",
       " 'sub-M80318910_ses-1_task-bladderpain_space-canlab2018-2mm_desc-preproc-cleaned.nii',\n",
       " 'sub-M80348570_ses-1_task-bladderpain_space-canlab2018-2mm_desc-preproc-cleaned.nii',\n",
       " 'sub-M80311578_ses-1_task-bladderpain_space-canlab2018-2mm_desc-preproc-cleaned.nii',\n",
       " 'sub-M80309706_ses-1_task-bladderpain_space-canlab2018-2mm_desc-preproc-cleaned.nii',\n",
       " 'sub-M80341717_ses-1_task-bladderpain_space-canlab2018-2mm_desc-preproc-cleaned.nii',\n",
       " 'sub-M80375143_ses-1_task-bladderpain_space-canlab2018-2mm_desc-preproc-cleaned.nii',\n",
       " 'sub-M80306091_ses-1_task-bladderpain_space-canlab2018-2mm_desc-preproc-cleaned.nii',\n",
       " 'sub-M80320992_ses-1_task-bladderpain_space-canlab2018-2mm_desc-preproc-cleaned.nii',\n",
       " 'sub-M80395778_ses-1_task-bladderpain_space-canlab2018-2mm_desc-preproc-cleaned.nii',\n",
       " 'sub-M80338105_ses-1_task-bladderpain_space-canlab2018-2mm_desc-preproc-cleaned.nii',\n",
       " 'sub-M80323778_ses-1_task-bladderpain_space-canlab2018-2mm_desc-preproc-cleaned.nii',\n",
       " 'sub-M80318234_ses-1_task-bladderpain_space-canlab2018-2mm_desc-preproc-cleaned.nii',\n",
       " 'sub-M80324276_ses-1_task-bladderpain_space-canlab2018-2mm_desc-preproc-cleaned.nii',\n",
       " 'sub-M80317101_ses-1_task-bladderpain_space-canlab2018-2mm_desc-preproc-cleaned.nii',\n",
       " 'sub-M80378375_ses-1_task-bladderpain_space-canlab2018-2mm_desc-preproc-cleaned.nii',\n",
       " 'sub-M80352280_ses-1_task-bladderpain_space-canlab2018-2mm_desc-preproc-cleaned.nii',\n",
       " 'sub-M80391633_ses-1_task-bladderpain_space-canlab2018-2mm_desc-preproc-cleaned.nii',\n",
       " 'sub-M80386647_ses-1_task-bladderpain_space-canlab2018-2mm_desc-preproc-cleaned.nii',\n",
       " 'sub-M80316547_ses-1_task-bladderpain_space-canlab2018-2mm_desc-preproc-cleaned.nii',\n",
       " 'sub-M80326848_ses-1_task-bladderpain_space-canlab2018-2mm_desc-preproc-cleaned.nii',\n",
       " 'sub-M80399971_ses-1_task-bladderpain_space-canlab2018-2mm_desc-preproc-cleaned.nii',\n",
       " 'sub-M80358852_ses-1_task-bladderpain_space-canlab2018-2mm_desc-preproc-cleaned.nii',\n",
       " 'sub-M80398382_ses-1_task-bladderpain_space-canlab2018-2mm_desc-preproc-cleaned.nii',\n",
       " 'sub-M80349405_ses-1_task-bladderpain_space-canlab2018-2mm_desc-preproc-cleaned.nii',\n",
       " 'sub-M80395867_ses-1_task-bladderpain_space-canlab2018-2mm_desc-preproc-cleaned.nii',\n",
       " 'sub-M80363982_ses-1_task-bladderpain_space-canlab2018-2mm_desc-preproc-cleaned.nii',\n",
       " 'sub-M80395860_ses-1_task-bladderpain_space-canlab2018-2mm_desc-preproc-cleaned.nii',\n",
       " 'sub-M80358953_ses-1_task-bladderpain_space-canlab2018-2mm_desc-preproc-cleaned.nii',\n",
       " 'sub-M80396900_ses-1_task-bladderpain_space-canlab2018-2mm_desc-preproc-cleaned.nii',\n",
       " 'sub-M80370264_ses-1_task-bladderpain_space-canlab2018-2mm_desc-preproc-cleaned.nii']"
      ]
     },
     "execution_count": 14,
     "metadata": {},
     "output_type": "execute_result"
    }
   ],
   "source": [
    "bladfiles = [os.path.basename(x) for x in glob(os.path.join(bladdir, 'sub*ses-1*.nii'))]\n",
    "bladfiles"
   ]
  },
  {
   "cell_type": "code",
   "execution_count": 15,
   "metadata": {},
   "outputs": [
    {
     "data": {
      "text/plain": [
       "203"
      ]
     },
     "execution_count": 15,
     "metadata": {},
     "output_type": "execute_result"
    }
   ],
   "source": [
    "len(bladfiles)"
   ]
  },
  {
   "cell_type": "code",
   "execution_count": 17,
   "metadata": {
    "collapsed": true
   },
   "outputs": [
    {
     "data": {
      "text/plain": [
       "['sub-M80309434',\n",
       " 'sub-M80340964',\n",
       " 'sub-M80306684',\n",
       " 'sub-M80312814',\n",
       " 'sub-M80336524',\n",
       " 'sub-M80375622',\n",
       " 'sub-M80398666',\n",
       " 'sub-M80350874',\n",
       " 'sub-M80326890',\n",
       " 'sub-M80373984',\n",
       " 'sub-M80390646',\n",
       " 'sub-M80302799',\n",
       " 'sub-M80344484',\n",
       " 'sub-M80321641',\n",
       " 'sub-M80348133',\n",
       " 'sub-M80362430',\n",
       " 'sub-M80362938',\n",
       " 'sub-M80389422',\n",
       " 'sub-M80366943',\n",
       " 'sub-M80371745',\n",
       " 'sub-M80383944',\n",
       " 'sub-M80321700',\n",
       " 'sub-M80304397',\n",
       " 'sub-M80330026',\n",
       " 'sub-M80316037',\n",
       " 'sub-M80365070',\n",
       " 'sub-M80336833',\n",
       " 'sub-M80370429',\n",
       " 'sub-M80305800',\n",
       " 'sub-M80373165',\n",
       " 'sub-M80310232',\n",
       " 'sub-M80349728',\n",
       " 'sub-M80395521',\n",
       " 'sub-M80354415',\n",
       " 'sub-M80388445',\n",
       " 'sub-M80334610',\n",
       " 'sub-M80344098',\n",
       " 'sub-M80317666',\n",
       " 'sub-M80354166',\n",
       " 'sub-M80363223',\n",
       " 'sub-M80336871',\n",
       " 'sub-M80386115',\n",
       " 'sub-M80384493',\n",
       " 'sub-M80393391',\n",
       " 'sub-M80337218',\n",
       " 'sub-M80310778',\n",
       " 'sub-M80384594',\n",
       " 'sub-M80336970',\n",
       " 'sub-M80320091',\n",
       " 'sub-M80387585',\n",
       " 'sub-M80399870',\n",
       " 'sub-M80304717',\n",
       " 'sub-M80341407',\n",
       " 'sub-M80382492',\n",
       " 'sub-M80369669',\n",
       " 'sub-M80341831',\n",
       " 'sub-M80374029',\n",
       " 'sub-M80321120',\n",
       " 'sub-M80357761',\n",
       " 'sub-M80328230',\n",
       " 'sub-M80372078',\n",
       " 'sub-M80355749',\n",
       " 'sub-M80303079',\n",
       " 'sub-M80310618',\n",
       " 'sub-M80326819',\n",
       " 'sub-M80352012',\n",
       " 'sub-M80347121',\n",
       " 'sub-M80384799',\n",
       " 'sub-M80387602',\n",
       " 'sub-M80370204',\n",
       " 'sub-M80354222',\n",
       " 'sub-M80333899',\n",
       " 'sub-M80374205',\n",
       " 'sub-M80341498',\n",
       " 'sub-M80351906',\n",
       " 'sub-M80316805',\n",
       " 'sub-M80385201',\n",
       " 'sub-M80395955',\n",
       " 'sub-M80313660',\n",
       " 'sub-M80396887',\n",
       " 'sub-M80378427',\n",
       " 'sub-M80316833',\n",
       " 'sub-M80317076',\n",
       " 'sub-M80366027',\n",
       " 'sub-M80312954',\n",
       " 'sub-M80358201',\n",
       " 'sub-M80318592',\n",
       " 'sub-M80385355',\n",
       " 'sub-M80394681',\n",
       " 'sub-M80310278',\n",
       " 'sub-M80340554',\n",
       " 'sub-M80352349',\n",
       " 'sub-M80360072',\n",
       " 'sub-M80346209',\n",
       " 'sub-M80387207',\n",
       " 'sub-M80399337',\n",
       " 'sub-M80304738',\n",
       " 'sub-M80325092',\n",
       " 'sub-M80375510',\n",
       " 'sub-M80362271',\n",
       " 'sub-M80376269',\n",
       " 'sub-M80374686',\n",
       " 'sub-M80340863',\n",
       " 'sub-M80373786',\n",
       " 'sub-M80381069',\n",
       " 'sub-M80328328',\n",
       " 'sub-M80303260',\n",
       " 'sub-M80359226',\n",
       " 'sub-M80390618',\n",
       " 'sub-M80302134',\n",
       " 'sub-M80303741',\n",
       " 'sub-M80326076',\n",
       " 'sub-M80364787',\n",
       " 'sub-M80332055',\n",
       " 'sub-M80309149',\n",
       " 'sub-M80335769',\n",
       " 'sub-M80337869',\n",
       " 'sub-M80358716',\n",
       " 'sub-M80349350',\n",
       " 'sub-M80316294',\n",
       " 'sub-M80399265',\n",
       " 'sub-M80305915',\n",
       " 'sub-M80304426',\n",
       " 'sub-M80347052',\n",
       " 'sub-M80352006',\n",
       " 'sub-M80321202',\n",
       " 'sub-M80362227',\n",
       " 'sub-M80345974',\n",
       " 'sub-M80397077',\n",
       " 'sub-M80385728',\n",
       " 'sub-M80328207',\n",
       " 'sub-M80344908',\n",
       " 'sub-M80356762',\n",
       " 'sub-M80306284',\n",
       " 'sub-M80307015',\n",
       " 'sub-M80303770',\n",
       " 'sub-M80305453',\n",
       " 'sub-M80360754',\n",
       " 'sub-M80326904',\n",
       " 'sub-M80390470',\n",
       " 'sub-M80311434',\n",
       " 'sub-M80369881',\n",
       " 'sub-M80384692',\n",
       " 'sub-M80356200',\n",
       " 'sub-M80313658',\n",
       " 'sub-M80311855',\n",
       " 'sub-M80321756',\n",
       " 'sub-M80338269',\n",
       " 'sub-M80351764',\n",
       " 'sub-M80375912',\n",
       " 'sub-M80343725',\n",
       " 'sub-M80322778',\n",
       " 'sub-M80357658',\n",
       " 'sub-M80353545',\n",
       " 'sub-M80392546',\n",
       " 'sub-M80385274',\n",
       " 'sub-M80365873',\n",
       " 'sub-M80394858',\n",
       " 'sub-M80336083',\n",
       " 'sub-M80321321',\n",
       " 'sub-M80318052',\n",
       " 'sub-M80389796',\n",
       " 'sub-M80345437',\n",
       " 'sub-M80370470',\n",
       " 'sub-M80357200',\n",
       " 'sub-M80391055',\n",
       " 'sub-M80331231',\n",
       " 'sub-M80366570',\n",
       " 'sub-M80328211',\n",
       " 'sub-M80358718',\n",
       " 'sub-M80353136',\n",
       " 'sub-M80308229',\n",
       " 'sub-M80335113',\n",
       " 'sub-M80318910',\n",
       " 'sub-M80348570',\n",
       " 'sub-M80311578',\n",
       " 'sub-M80309706',\n",
       " 'sub-M80341717',\n",
       " 'sub-M80375143',\n",
       " 'sub-M80306091',\n",
       " 'sub-M80320992',\n",
       " 'sub-M80395778',\n",
       " 'sub-M80338105',\n",
       " 'sub-M80323778',\n",
       " 'sub-M80318234',\n",
       " 'sub-M80324276',\n",
       " 'sub-M80317101',\n",
       " 'sub-M80378375',\n",
       " 'sub-M80352280',\n",
       " 'sub-M80391633',\n",
       " 'sub-M80386647',\n",
       " 'sub-M80316547',\n",
       " 'sub-M80326848',\n",
       " 'sub-M80399971',\n",
       " 'sub-M80358852',\n",
       " 'sub-M80398382',\n",
       " 'sub-M80349405',\n",
       " 'sub-M80395867',\n",
       " 'sub-M80363982',\n",
       " 'sub-M80395860',\n",
       " 'sub-M80358953',\n",
       " 'sub-M80396900',\n",
       " 'sub-M80370264']"
      ]
     },
     "execution_count": 17,
     "metadata": {},
     "output_type": "execute_result"
    }
   ],
   "source": [
    "bladsubs = [z[0:13] for z in bladfiles]\n",
    "bladsubs"
   ]
  },
  {
   "cell_type": "code",
   "execution_count": 18,
   "metadata": {},
   "outputs": [
    {
     "data": {
      "text/plain": [
       "['sub-M80321700', 'sub-M80395521']"
      ]
     },
     "execution_count": 18,
     "metadata": {},
     "output_type": "execute_result"
    }
   ],
   "source": [
    "# these are subs who have bladder pain data but no spontaneous connectome\n",
    "listdiff1 = [sub for sub in bladsubs if sub not in sponsubs]\n",
    "listdiff1"
   ]
  },
  {
   "cell_type": "code",
   "execution_count": 19,
   "metadata": {},
   "outputs": [
    {
     "data": {
      "text/plain": [
       "['sub-M80340398']"
      ]
     },
     "execution_count": 19,
     "metadata": {},
     "output_type": "execute_result"
    }
   ],
   "source": [
    "# these are subs who have spontaneous connectomes but not bladder pain data\n",
    "listdiff2 = [sub for sub in sponsubs if sub not in bladsubs]\n",
    "listdiff2"
   ]
  },
  {
   "cell_type": "code",
   "execution_count": 28,
   "metadata": {},
   "outputs": [
    {
     "name": "stdout",
     "output_type": "stream",
     "text": [
      "sub-M80340398\n"
     ]
    }
   ],
   "source": [
    "# get a list of indices from the sponpain list (which corresponds to the order of CHA mappers) that does not include\n",
    "# participants who aren't in both lists. mapper_indices will be used to load mappers, and p_list will be used to load \n",
    "# bladder data\n",
    "mapper_indices = []\n",
    "p_list = []\n",
    "for sub in sponsubs:\n",
    "    if sub in bladsubs and sub in sponsubs:\n",
    "        mapper_indices.append(sponsubs.index(sub))\n",
    "        p_list.append(sub)\n",
    "    else:\n",
    "        print(sub)"
   ]
  },
  {
   "cell_type": "code",
   "execution_count": 47,
   "metadata": {
    "collapsed": true
   },
   "outputs": [
    {
     "name": "stdout",
     "output_type": "stream",
     "text": [
      "True\n",
      "True\n",
      "True\n",
      "True\n",
      "True\n",
      "True\n",
      "True\n",
      "True\n",
      "True\n",
      "True\n",
      "True\n",
      "True\n",
      "True\n",
      "True\n",
      "True\n",
      "True\n",
      "True\n",
      "True\n",
      "True\n",
      "True\n",
      "True\n",
      "True\n",
      "True\n",
      "True\n",
      "True\n",
      "True\n",
      "True\n",
      "True\n",
      "True\n",
      "True\n",
      "True\n",
      "True\n",
      "True\n",
      "True\n",
      "True\n",
      "True\n",
      "True\n",
      "True\n",
      "True\n",
      "True\n",
      "True\n",
      "True\n",
      "True\n",
      "True\n",
      "True\n",
      "True\n",
      "True\n",
      "True\n",
      "True\n",
      "True\n",
      "True\n",
      "True\n",
      "True\n",
      "True\n",
      "True\n",
      "True\n",
      "True\n",
      "True\n",
      "True\n",
      "True\n",
      "True\n",
      "True\n",
      "True\n",
      "True\n",
      "True\n",
      "True\n",
      "True\n",
      "True\n",
      "True\n",
      "True\n",
      "True\n",
      "True\n",
      "True\n",
      "True\n",
      "True\n",
      "True\n",
      "True\n",
      "True\n",
      "True\n",
      "True\n",
      "True\n",
      "True\n",
      "True\n",
      "True\n",
      "True\n",
      "True\n",
      "True\n",
      "True\n",
      "True\n",
      "True\n",
      "True\n",
      "True\n",
      "True\n",
      "True\n",
      "True\n",
      "True\n",
      "True\n",
      "True\n",
      "True\n",
      "True\n",
      "True\n",
      "True\n",
      "True\n",
      "True\n",
      "True\n",
      "True\n",
      "True\n",
      "True\n",
      "True\n",
      "True\n",
      "True\n",
      "True\n",
      "True\n",
      "True\n",
      "True\n",
      "True\n",
      "True\n",
      "True\n",
      "True\n",
      "True\n",
      "True\n",
      "True\n",
      "True\n",
      "True\n",
      "True\n",
      "True\n",
      "True\n",
      "True\n",
      "True\n",
      "True\n",
      "True\n",
      "True\n",
      "True\n",
      "True\n",
      "True\n",
      "True\n",
      "True\n",
      "True\n",
      "True\n",
      "True\n",
      "True\n",
      "True\n",
      "True\n",
      "True\n",
      "True\n",
      "True\n",
      "True\n",
      "True\n",
      "True\n",
      "True\n",
      "True\n",
      "True\n",
      "True\n",
      "True\n",
      "True\n",
      "True\n",
      "True\n",
      "True\n",
      "True\n",
      "True\n",
      "True\n",
      "True\n",
      "True\n",
      "True\n",
      "True\n",
      "True\n",
      "True\n",
      "True\n",
      "True\n",
      "True\n",
      "True\n",
      "True\n",
      "True\n",
      "True\n",
      "True\n",
      "True\n",
      "True\n",
      "True\n",
      "True\n",
      "True\n",
      "True\n",
      "True\n",
      "True\n",
      "True\n",
      "True\n",
      "True\n",
      "True\n",
      "True\n",
      "True\n",
      "True\n",
      "True\n",
      "True\n",
      "True\n",
      "True\n",
      "True\n",
      "True\n",
      "True\n",
      "True\n",
      "True\n",
      "True\n",
      "True\n"
     ]
    }
   ],
   "source": [
    "mappers = h5load(os.path.join(mapdir,'olp4cbp_mappers_subs-202_radius-10.hdf5.gz'))\n",
    "print('Mappers Loaded.')\n",
    "savedir = '/dartfs-hpc/rc/home/1/f0040y1/CANlab/labdata/projects/OLP4CBP/hyperalignment/common_spaces/bladderpain/commonspace_subs-201_radius-10/'\n",
    "\n",
    "for i, sub in enumerate(p_list):\n",
    "    this_blad = os.path.join(bladdir, sub + '_ses-1_task-bladderpain_space-canlab2018-2mm_desc-preproc-cleaned.nii')\n",
    "    if os.path.isfile(this_blad):\n",
    "        ds = fmri_dataset(this_blad, mask=os.path.join(helperfiles,'newbrainmask.nii'))\n",
    "        ds_mapped = mappers[mapper_indices[i]].forward(ds)\n",
    "        np.save(savedir + sub + '_commonspace-bladderinspon_subs-202_radius-10', ds_mapped)\n",
    "    else:\n",
    "        print('File does not exist: ')\n",
    "        print(this_blad)\n",
    "        break\n",
    "    \n",
    "    \n",
    "    #dss_aligned = [mapper.forward(ds) for ds, mapper in zip(dss, mappers)]"
   ]
  },
  {
   "cell_type": "code",
   "execution_count": null,
   "metadata": {},
   "outputs": [],
   "source": [
    "dss = []\n",
    "for sub in range(len(mysubs)):\n",
    "    ds = mv.Dataset(np.load(mysubs[sub]))\n",
    "    ds.fa['voxel_indices'] = range(ds.shape[1])\n",
    "    #ds.sa['chunks'] = np.repeat(i,cnx_tx)\n",
    "    mv.zscore(ds, chunks_attr=None)\n",
    "    dss.append(ds)\n"
   ]
  },
  {
   "cell_type": "code",
   "execution_count": 68,
   "metadata": {},
   "outputs": [
    {
     "data": {
      "text/plain": [
       "'/dartfs-hpc/rc/home/1/f0040y1/CANlab/labdata/projects/OLP4CBP/hyperalignment/common_spaces/bladderpain/commonspace_subs-201_radius-10/sub-M80326819_commonspace-bladderinspon_subs-202_radius-10'"
      ]
     },
     "execution_count": 68,
     "metadata": {},
     "output_type": "execute_result"
    }
   ],
   "source": [
    "savedir = '/dartfs-hpc/rc/home/1/f0040y1/CANlab/labdata/projects/OLP4CBP/hyperalignment/common_spaces/bladderpain/commonspace_subs-201_radius-10/'\n",
    "savedir + sub + '_commonspace-bladderinspon_subs-202_radius-10'"
   ]
  },
  {
   "cell_type": "code",
   "execution_count": 65,
   "metadata": {},
   "outputs": [],
   "source": [
    "sub = p_list[0]"
   ]
  },
  {
   "cell_type": "code",
   "execution_count": 53,
   "metadata": {},
   "outputs": [
    {
     "name": "stderr",
     "output_type": "stream",
     "text": [
      "/optnfs/common/miniconda3/envs/anaconda2/lib/python2.7/site-packages/numpy/lib/type_check.py:546: DeprecationWarning: np.asscalar(a) is deprecated since NumPy v1.16, use a.item() instead\n",
      "  'a.item() instead', DeprecationWarning, stacklevel=1)\n"
     ]
    }
   ],
   "source": [
    "mappers = h5load(os.path.join(mapdir,'olp4cbp_mappers_subs-202_radius-10.hdf5.gz'))"
   ]
  },
  {
   "cell_type": "code",
   "execution_count": 61,
   "metadata": {},
   "outputs": [],
   "source": [
    "x = mappers[0].forward(ds)"
   ]
  },
  {
   "cell_type": "code",
   "execution_count": 63,
   "metadata": {},
   "outputs": [
    {
     "data": {
      "text/plain": [
       "(1613, 170804)"
      ]
     },
     "execution_count": 63,
     "metadata": {},
     "output_type": "execute_result"
    }
   ],
   "source": [
    "x.shape"
   ]
  },
  {
   "cell_type": "markdown",
   "metadata": {},
   "source": [
    "## Convert npy to nii"
   ]
  },
  {
   "cell_type": "code",
   "execution_count": 5,
   "metadata": {},
   "outputs": [],
   "source": [
    "from glob import glob\n",
    "import os.path\n",
    "\n",
    "datadir = '/dartfs-hpc/rc/home/1/f0040y1/CANlab/labdata/projects/OLP4CBP/hyperalignment/common_spaces/bladderpain/commonspace_subs-201_radius-10'\n",
    "\n",
    "# get list of npy files to convert\n",
    "myfiles = glob(os.path.join(datadir, '*.npy'))"
   ]
  },
  {
   "cell_type": "code",
   "execution_count": 14,
   "metadata": {},
   "outputs": [
    {
     "name": "stdout",
     "output_type": "stream",
     "text": [
      "sub-M80340964_commonspace-bladderinspon_subs-201_radius-10\n",
      "sub-M80375143_commonspace-bladderinspon_subs-201_radius-10\n",
      "sub-M80390470_commonspace-bladderinspon_subs-201_radius-10\n",
      "sub-M80321201_commonspace-bladderinspon_subs-202_radius-10\n",
      "sub-M80321120_commonspace-bladderinspon_subs-201_radius-10\n",
      "sub-M80364787_commonspace-bladderinspon_subs-201_radius-10\n",
      "sub-M80352349_commonspace-bladderinspon_subs-201_radius-10\n",
      "sub-M80357200_commonspace-bladderinspon_subs-201_radius-10\n",
      "sub-M80391633_commonspace-bladderinspon_subs-201_radius-10\n",
      "sub-M80360754_commonspace-bladderinspon_subs-201_radius-10\n",
      "sub-M80337218_commonspace-bladderinspon_subs-201_radius-10\n",
      "sub-M80304738_commonspace-bladderinspon_subs-201_radius-10\n",
      "sub-M80348133_commonspace-bladderinspon_subs-201_radius-10\n",
      "sub-M80331231_commonspace-bladderinspon_subs-201_radius-10\n",
      "sub-M80341717_commonspace-bladderinspon_subs-201_radius-10\n",
      "sub-M80356200_commonspace-bladderinspon_subs-201_radius-10\n",
      "sub-M80317076_commonspace-bladderinspon_subs-201_radius-10\n",
      "sub-M80303260_commonspace-bladderinspon_subs-201_radius-10\n",
      "sub-M80363982_commonspace-bladderinspon_subs-201_radius-10\n",
      "sub-M80362938_commonspace-bladderinspon_subs-201_radius-10\n",
      "sub-M80359226_commonspace-bladderinspon_subs-201_radius-10\n",
      "sub-M80323778_commonspace-bladderinspon_subs-201_radius-10\n",
      "sub-M80313660_commonspace-bladderinspon_subs-201_radius-10\n",
      "sub-M80398666_commonspace-bladderinspon_subs-201_radius-10\n",
      "sub-M80347052_commonspace-bladderinspon_subs-201_radius-10\n",
      "sub-M80389796_commonspace-bladderinspon_subs-201_radius-10\n",
      "sub-M80375912_commonspace-bladderinspon_subs-201_radius-10\n",
      "sub-M80348570_commonspace-bladderinspon_subs-201_radius-10\n",
      "sub-M80312814_commonspace-bladderinspon_subs-201_radius-10\n",
      "sub-M80399971_commonspace-bladderinspon_subs-201_radius-10\n",
      "sub-M80375622_commonspace-bladderinspon_subs-201_radius-10\n",
      "sub-M80395955_commonspace-bladderinspon_subs-201_radius-10\n",
      "sub-M80308229_commonspace-bladderinspon_subs-201_radius-10\n",
      "sub-M80366027_commonspace-bladderinspon_subs-201_radius-10\n",
      "sub-M80307015_commonspace-bladderinspon_subs-201_radius-10\n",
      "sub-M80354415_commonspace-bladderinspon_subs-201_radius-10\n",
      "sub-M80386647_commonspace-bladderinspon_subs-201_radius-10\n",
      "sub-M80349350_commonspace-bladderinspon_subs-201_radius-10\n",
      "sub-M80385355_commonspace-bladderinspon_subs-201_radius-10\n",
      "sub-M80304426_commonspace-bladderinspon_subs-201_radius-10\n",
      "sub-M80353136_commonspace-bladderinspon_subs-201_radius-10\n",
      "sub-M80330026_commonspace-bladderinspon_subs-201_radius-10\n",
      "sub-M80362271_commonspace-bladderinspon_subs-201_radius-10\n",
      "sub-M80333899_commonspace-bladderinspon_subs-201_radius-10\n",
      "sub-M80303741_commonspace-bladderinspon_subs-201_radius-10\n",
      "sub-M80311855_commonspace-bladderinspon_subs-201_radius-10\n",
      "sub-M80317666_commonspace-bladderinspon_subs-201_radius-10\n",
      "sub-M80302134_commonspace-bladderinspon_subs-201_radius-10\n",
      "sub-M80326904_commonspace-bladderinspon_subs-201_radius-10\n",
      "sub-M80357761_commonspace-bladderinspon_subs-201_radius-10\n",
      "sub-M80382492_commonspace-bladderinspon_subs-201_radius-10\n",
      "sub-M80304717_commonspace-bladderinspon_subs-201_radius-10\n",
      "sub-M80352280_commonspace-bladderinspon_subs-201_radius-10\n",
      "sub-M80394858_commonspace-bladderinspon_subs-201_radius-10\n",
      "sub-M80335769_commonspace-bladderinspon_subs-201_radius-10\n",
      "sub-M80346209_commonspace-bladderinspon_subs-201_radius-10\n",
      "sub-M80324276_commonspace-bladderinspon_subs-201_radius-10\n",
      "sub-M80306091_commonspace-bladderinspon_subs-201_radius-10\n",
      "sub-M80399337_commonspace-bladderinspon_subs-201_radius-10\n",
      "sub-M80370204_commonspace-bladderinspon_subs-201_radius-10\n",
      "sub-M80336970_commonspace-bladderinspon_subs-201_radius-10\n",
      "sub-M80366943_commonspace-bladderinspon_subs-201_radius-10\n",
      "sub-M80370264_commonspace-bladderinspon_subs-201_radius-10\n",
      "sub-M80310232_commonspace-bladderinspon_subs-201_radius-10\n",
      "sub-M80378375_commonspace-bladderinspon_subs-201_radius-10\n",
      "sub-M80384493_commonspace-bladderinspon_subs-201_radius-10\n",
      "sub-M80395867_commonspace-bladderinspon_subs-201_radius-10\n",
      "sub-M80399870_commonspace-bladderinspon_subs-201_radius-10\n",
      "sub-M80375510_commonspace-bladderinspon_subs-201_radius-10\n",
      "sub-M80356762_commonspace-bladderinspon_subs-201_radius-10\n",
      "sub-M80302799_commonspace-bladderinspon_subs-201_radius-10\n",
      "sub-M80341407_commonspace-bladderinspon_subs-201_radius-10\n",
      "sub-M80311578_commonspace-bladderinspon_subs-201_radius-10\n",
      "sub-M80318592_commonspace-bladderinspon_subs-201_radius-10\n",
      "sub-M80336083_commonspace-bladderinspon_subs-201_radius-10\n",
      "sub-M80354222_commonspace-bladderinspon_subs-201_radius-10\n",
      "sub-M80381069_commonspace-bladderinspon_subs-201_radius-10\n",
      "sub-M80340554_commonspace-bladderinspon_subs-201_radius-10\n",
      "sub-M80309149_commonspace-bladderinspon_subs-201_radius-10\n",
      "sub-M80394681_commonspace-bladderinspon_subs-201_radius-10\n",
      "sub-M80303079_commonspace-bladderinspon_subs-201_radius-10\n",
      "sub-M80362430_commonspace-bladderinspon_subs-201_radius-10\n",
      "sub-M80318234_commonspace-bladderinspon_subs-201_radius-10\n",
      "sub-M80326819_commonspace-bladderinspon_subs-201_radius-10\n",
      "sub-M80358852_commonspace-bladderinspon_subs-201_radius-10\n",
      "sub-M80390618_commonspace-bladderinspon_subs-201_radius-10\n",
      "sub-M80384594_commonspace-bladderinspon_subs-201_radius-10\n",
      "sub-M80385274_commonspace-bladderinspon_subs-201_radius-10\n",
      "sub-M80352006_commonspace-bladderinspon_subs-201_radius-10\n",
      "sub-M80337869_commonspace-bladderinspon_subs-201_radius-10\n",
      "sub-M80383944_commonspace-bladderinspon_subs-201_radius-10\n",
      "sub-M80326076_commonspace-bladderinspon_subs-201_radius-10\n",
      "sub-M80321641_commonspace-bladderinspon_subs-201_radius-10\n",
      "sub-M80320091_commonspace-bladderinspon_subs-201_radius-10\n",
      "sub-M80391055_commonspace-bladderinspon_subs-201_radius-10\n",
      "sub-M80395860_commonspace-bladderinspon_subs-201_radius-10\n",
      "sub-M80387602_commonspace-bladderinspon_subs-201_radius-10\n",
      "sub-M80310778_commonspace-bladderinspon_subs-201_radius-10\n",
      "sub-M80328211_commonspace-bladderinspon_subs-201_radius-10\n",
      "sub-M80387207_commonspace-bladderinspon_subs-201_radius-10\n",
      "sub-M80376269_commonspace-bladderinspon_subs-201_radius-10\n",
      "sub-M80374029_commonspace-bladderinspon_subs-201_radius-10\n",
      "sub-M80350874_commonspace-bladderinspon_subs-201_radius-10\n",
      "sub-M80372078_commonspace-bladderinspon_subs-201_radius-10\n",
      "sub-M80396887_commonspace-bladderinspon_subs-201_radius-10\n",
      "sub-M80320992_commonspace-bladderinspon_subs-201_radius-10\n",
      "sub-M80358201_commonspace-bladderinspon_subs-201_radius-10\n",
      "sub-M80312954_commonspace-bladderinspon_subs-201_radius-10\n",
      "sub-M80353545_commonspace-bladderinspon_subs-201_radius-10\n",
      "sub-M80341831_commonspace-bladderinspon_subs-201_radius-10\n",
      "sub-M80355749_commonspace-bladderinspon_subs-201_radius-10\n",
      "sub-M80316037_commonspace-bladderinspon_subs-201_radius-10\n",
      "sub-M80318910_commonspace-bladderinspon_subs-201_radius-10\n",
      "sub-M80392546_commonspace-bladderinspon_subs-201_radius-10\n",
      "sub-M80351906_commonspace-bladderinspon_subs-201_radius-10\n",
      "sub-M80393391_commonspace-bladderinspon_subs-201_radius-10\n",
      "sub-M80325092_commonspace-bladderinspon_subs-201_radius-10\n",
      "sub-M80306284_commonspace-bladderinspon_subs-201_radius-10\n",
      "sub-M80332055_commonspace-bladderinspon_subs-201_radius-10\n",
      "sub-M80371745_commonspace-bladderinspon_subs-201_radius-10\n",
      "sub-M80374205_commonspace-bladderinspon_subs-201_radius-10\n",
      "sub-M80309706_commonspace-bladderinspon_subs-201_radius-10\n",
      "sub-M80303770_commonspace-bladderinspon_subs-201_radius-10\n",
      "sub-M80354166_commonspace-bladderinspon_subs-201_radius-10\n",
      "sub-M80389422_commonspace-bladderinspon_subs-201_radius-10\n",
      "sub-M80398382_commonspace-bladderinspon_subs-201_radius-10\n",
      "sub-M80357658_commonspace-bladderinspon_subs-201_radius-10\n",
      "sub-M80306684_commonspace-bladderinspon_subs-201_radius-10\n",
      "sub-M80366570_commonspace-bladderinspon_subs-201_radius-10\n",
      "sub-M80358716_commonspace-bladderinspon_subs-201_radius-10\n",
      "sub-M80335113_commonspace-bladderinspon_subs-201_radius-10\n",
      "sub-M80386115_commonspace-bladderinspon_subs-201_radius-10\n",
      "sub-M80336524_commonspace-bladderinspon_subs-201_radius-10\n",
      "sub-M80336833_commonspace-bladderinspon_subs-201_radius-10\n",
      "sub-M80345437_commonspace-bladderinspon_subs-201_radius-10\n",
      "sub-M80384799_commonspace-bladderinspon_subs-201_radius-10\n",
      "sub-M80344908_commonspace-bladderinspon_subs-201_radius-10\n",
      "sub-M80387585_commonspace-bladderinspon_subs-201_radius-10\n",
      "sub-M80370470_commonspace-bladderinspon_subs-201_radius-10\n",
      "sub-M80345974_commonspace-bladderinspon_subs-201_radius-10\n",
      "sub-M80365873_commonspace-bladderinspon_subs-201_radius-10\n",
      "sub-M80362227_commonspace-bladderinspon_subs-201_radius-10\n",
      "sub-M80374686_commonspace-bladderinspon_subs-201_radius-10\n",
      "sub-M80305915_commonspace-bladderinspon_subs-201_radius-10\n",
      "sub-M80316294_commonspace-bladderinspon_subs-201_radius-10\n",
      "sub-M80316547_commonspace-bladderinspon_subs-201_radius-10\n",
      "sub-M80310618_commonspace-bladderinspon_subs-201_radius-10\n",
      "sub-M80309434_commonspace-bladderinspon_subs-201_radius-10\n",
      "sub-M80358953_commonspace-bladderinspon_subs-201_radius-10\n",
      "sub-M80347121_commonspace-bladderinspon_subs-201_radius-10\n",
      "sub-M80399265_commonspace-bladderinspon_subs-201_radius-10\n",
      "sub-M80321321_commonspace-bladderinspon_subs-201_radius-10\n",
      "sub-M80384692_commonspace-bladderinspon_subs-201_radius-10\n",
      "sub-M80326890_commonspace-bladderinspon_subs-201_radius-10\n",
      "sub-M80321756_commonspace-bladderinspon_subs-201_radius-10\n",
      "sub-M80340863_commonspace-bladderinspon_subs-201_radius-10\n",
      "sub-M80311434_commonspace-bladderinspon_subs-201_radius-10\n",
      "sub-M80349728_commonspace-bladderinspon_subs-201_radius-10\n",
      "sub-M80322778_commonspace-bladderinspon_subs-201_radius-10\n",
      "sub-M80328328_commonspace-bladderinspon_subs-201_radius-10\n",
      "sub-M80304397_commonspace-bladderinspon_subs-201_radius-10\n",
      "sub-M80316833_commonspace-bladderinspon_subs-201_radius-10\n",
      "sub-M80397077_commonspace-bladderinspon_subs-201_radius-10\n",
      "sub-M80352012_commonspace-bladderinspon_subs-201_radius-10\n",
      "sub-M80338105_commonspace-bladderinspon_subs-201_radius-10\n",
      "sub-M80373984_commonspace-bladderinspon_subs-201_radius-10\n",
      "sub-M80338269_commonspace-bladderinspon_subs-201_radius-10\n",
      "sub-M80351764_commonspace-bladderinspon_subs-201_radius-10\n",
      "sub-M80328230_commonspace-bladderinspon_subs-201_radius-10\n",
      "sub-M80310278_commonspace-bladderinspon_subs-201_radius-10\n",
      "sub-M80373165_commonspace-bladderinspon_subs-201_radius-10\n",
      "sub-M80385201_commonspace-bladderinspon_subs-201_radius-10\n",
      "sub-M80370429_commonspace-bladderinspon_subs-201_radius-10\n",
      "sub-M80318052_commonspace-bladderinspon_subs-201_radius-10\n",
      "sub-M80305800_commonspace-bladderinspon_subs-201_radius-10\n",
      "sub-M80373786_commonspace-bladderinspon_subs-201_radius-10\n",
      "sub-M80334610_commonspace-bladderinspon_subs-201_radius-10\n",
      "sub-M80316805_commonspace-bladderinspon_subs-201_radius-10\n",
      "sub-M80326848_commonspace-bladderinspon_subs-201_radius-10\n",
      "sub-M80344098_commonspace-bladderinspon_subs-201_radius-10\n",
      "sub-M80341498_commonspace-bladderinspon_subs-201_radius-10\n",
      "sub-M80395778_commonspace-bladderinspon_subs-201_radius-10\n",
      "sub-M80344484_commonspace-bladderinspon_subs-201_radius-10\n",
      "sub-M80390646_commonspace-bladderinspon_subs-201_radius-10\n",
      "sub-M80349405_commonspace-bladderinspon_subs-201_radius-10\n",
      "sub-M80313658_commonspace-bladderinspon_subs-201_radius-10\n",
      "sub-M80363223_commonspace-bladderinspon_subs-201_radius-10\n",
      "sub-M80396900_commonspace-bladderinspon_subs-201_radius-10\n",
      "sub-M80385728_commonspace-bladderinspon_subs-201_radius-10\n",
      "sub-M80336871_commonspace-bladderinspon_subs-201_radius-10\n",
      "sub-M80365070_commonspace-bladderinspon_subs-201_radius-10\n",
      "sub-M80369881_commonspace-bladderinspon_subs-201_radius-10\n",
      "sub-M80343725_commonspace-bladderinspon_subs-201_radius-10\n",
      "sub-M80358718_commonspace-bladderinspon_subs-201_radius-10\n",
      "sub-M80317101_commonspace-bladderinspon_subs-201_radius-10\n",
      "sub-M80369669_commonspace-bladderinspon_subs-201_radius-10\n",
      "sub-M80360072_commonspace-bladderinspon_subs-201_radius-10\n",
      "sub-M80388445_commonspace-bladderinspon_subs-201_radius-10\n",
      "sub-M80328207_commonspace-bladderinspon_subs-201_radius-10\n",
      "sub-M80305453_commonspace-bladderinspon_subs-201_radius-10\n",
      "sub-M80378427_commonspace-bladderinspon_subs-201_radius-10\n"
     ]
    }
   ],
   "source": [
    "for sub in myfiles:\n",
    "    mysub = mv.Dataset(np.load(sub))\n",
    "    savepath = os.path.join(datadir, os.path.split(sub)[1][0:-4] + '.hdf5.gz')\n",
    "    h5save(savepath, mysub)"
   ]
  },
  {
   "cell_type": "code",
   "execution_count": 10,
   "metadata": {},
   "outputs": [],
   "source": [
    "savepath = '/dartfs-hpc/rc/home/1/f0040y1'\n",
    "mysub = mv.Dataset(np.load(myfiles[0]))\n",
    "savepath = os.path.join(datadir, os.path.split(myfiles[0])[1][0:-4] + '.hdf5.gz')\n",
    "h5save(savepath, mysub)"
   ]
  },
  {
   "cell_type": "code",
   "execution_count": 2,
   "metadata": {},
   "outputs": [],
   "source": [
    "thisf = '/dartfs-hpc/rc/lab/C/CANlab/labdata/projects/OLP4CBP/hyperalignment/common_spaces/bladderpain/commonspace_subs-201_radius-10/sub-M80399971_commonspace-bladderinspon_subs-201_radius-10.hdf5.gz'"
   ]
  },
  {
   "cell_type": "code",
   "execution_count": 9,
   "metadata": {},
   "outputs": [
    {
     "data": {
      "text/plain": [
       "'/dartfs-hpc/rc/home/1/f0040y1/CANlab/labdata/projects/OLP4CBP/hyperalignment/common_spaces/bladderpain/commonspace_subs-201_radius-10/sub-M80340964_commonspace-bladderinspon_subs-201_radius-10.npy'"
      ]
     },
     "execution_count": 9,
     "metadata": {},
     "output_type": "execute_result"
    }
   ],
   "source": [
    "myfiles[0]"
   ]
  },
  {
   "cell_type": "code",
   "execution_count": 4,
   "metadata": {},
   "outputs": [
    {
     "data": {
      "text/plain": [
       "Dataset(array([[ -295.70522385,  1485.03352022,  -693.59557623, ...,\n",
       "        -2906.24523127, -2790.89092832,  3706.42371958],\n",
       "       [ -327.17026107,  1546.23675635,  -703.49562868, ...,\n",
       "        -2781.23489576, -2620.01382654,  3813.4041165 ],\n",
       "       [ -283.95250925,  1489.94313105,  -729.3628816 , ...,\n",
       "        -2963.62546293, -2805.63831606,  3561.20472891],\n",
       "       ...,\n",
       "       [ -324.26858157,  1525.34413066,  -688.21894141, ...,\n",
       "        -2825.46009998, -2763.49212381,  3636.50555872],\n",
       "       [ -350.76792331,  1554.42140065,  -703.99495342, ...,\n",
       "        -2862.67530517, -2752.49645565,  3380.1771269 ],\n",
       "       [ -331.0620521 ,  1572.47979168,  -692.57011872, ...,\n",
       "        -2840.92696002, -2731.94715155,  3563.0964053 ]]), sa=SampleAttributesCollection(items=[]), fa=FeatureAttributesCollection(items=[]), a=DatasetAttributesCollection(items=[]))"
      ]
     },
     "execution_count": 4,
     "metadata": {},
     "output_type": "execute_result"
    }
   ],
   "source": [
    "x"
   ]
  },
  {
   "cell_type": "code",
   "execution_count": 2,
   "metadata": {},
   "outputs": [],
   "source": [
    "bladderdir = '/dartfs-hpc/rc/home/1/f0040y1/CANlab/labdata/projects/OLP4CBP/hyperalignment/data/cleaned_bladder'\n",
    "spondir = '/dartfs-hpc/rc/home/1/f0040y1/CANlab/labdata/projects/OLP4CBP/hyperalignment/common_spaces/bladderpain/commonspace_subs-201_radius-10'"
   ]
  },
  {
   "cell_type": "code",
   "execution_count": 26,
   "metadata": {},
   "outputs": [],
   "source": [
    "import nibabel as nib\n",
    "ds = nib.load('canlab_atlas_for_CHA.nii').get_fdata()"
   ]
  },
  {
   "cell_type": "code",
   "execution_count": 28,
   "metadata": {},
   "outputs": [
    {
     "data": {
      "text/plain": [
       "(91, 109, 91)"
      ]
     },
     "execution_count": 28,
     "metadata": {},
     "output_type": "execute_result"
    }
   ],
   "source": [
    "ds.shape"
   ]
  },
  {
   "cell_type": "code",
   "execution_count": 21,
   "metadata": {},
   "outputs": [
    {
     "ename": "AttributeError",
     "evalue": "'memmap' object has no attribute 'header'",
     "output_type": "error",
     "traceback": [
      "\u001b[0;31m---------------------------------------------------------------------------\u001b[0m",
      "\u001b[0;31mAttributeError\u001b[0m                            Traceback (most recent call last)",
      "\u001b[0;32m<ipython-input-21-8057608c716f>\u001b[0m in \u001b[0;36m<module>\u001b[0;34m()\u001b[0m\n\u001b[0;32m----> 1\u001b[0;31m \u001b[0mds\u001b[0m\u001b[0;34m.\u001b[0m\u001b[0mheader\u001b[0m\u001b[0;34m\u001b[0m\u001b[0m\n\u001b[0m",
      "\u001b[0;31mAttributeError\u001b[0m: 'memmap' object has no attribute 'header'"
     ]
    }
   ],
   "source": [
    "ds.get_fdata()"
   ]
  },
  {
   "cell_type": "code",
   "execution_count": 29,
   "metadata": {},
   "outputs": [
    {
     "name": "stderr",
     "output_type": "stream",
     "text": [
      "/dartfs-hpc/rc/home/1/f0040y1/.local/lib/python2.7/site-packages/mvpa2/testing/tools.py:81: DeprecationWarning: Importing from numpy.testing.decorators is deprecated since numpy 1.15.0, import from numpy.testing instead.\n",
      "  from numpy.testing.decorators import skipif\n",
      "/optnfs/common/miniconda3/envs/anaconda2/lib/python2.7/site-packages/_pytest/mark/structures.py:383: DeprecationWarning: The usage of `cmp` is deprecated and will be removed on or after 2021-06-01.  Please use `eq` and `order` instead.\n",
      "  @attr.s(cmp=False, hash=False)\n"
     ]
    }
   ],
   "source": [
    "import mvpa2.suite as mv"
   ]
  },
  {
   "cell_type": "code",
   "execution_count": 37,
   "metadata": {},
   "outputs": [
    {
     "name": "stdout",
     "output_type": "stream",
     "text": [
      "/dartfs-hpc/rc/lab/C/CANlab/labdata/projects/OLP4CBP/hyperalignment/parcelwise/helper_files\n"
     ]
    }
   ],
   "source": [
    "cd ../parcelwise/helper_files/"
   ]
  },
  {
   "cell_type": "code",
   "execution_count": 39,
   "metadata": {},
   "outputs": [
    {
     "ename": "ValueError",
     "evalue": "Cannot load file containing pickled data when allow_pickle=False",
     "output_type": "error",
     "traceback": [
      "\u001b[0;31m---------------------------------------------------------------------------\u001b[0m",
      "\u001b[0;31mValueError\u001b[0m                                Traceback (most recent call last)",
      "\u001b[0;32m<ipython-input-39-14632fbf0c32>\u001b[0m in \u001b[0;36m<module>\u001b[0;34m()\u001b[0m\n\u001b[0;32m----> 1\u001b[0;31m \u001b[0mnp\u001b[0m\u001b[0;34m.\u001b[0m\u001b[0mload\u001b[0m\u001b[0;34m(\u001b[0m\u001b[0;34m'resampled_canlab2018_2mm_mask.mat'\u001b[0m\u001b[0;34m)\u001b[0m\u001b[0;34m\u001b[0m\u001b[0m\n\u001b[0m",
      "\u001b[0;32m/optnfs/common/miniconda3/envs/anaconda2/lib/python2.7/site-packages/numpy/lib/npyio.pyc\u001b[0m in \u001b[0;36mload\u001b[0;34m(file, mmap_mode, allow_pickle, fix_imports, encoding)\u001b[0m\n\u001b[1;32m    449\u001b[0m             \u001b[0;31m# Try a pickle\u001b[0m\u001b[0;34m\u001b[0m\u001b[0;34m\u001b[0m\u001b[0m\n\u001b[1;32m    450\u001b[0m             \u001b[0;32mif\u001b[0m \u001b[0;32mnot\u001b[0m \u001b[0mallow_pickle\u001b[0m\u001b[0;34m:\u001b[0m\u001b[0;34m\u001b[0m\u001b[0m\n\u001b[0;32m--> 451\u001b[0;31m                 raise ValueError(\"Cannot load file containing pickled data \"\n\u001b[0m\u001b[1;32m    452\u001b[0m                                  \"when allow_pickle=False\")\n\u001b[1;32m    453\u001b[0m             \u001b[0;32mtry\u001b[0m\u001b[0;34m:\u001b[0m\u001b[0;34m\u001b[0m\u001b[0m\n",
      "\u001b[0;31mValueError\u001b[0m: Cannot load file containing pickled data when allow_pickle=False"
     ]
    }
   ],
   "source": [
    "np.load('resampled_canlab2018_2mm_mask.mat')"
   ]
  },
  {
   "cell_type": "code",
   "execution_count": null,
   "metadata": {},
   "outputs": [],
   "source": []
  }
 ],
 "metadata": {
  "kernelspec": {
   "display_name": "Python 2",
   "language": "python",
   "name": "python2"
  },
  "language_info": {
   "codemirror_mode": {
    "name": "ipython",
    "version": 2
   },
   "file_extension": ".py",
   "mimetype": "text/x-python",
   "name": "python",
   "nbconvert_exporter": "python",
   "pygments_lexer": "ipython2",
   "version": "2.7.15"
  }
 },
 "nbformat": 4,
 "nbformat_minor": 2
}
